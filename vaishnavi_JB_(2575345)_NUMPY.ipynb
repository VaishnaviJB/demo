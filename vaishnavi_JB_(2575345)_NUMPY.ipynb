{
  "nbformat": 4,
  "nbformat_minor": 0,
  "metadata": {
    "colab": {
      "provenance": [],
      "authorship_tag": "ABX9TyNfH2cQVDdRtNDXBuygY1k1",
      "include_colab_link": true
    },
    "kernelspec": {
      "name": "python3",
      "display_name": "Python 3"
    },
    "language_info": {
      "name": "python"
    }
  },
  "cells": [
    {
      "cell_type": "markdown",
      "metadata": {
        "id": "view-in-github",
        "colab_type": "text"
      },
      "source": [
        "<a href=\"https://colab.research.google.com/github/VaishnaviJB/demo/blob/main/vaishnavi_JB_(2575345)_NUMPY.ipynb\" target=\"_parent\"><img src=\"https://colab.research.google.com/assets/colab-badge.svg\" alt=\"Open In Colab\"/></a>"
      ]
    },
    {
      "cell_type": "code",
      "execution_count": null,
      "metadata": {
        "id": "dvgxNXWJ8YAK"
      },
      "outputs": [],
      "source": []
    },
    {
      "cell_type": "markdown",
      "source": [
        "1.create a 3x3x3 array with random values"
      ],
      "metadata": {
        "id": "OebnxMz79BA4"
      }
    },
    {
      "cell_type": "code",
      "source": [
        "import numpy as np\n",
        "\n",
        "# Create a 3x3x3 array with random values between 0 and 1\n",
        "random_array = np.random.rand(3, 3, 3)\n",
        "\n",
        "print(random_array)"
      ],
      "metadata": {
        "colab": {
          "base_uri": "https://localhost:8080/"
        },
        "id": "evZX8p4_9GlN",
        "outputId": "4608c30d-29e2-45fa-b09c-2b55d08d6b1b"
      },
      "execution_count": 1,
      "outputs": [
        {
          "output_type": "stream",
          "name": "stdout",
          "text": [
            "[[[0.69990312 0.14361475 0.35707323]\n",
            "  [0.10208965 0.60985869 0.16254031]\n",
            "  [0.56429888 0.01292979 0.44486186]]\n",
            "\n",
            " [[0.19586244 0.07518663 0.70435494]\n",
            "  [0.6228839  0.24741148 0.53508564]\n",
            "  [0.0608582  0.22465866 0.27090324]]\n",
            "\n",
            " [[0.77231272 0.31648302 0.34991991]\n",
            "  [0.88453796 0.15168492 0.04175655]\n",
            "  [0.0106841  0.19747905 0.23516638]]]\n"
          ]
        }
      ]
    },
    {
      "cell_type": "markdown",
      "source": [
        "2.create a 5x5 matrix with values 1,2,3,4 just below the diagonal"
      ],
      "metadata": {
        "id": "DT7AA2QZ9RUE"
      }
    },
    {
      "cell_type": "code",
      "source": [
        "import numpy as np\n",
        "\n",
        "# Create a 5x5 matrix filled with zeros\n",
        "matrix = np.zeros((5, 5))\n",
        "\n",
        "# Set values 1, 2, 3, 4 just below the diagonal\n",
        "values = [1, 2, 3, 4]\n",
        "for i in range(1, 5):\n",
        "    matrix[i, i - 1] = values[i - 1]\n",
        "\n",
        "print(matrix)"
      ],
      "metadata": {
        "colab": {
          "base_uri": "https://localhost:8080/"
        },
        "id": "7RaPOQQC9V1k",
        "outputId": "1c0d8172-732c-4448-9ac2-b37f6ab1d5a2"
      },
      "execution_count": 2,
      "outputs": [
        {
          "output_type": "stream",
          "name": "stdout",
          "text": [
            "[[0. 0. 0. 0. 0.]\n",
            " [1. 0. 0. 0. 0.]\n",
            " [0. 2. 0. 0. 0.]\n",
            " [0. 0. 3. 0. 0.]\n",
            " [0. 0. 0. 4. 0.]]\n"
          ]
        }
      ]
    },
    {
      "cell_type": "markdown",
      "source": [
        "3.create a 8x8 matrix and fill it with a checker board pattern"
      ],
      "metadata": {
        "id": "_M7UsIgV9YN5"
      }
    },
    {
      "cell_type": "code",
      "source": [
        "import numpy as np\n",
        "\n",
        "# Create an 8x8 matrix filled with zeros\n",
        "matrix = np.zeros((8, 8))\n",
        "\n",
        "# Use slicing to set alternate rows and columns to 1\n",
        "matrix[1::2, ::2] = 1\n",
        "matrix[::2, 1::2] = 1\n",
        "\n",
        "print(matrix)"
      ],
      "metadata": {
        "colab": {
          "base_uri": "https://localhost:8080/"
        },
        "id": "ulaCFp1j9cCy",
        "outputId": "272bbe14-cb8b-4bd8-970f-8b8cd0d29f77"
      },
      "execution_count": 3,
      "outputs": [
        {
          "output_type": "stream",
          "name": "stdout",
          "text": [
            "[[0. 1. 0. 1. 0. 1. 0. 1.]\n",
            " [1. 0. 1. 0. 1. 0. 1. 0.]\n",
            " [0. 1. 0. 1. 0. 1. 0. 1.]\n",
            " [1. 0. 1. 0. 1. 0. 1. 0.]\n",
            " [0. 1. 0. 1. 0. 1. 0. 1.]\n",
            " [1. 0. 1. 0. 1. 0. 1. 0.]\n",
            " [0. 1. 0. 1. 0. 1. 0. 1.]\n",
            " [1. 0. 1. 0. 1. 0. 1. 0.]]\n"
          ]
        }
      ]
    },
    {
      "cell_type": "markdown",
      "source": [
        "5. How to find common value between two arrays"
      ],
      "metadata": {
        "id": "bN34EG329jGN"
      }
    },
    {
      "cell_type": "code",
      "source": [
        "import numpy as np\n",
        "\n",
        "# Create two NumPy arrays\n",
        "array1 = np.array([1, 2, 3, 4, 5])\n",
        "array2 = np.array([3, 4, 5, 6, 7])\n",
        "\n",
        "# Find common values between the two arrays\n",
        "common_values = np.intersect1d(array1, array2)\n",
        "\n",
        "print(\"Common values:\", common_values)"
      ],
      "metadata": {
        "colab": {
          "base_uri": "https://localhost:8080/"
        },
        "id": "nkLYaZfb9nPv",
        "outputId": "60415017-9de1-495a-ffbc-8982f0ea816e"
      },
      "execution_count": 18,
      "outputs": [
        {
          "output_type": "stream",
          "name": "stdout",
          "text": [
            "Common values: [3 4 5]\n"
          ]
        }
      ]
    },
    {
      "cell_type": "markdown",
      "source": [
        "4.normalize a 5x5  random matrix"
      ],
      "metadata": {
        "id": "gnDX_UUg9upl"
      }
    },
    {
      "cell_type": "code",
      "source": [
        "import numpy as np\n",
        "\n",
        "# Create a 5x5 random matrix\n",
        "random_matrix = np.random.rand(5, 5)\n",
        "\n",
        "# Calculate mean and standard deviation\n",
        "mean = np.mean(random_matrix)\n",
        "std_dev = np.std(random_matrix)\n",
        "\n",
        "# Normalize the matrix\n",
        "normalized_matrix = (random_matrix - mean) / std_dev\n",
        "\n",
        "print(\"Original Random Matrix:\")\n",
        "print(random_matrix)\n",
        "print(\"\\nNormalized Matrix:\")\n",
        "print(normalized_matrix)"
      ],
      "metadata": {
        "colab": {
          "base_uri": "https://localhost:8080/"
        },
        "id": "D5GMFfI-99hN",
        "outputId": "07d9a493-2b85-40fb-cb56-0b43c2996182"
      },
      "execution_count": 5,
      "outputs": [
        {
          "output_type": "stream",
          "name": "stdout",
          "text": [
            "Original Random Matrix:\n",
            "[[0.51770029 0.56695462 0.46644187 0.90757998 0.95963194]\n",
            " [0.09043837 0.7015235  0.04717852 0.03784496 0.88598812]\n",
            " [0.88801907 0.8875438  0.73191157 0.50502766 0.43582207]\n",
            " [0.33093624 0.29532217 0.3094904  0.25336692 0.9882433 ]\n",
            " [0.62476204 0.16330517 0.72403722 0.66452369 0.40992307]]\n",
            "\n",
            "Normalized Matrix:\n",
            "[[-0.06215199  0.10753713 -0.23874556  1.28104654  1.46037397]\n",
            " [-1.53413838  0.57114868 -1.68317555 -1.71533118  1.2066591 ]\n",
            " [ 1.21365604  1.21201868  0.67584049 -0.10581124 -0.34423569]\n",
            " [-0.70558432 -0.82828056 -0.77946873 -0.9728232   1.55894474]\n",
            " [ 0.30669304 -1.28310048  0.64871207  0.44367833 -0.43346195]]\n"
          ]
        }
      ]
    },
    {
      "cell_type": "markdown",
      "source": [
        "6. How to get the dates of yesterday, today, tomorrow."
      ],
      "metadata": {
        "id": "7GtnE-98-Ai5"
      }
    },
    {
      "cell_type": "code",
      "source": [
        "import numpy as np\n",
        "from datetime import datetime, timedelta\n",
        "\n",
        "# Get the current date (today)\n",
        "today = datetime.now().date()\n",
        "\n",
        "# Calculate yesterday and tomorrow\n",
        "yesterday = today - timedelta(days=1)\n",
        "tomorrow = today + timedelta(days=1)\n",
        "\n",
        "# Create NumPy arrays for the dates\n",
        "dates = np.array([yesterday, today, tomorrow])\n",
        "\n",
        "# Format the dates as strings if needed\n",
        "date_strings = [date.strftime(\"%Y-%m-%d\") for date in dates]\n",
        "\n",
        "print(\"Yesterday:\", date_strings[0])\n",
        "print(\"Today:\", date_strings[1])\n",
        "print(\"Tomorrow:\", date_strings[2])"
      ],
      "metadata": {
        "colab": {
          "base_uri": "https://localhost:8080/"
        },
        "id": "wimxIfL0-G_-",
        "outputId": "fb6ffd9c-8f8d-4eeb-cc2d-1e6d7dd3c7e6"
      },
      "execution_count": 6,
      "outputs": [
        {
          "output_type": "stream",
          "name": "stdout",
          "text": [
            "Yesterday: 2023-09-20\n",
            "Today: 2023-09-21\n",
            "Tomorrow: 2023-09-22\n"
          ]
        }
      ]
    },
    {
      "cell_type": "markdown",
      "source": [
        "7.consider two random array A and B check if they are equal"
      ],
      "metadata": {
        "id": "GG5jqABh-UQV"
      }
    },
    {
      "cell_type": "code",
      "source": [
        "import numpy as np\n",
        "\n",
        "# Generate two random arrays A and B\n",
        "A = np.random.rand(5, 5)\n",
        "B = np.random.rand(5, 5)\n",
        "\n",
        "# Check if the arrays are equal\n",
        "if np.array_equal(A, B):\n",
        "    print(\"Arrays A and B are equal.\")\n",
        "else:\n",
        "    print(\"Arrays A and B are not equal.\")"
      ],
      "metadata": {
        "colab": {
          "base_uri": "https://localhost:8080/"
        },
        "id": "6_VrUCKy-Vju",
        "outputId": "08023e96-ae08-472b-9171-eb0ce9424e9d"
      },
      "execution_count": 7,
      "outputs": [
        {
          "output_type": "stream",
          "name": "stdout",
          "text": [
            "Arrays A and B are not equal.\n"
          ]
        }
      ]
    },
    {
      "cell_type": "markdown",
      "source": [
        "8.create a random vector of size 10 and replace the maximum value by 0"
      ],
      "metadata": {
        "id": "8h3iIrIP-ahi"
      }
    },
    {
      "cell_type": "code",
      "source": [
        "import numpy as np\n",
        "\n",
        "# Create a random vector of size 10\n",
        "random_vector = np.random.rand(10)\n",
        "\n",
        "# Find the index of the maximum value in the vector\n",
        "max_index = np.argmax(random_vector)\n",
        "\n",
        "# Replace the maximum value with 0\n",
        "random_vector[max_index] = 0\n",
        "\n",
        "print(\"Random Vector:\")\n",
        "print(random_vector)"
      ],
      "metadata": {
        "colab": {
          "base_uri": "https://localhost:8080/"
        },
        "id": "OJJWJtDr-kz1",
        "outputId": "7de6b9c8-7986-4f61-fd4d-571c4587abbc"
      },
      "execution_count": 8,
      "outputs": [
        {
          "output_type": "stream",
          "name": "stdout",
          "text": [
            "Random Vector:\n",
            "[0.37506029 0.76343289 0.42726803 0.86534782 0.21652665 0.23916497\n",
            " 0.52473281 0.03329173 0.16459014 0.        ]\n"
          ]
        }
      ]
    },
    {
      "cell_type": "markdown",
      "source": [
        "9. How to print all the values of an array."
      ],
      "metadata": {
        "id": "qpXxiAbS-nRv"
      }
    },
    {
      "cell_type": "code",
      "source": [
        "import numpy as np\n",
        "\n",
        "# Create a NumPy array\n",
        "my_array = np.array([1, 2, 3, 4, 5])\n",
        "\n",
        "# Iterate through the array and print each value\n",
        "for value in my_array:\n",
        "    print(value)"
      ],
      "metadata": {
        "colab": {
          "base_uri": "https://localhost:8080/"
        },
        "id": "MFgJHATr-rdc",
        "outputId": "6adf783b-e06a-45f5-d944-8f54a77a7250"
      },
      "execution_count": 9,
      "outputs": [
        {
          "output_type": "stream",
          "name": "stdout",
          "text": [
            "1\n",
            "2\n",
            "3\n",
            "4\n",
            "5\n"
          ]
        }
      ]
    },
    {
      "cell_type": "markdown",
      "source": [
        "10.subtract the mean of each row of a matrix"
      ],
      "metadata": {
        "id": "MPQLc_Sa-xL4"
      }
    },
    {
      "cell_type": "code",
      "source": [
        "import numpy as np\n",
        "\n",
        "# Create a sample matrix (you can replace this with your own matrix)\n",
        "matrix = np.array([[1, 2, 3],\n",
        "                   [4, 5, 6],\n",
        "                   [7, 8, 9]])\n",
        "\n",
        "# Calculate the mean of each row\n",
        "row_means = np.mean(matrix, axis=1, keepdims=True)\n",
        "\n",
        "# Subtract the row means from the matrix using broadcasting\n",
        "normalized_matrix = matrix - row_means\n",
        "\n",
        "print(\"Original Matrix:\")\n",
        "print(matrix)\n",
        "print(\"\\nMatrix with Row Means Subtracted:\")\n",
        "print(normalized_matrix)"
      ],
      "metadata": {
        "colab": {
          "base_uri": "https://localhost:8080/"
        },
        "id": "2r4Rtd0J-0Wg",
        "outputId": "3a5b6589-8502-4f27-d969-8ec464636518"
      },
      "execution_count": 10,
      "outputs": [
        {
          "output_type": "stream",
          "name": "stdout",
          "text": [
            "Original Matrix:\n",
            "[[1 2 3]\n",
            " [4 5 6]\n",
            " [7 8 9]]\n",
            "\n",
            "Matrix with Row Means Subtracted:\n",
            "[[-1.  0.  1.]\n",
            " [-1.  0.  1.]\n",
            " [-1.  0.  1.]]\n"
          ]
        }
      ]
    },
    {
      "cell_type": "markdown",
      "source": [
        "11.consider a given vector how to add 1 to each element indexed by a second vector(be careful with repeated indices)?"
      ],
      "metadata": {
        "id": "UFV86w8O-6g_"
      }
    },
    {
      "cell_type": "code",
      "source": [
        "import numpy as np\n",
        "\n",
        "# Given vector\n",
        "given_vector = np.array([10, 20, 30, 40, 50])\n",
        "\n",
        "# Second vector with indices\n",
        "indices_to_add_1 = np.array([1, 2, 3, 3, 4])\n",
        "\n",
        "# Find unique indices and their counts\n",
        "unique_indices, counts = np.unique(indices_to_add_1, return_counts=True)\n",
        "\n",
        "# Add 1 to each element at the unique indices\n",
        "given_vector[unique_indices] += counts\n",
        "\n",
        "print(\"Given Vector:\")\n",
        "print(given_vector)"
      ],
      "metadata": {
        "colab": {
          "base_uri": "https://localhost:8080/"
        },
        "id": "ZLobQeJH--o3",
        "outputId": "f0aaecdd-be9b-40f1-f687-8cc26ee25f98"
      },
      "execution_count": 11,
      "outputs": [
        {
          "output_type": "stream",
          "name": "stdout",
          "text": [
            "Given Vector:\n",
            "[10 21 31 42 51]\n"
          ]
        }
      ]
    },
    {
      "cell_type": "markdown",
      "source": [
        "12. How to get a diagonal of dot product?"
      ],
      "metadata": {
        "id": "WGbem4B0_EnP"
      }
    },
    {
      "cell_type": "code",
      "source": [
        "import numpy as np\n",
        "\n",
        "# Create two matrices\n",
        "matrix1 = np.array([[1, 2], [3, 4]])\n",
        "matrix2 = np.array([[5, 6], [7, 8]])\n",
        "\n",
        "# Compute the dot product of the two matrices\n",
        "dot_product = np.dot(matrix1, matrix2)\n",
        "\n",
        "# Extract the diagonal elements using np.diag\n",
        "diagonal_elements = np.diag(dot_product)\n",
        "\n",
        "print(\"Dot Product:\")\n",
        "print(dot_product)\n",
        "\n",
        "print(\"\\nDiagonal Elements:\")\n",
        "print(diagonal_elements)"
      ],
      "metadata": {
        "colab": {
          "base_uri": "https://localhost:8080/"
        },
        "id": "c1TmwxmE_eCv",
        "outputId": "bf425d2b-6e6f-4a73-a479-7c8dcc2b9ea4"
      },
      "execution_count": 12,
      "outputs": [
        {
          "output_type": "stream",
          "name": "stdout",
          "text": [
            "Dot Product:\n",
            "[[19 22]\n",
            " [43 50]]\n",
            "\n",
            "Diagonal Elements:\n",
            "[19 50]\n"
          ]
        }
      ]
    },
    {
      "cell_type": "markdown",
      "source": [
        "13.How to find the most frequent value in an array?"
      ],
      "metadata": {
        "id": "oyoJwnym_mJQ"
      }
    },
    {
      "cell_type": "code",
      "source": [
        "import numpy as np\n",
        "\n",
        "# Create a NumPy array (you can replace this with your own array)\n",
        "arr = np.array([1, 2, 2, 3, 3, 3, 4, 4, 4, 4, 5])\n",
        "\n",
        "# Find the most frequent value\n",
        "most_frequent_value = np.bincount(arr).argmax()\n",
        "\n",
        "print(\"Most frequent value:\", most_frequent_value)"
      ],
      "metadata": {
        "colab": {
          "base_uri": "https://localhost:8080/"
        },
        "id": "Lm5GsWeI_sIy",
        "outputId": "e3b86fa5-bea5-4365-dadb-050c79e5b721"
      },
      "execution_count": 13,
      "outputs": [
        {
          "output_type": "stream",
          "name": "stdout",
          "text": [
            "Most frequent value: 4\n"
          ]
        }
      ]
    },
    {
      "cell_type": "markdown",
      "source": [
        "14.How to get the n largest values of an array"
      ],
      "metadata": {
        "id": "k5vEJHb7_ydb"
      }
    },
    {
      "cell_type": "code",
      "source": [
        "import numpy as np\n",
        "\n",
        "# Create a NumPy array (you can replace this with your own array)\n",
        "arr = np.array([5, 2, 8, 1, 9, 3, 7, 4, 6])\n",
        "\n",
        "# Get the n largest values (e.g., n=3)\n",
        "n = 3\n",
        "n_largest_values = np.partition(arr, -n)[-n:]\n",
        "\n",
        "print(\"N largest values:\", n_largest_values)"
      ],
      "metadata": {
        "colab": {
          "base_uri": "https://localhost:8080/"
        },
        "id": "Bsk1kP07_29T",
        "outputId": "4491d6c0-d5cc-4702-a6e9-f1bf669648da"
      },
      "execution_count": 14,
      "outputs": [
        {
          "output_type": "stream",
          "name": "stdout",
          "text": [
            "N largest values: [7 8 9]\n"
          ]
        }
      ]
    },
    {
      "cell_type": "markdown",
      "source": [
        "15.How to create a record array from a regular array?"
      ],
      "metadata": {
        "id": "M6Zj3tLY_7Wl"
      }
    },
    {
      "cell_type": "code",
      "source": [
        "import numpy as np\n",
        "\n",
        "# Create a regular array\n",
        "regular_array = np.array([(1, 'Alice', 25),\n",
        "                          (2, 'Bob', 30),\n",
        "                          (3, 'Charlie', 22)],\n",
        "                         dtype=[('ID', int), ('Name', 'U10'), ('Age', int)])\n",
        "\n",
        "# 'ID', 'Name', and 'Age' are the field names, and their data types are specified.\n",
        "\n",
        "# Accessing data in the record array\n",
        "print(\"ID:\", regular_array['ID'])\n",
        "print(\"Name:\", regular_array['Name'])\n",
        "print(\"Age:\", regular_array['Age'])"
      ],
      "metadata": {
        "colab": {
          "base_uri": "https://localhost:8080/"
        },
        "id": "hbG8TG4AASlB",
        "outputId": "3b5e6466-6532-47f2-8786-77d07d356d5e"
      },
      "execution_count": 16,
      "outputs": [
        {
          "output_type": "stream",
          "name": "stdout",
          "text": [
            "ID: [1 2 3]\n",
            "Name: ['Alice' 'Bob' 'Charlie']\n",
            "Age: [25 30 22]\n"
          ]
        }
      ]
    },
    {
      "cell_type": "markdown",
      "source": [
        "16. How to swap two rows of an array?"
      ],
      "metadata": {
        "id": "cIBNxeSgAImO"
      }
    },
    {
      "cell_type": "code",
      "source": [
        "import numpy as np\n",
        "\n",
        "# Create a NumPy array\n",
        "my_array = np.array([[1, 2, 3],\n",
        "                     [4, 5, 6],\n",
        "                     [7, 8, 9]])\n",
        "\n",
        "# Swap rows (for example, swapping row 0 and row 1)\n",
        "my_array[0, :], my_array[1, :] = my_array[1, :], my_array[0, :]\n",
        "\n",
        "# Print the modified array\n",
        "print(my_array)"
      ],
      "metadata": {
        "colab": {
          "base_uri": "https://localhost:8080/"
        },
        "id": "3omsFekCAKr9",
        "outputId": "0b7621f8-a430-4f4f-d274-7e2688d4c1e0"
      },
      "execution_count": 15,
      "outputs": [
        {
          "output_type": "stream",
          "name": "stdout",
          "text": [
            "[[4 5 6]\n",
            " [4 5 6]\n",
            " [7 8 9]]\n"
          ]
        }
      ]
    },
    {
      "cell_type": "markdown",
      "source": [
        "17.write python code to reshape to the next dimension of numpy array?"
      ],
      "metadata": {
        "id": "JD6ZwvmwAaSN"
      }
    },
    {
      "cell_type": "code",
      "source": [
        "import numpy as np\n",
        "\n",
        "# Create the original NumPy array\n",
        "x = np.array([[23, 34, 121], [23, 22, 67], [686, 434, 123]])\n",
        "\n",
        "# Reshape to the next dimension (1x9)\n",
        "reshaped_array = x.reshape(1, -1)\n",
        "\n",
        "# Print the reshaped array\n",
        "print(reshaped_array)"
      ],
      "metadata": {
        "colab": {
          "base_uri": "https://localhost:8080/"
        },
        "id": "0EutlD5ZAjZt",
        "outputId": "9ed84a07-7d8d-4914-907d-fc988abb24aa"
      },
      "execution_count": 17,
      "outputs": [
        {
          "output_type": "stream",
          "name": "stdout",
          "text": [
            "[[ 23  34 121  23  22  67 686 434 123]]\n"
          ]
        }
      ]
    }
  ]
}