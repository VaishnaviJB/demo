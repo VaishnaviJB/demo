{
  "nbformat": 4,
  "nbformat_minor": 0,
  "metadata": {
    "colab": {
      "provenance": [],
      "include_colab_link": true
    },
    "kernelspec": {
      "name": "python3",
      "display_name": "Python 3"
    },
    "language_info": {
      "name": "python"
    }
  },
  "cells": [
    {
      "cell_type": "markdown",
      "metadata": {
        "id": "view-in-github",
        "colab_type": "text"
      },
      "source": [
        "<a href=\"https://colab.research.google.com/github/VaishnaviJB/demo/blob/main/weekendexcercise_vaishnaviJB_NUMPY(2575345).ipynb\" target=\"_parent\"><img src=\"https://colab.research.google.com/assets/colab-badge.svg\" alt=\"Open In Colab\"/></a>"
      ]
    },
    {
      "cell_type": "markdown",
      "source": [
        "A pool Car rental Management system\n",
        "\n",
        "A person who has a plan to start a car rental business system in Goa, since Goa is tourist place, where most of peoples are comes here to enjoy their holiday from various regions of India and across the globe. For that the businessperson is approaching you to develop a Car Rental Management System in Python using Object Oriented Programming (OOP). This project should be seen easy design for the customer to access the features as hassle free. Also, administrator access is to be simple and dynamic in nature to update the key attributes of the functionality in this project\n",
        "\n",
        "The customer should find the following information from this project as given below,\n",
        "\n",
        "The total number of cars.\n",
        "\n",
        "Variety of cars (basic, mid-range, luxury)\n",
        "\n",
        "Should display the car manufacturer details.\n",
        "\n",
        "Tariff of each segment of car variery\n",
        "\n",
        "The availability of the cars with respect to the different segment.\n",
        "\n",
        "Duration of the car rental must be displayel\n",
        "\n",
        "Terms and conditions are clearly mentioned.\n",
        "\n",
        "Car age, kilometre driven, last service date, service history\n",
        "\n",
        "The car rental businessman is seeking below features,\n",
        "\n",
        "> Dynamically update feature should be available.\n",
        "\n",
        "Adding new car to the existing lot,\n",
        "\n",
        "Removing the car from the list if the car is not good condition.\n",
        "\n",
        ">If the car reaches the threshold distance, it should be removed from the\n",
        "\n",
        "carpool to get servicing\n",
        "\n",
        "Rental of the car should be maintained and calculated dynamically\n",
        "\n",
        "Customer driven extra kilometre; alerts should be given.\n",
        "\n",
        "If anything needs to be added for effectiveness of the project, you can do it"
      ],
      "metadata": {
        "id": "dqDtrGd7uBHk"
      }
    },
    {
      "cell_type": "code",
      "source": [
        "import datetime\n",
        "class Car:\n",
        "    def __init__(self, car_id, manufacturer, model, year, mileage, service_history, segment, tariff, availability, last_service_date):\n",
        "        self.car_id = car_id\n",
        "        self.manufacturer = manufacturer\n",
        "        self.model = model\n",
        "        self.year = year\n",
        "        self.mileage = mileage\n",
        "        self.service_history = service_history\n",
        "        self.segment = segment\n",
        "        self.tariff = tariff\n",
        "        self.availability = availability\n",
        "        self.last_service_date = last_service_date\n",
        "\n",
        "    def update_details(self, **kwargs):\n",
        "        for key, value in kwargs.items():\n",
        "            setattr(self, key, value)\n",
        "\n",
        "    def check_availability(self):\n",
        "        return self.availability\n",
        "\n",
        "    def calculate_rental_cost(self, rental_duration):\n",
        "        return self.tariff * rental_duration\n",
        "\n",
        "class RentalService:\n",
        "\n",
        "    def __init__(self):\n",
        "        self.cars = []\n",
        "        self.total_cars = 0\n",
        "        self.threshold_distance = 10000  # Set the threshold distance for service\n",
        "        self.rental_history = []\n",
        "        self.terms_and_conditions = \"These are the initial terms and conditions.\"\n",
        "\n",
        "    def add_car(self, car):\n",
        "        self.cars.append(car)\n",
        "        self.total_cars += 1\n",
        "\n",
        "    def remove_car(self, car):\n",
        "        if car in self.cars:\n",
        "            self.cars.remove(car)\n",
        "            self.total_cars -= 1\n",
        "\n",
        "    def calculate_segment_cars(self, segment):\n",
        "        return sum(1 for car in self.cars if car.segment == segment)\n",
        "\n",
        "    def display_car_details(self):\n",
        "        for car in self.cars:\n",
        "            print(f\"Car ID: {car.car_id}, Manufacturer: {car.manufacturer}, Model: {car.model}\")\n",
        "\n",
        "    def display_available_cars(self):\n",
        "        available_cars = [car for car in self.cars if car.check_availability()]\n",
        "        for car in available_cars:\n",
        "            print(f\"Car ID: {car.car_id}, Manufacturer: {car.manufacturer}, Model: {car.model}\")\n",
        "\n",
        "    def update_tariff(self, car, new_tariff):\n",
        "        car.tariff = new_tariff\n",
        "\n",
        "    def update_terms_conditions(self, new_terms):\n",
        "        self.terms_and_conditions = new_terms\n",
        "        print(\"Terms and conditions updated successfully.\")\n",
        "\n",
        "    def rent_car(self, customer, car, rental_duration):\n",
        "        if car.check_availability():\n",
        "            car.availability = False  # Mark the car as unavailable\n",
        "            rental_cost = car.calculate_rental_cost(rental_duration)\n",
        "            rental_history_entry = {\n",
        "                \"Customer\": customer,\n",
        "                \"Car\": car,\n",
        "                \"Rental Duration\": rental_duration,\n",
        "                \"Rental Cost\": rental_cost\n",
        "            }\n",
        "            self.rental_history.append(rental_history_entry)\n",
        "            print(f\"Rented car {car.car_id} to customer {customer.customer_id} for {rental_duration} days. Rental cost: ${rental_cost}\")\n",
        "        else:\n",
        "            print(\"Sorry, the selected car is not available for rental.\")\n",
        "\n",
        "    def service_check(self):\n",
        "        today = datetime.date.today()\n",
        "        for car in self.cars:\n",
        "            last_service_date = datetime.datetime.strptime(car.last_service_date, \"%Y-%m-%d\").date()\n",
        "            age = today.year - car.year\n",
        "            if age >= 3 and (today - last_service_date).days >= 365:\n",
        "                print(f\"Car {car.car_id} is due for service. Removing from rental pool.\")\n",
        "                self.remove_car(car)\n",
        "\n",
        "class Customer:\n",
        "    def __init__(self, customer_id, name, email, phone_number):\n",
        "        self.customer_id = customer_id\n",
        "        self.name = name\n",
        "        self.email = email\n",
        "        self.phone_number = phone_number\n",
        "        self.rental_duration = 0\n",
        "        self.extra_kilometers = 0\n",
        "\n",
        "    def rent_car(self, car, rental_duration):\n",
        "        self.rental_duration = rental_duration\n",
        "        self.extra_kilometers = 0\n",
        "        rental_cost = car.calculate_rental_cost(self.rental_duration)\n",
        "        rental_history_entry = {\n",
        "            \"Car\": car,\n",
        "            \"Rental Duration\": rental_duration,\n",
        "            \"Rental Cost\": rental_cost\n",
        "        }\n",
        "        rental_service.rental_history.append(rental_history_entry)\n",
        "        print(f\"Rented car {car.car_id} for {rental_duration} days. Rental cost: ${rental_cost}\")\n",
        "\n",
        "    def calculate_rental_cost(self, car):\n",
        "        return car.calculate_rental_cost(self.rental_duration)\n",
        "\n",
        "    def notify_extra_kilometers(self, extra_kilometers):\n",
        "        self.extra_kilometers += extra_kilometers\n",
        "        if self.extra_kilometers > 0:\n",
        "            print(f\"Note: You have driven {self.extra_kilometers} extra kilometers. Additional charges may apply.\")\n",
        "\n",
        "# Example usage:\n",
        "car1 = Car(\"CAR001\", \"Toyota\", \"Camry\", 2022, 5000, \"Full service history\", \"Mid-range\", 50, True, \"2023-09-20\")\n",
        "car2 = Car(\"CAR002\", \"BMW\", \"X5\", 2023, 3000, \"Full service history\", \"Luxury\", 100, True, \"2023-09-15\")\n",
        "\n",
        "rental_service = RentalService()\n",
        "rental_service.add_car(car1)\n",
        "rental_service.add_car(car2)\n",
        "\n",
        "customer1 = Customer(\"CUST001\", \"John Doe\", \"john@example.com\", \"123-456-7890\")\n",
        "customer1.rent_car(car1, 7)\n",
        "customer1.notify_extra_kilometers(50)  # Simulate extra kilometers\n",
        "\n",
        "print(f\"Rental cost: ${customer1.calculate_rental_cost(car1)}\")\n",
        "\n",
        "rental_service.service_check()\n",
        "\n",
        "# Updating terms and conditions\n",
        "new_terms = \"These are the updated terms and conditions.\"\n",
        "rental_service.update_terms_conditions(new_terms)\n",
        "print(\"Updated terms and conditions:\", rental_service.terms_and_conditions)\n",
        "\n",
        "print(\"Available cars after servicing check:\")\n",
        "rental_service.display_available_cars()"
      ],
      "metadata": {
        "colab": {
          "base_uri": "https://localhost:8080/"
        },
        "id": "9xRj0tIBE3PR",
        "outputId": "ba98f483-7fc2-4ffb-d7dc-28a639ae0d75"
      },
      "execution_count": null,
      "outputs": [
        {
          "output_type": "stream",
          "name": "stdout",
          "text": [
            "Rented car CAR001 for 7 days. Rental cost: $350\n",
            "Note: You have driven 50 extra kilometers. Additional charges may apply.\n",
            "Rental cost: $350\n",
            "Terms and conditions updated successfully.\n",
            "Updated terms and conditions: These are the updated terms and conditions.\n",
            "Available cars after servicing check:\n",
            "Car ID: CAR001, Manufacturer: Toyota, Model: Camry\n",
            "Car ID: CAR002, Manufacturer: BMW, Model: X5\n"
          ]
        }
      ]
    },
    {
      "cell_type": "markdown",
      "source": [],
      "metadata": {
        "id": "_bSAZ_O0FcXC"
      }
    },
    {
      "cell_type": "code",
      "source": [
        "import random\n",
        "\n",
        "class Train:\n",
        "    def __init__(self, name, source, destination, departure_time, arrival_time, total_seats):\n",
        "        self.name = name\n",
        "        self.source = source\n",
        "        self.destination = destination\n",
        "        self.departure_time = departure_time\n",
        "        self.arrival_time = arrival_time\n",
        "        self.total_seats = total_seats\n",
        "        self.available_seats = total_seats\n",
        "\n",
        "class Ticket:\n",
        "    def __init__(self, train, passenger_name):\n",
        "        self.train = train\n",
        "        self.passenger_name = passenger_name\n",
        "        self.ticket_number = random.randint(1000, 9999)\n",
        "\n",
        "class RailwaySystem:\n",
        "    def __init__(self):\n",
        "        self.trains = []\n",
        "        self.tickets = []\n",
        "\n",
        "    def add_train(self, train):\n",
        "        self.trains.append(train)\n",
        "\n",
        "    def book_ticket(self, train_name, passenger_name):\n",
        "        for train in self.trains:\n",
        "            if train.name == train_name and train.available_seats > 0:\n",
        "                ticket = Ticket(train, passenger_name)\n",
        "                self.tickets.append(ticket)\n",
        "                train.available_seats -= 1\n",
        "                print(f\"Ticket booked successfully! Ticket number: {ticket.ticket_number}\")\n",
        "                return\n",
        "        print(\"Sorry, no available seats on the selected train.\")\n",
        "\n",
        "    def view_ticket(self, ticket_number):\n",
        "        for ticket in self.tickets:\n",
        "            if ticket.ticket_number == ticket_number:\n",
        "                print(f\"Ticket Number: {ticket.ticket_number}\")\n",
        "                print(f\"Train: {ticket.train.name}\")\n",
        "                print(f\"Passenger: {ticket.passenger_name}\")\n",
        "                return\n",
        "        print(\"Ticket not found.\")\n",
        "\n",
        "if __name__ == \"_main_\":\n",
        "    railway = RailwaySystem()\n",
        "\n",
        "    train1 = Train(\"Express 101\", \"City A\", \"City B\", \"08:00 AM\", \"12:00 PM\", 50)\n",
        "    train2 = Train(\"Superfast 202\", \"City B\", \"City C\", \"02:00 PM\", \"06:00 PM\", 60)\n",
        "\n",
        "    railway.add_train(train1)\n",
        "    railway.add_train(train2)\n",
        "\n",
        "    while True:\n",
        "        print(\"\\nRailway Management System Menu:\")\n",
        "        print(\"1. Book Ticket\")\n",
        "        print(\"2. View Ticket\")\n",
        "        print(\"3. Exit\")\n",
        "\n",
        "        choice = input(\"Enter your choice: \")\n",
        "\n",
        "        if choice == \"1\":\n",
        "            train_name = input(\"Enter the train name: \")\n",
        "            passenger_name = input(\"Enter passenger name: \")\n",
        "            railway.book_ticket(train_name, passenger_name)\n",
        "        elif choice == \"2\":\n",
        "            ticket_number = int(input(\"Enter ticket number: \"))\n",
        "            railway.view_ticket(ticket_number)\n",
        "        elif choice == \"3\":\n",
        "            print(\"Exiting the system.\")\n",
        "            break\n",
        "        else:\n",
        "            print(\"Invalid choice. Please select a valid option.\")"
      ],
      "metadata": {
        "id": "irUZ7X9WFqQB"
      },
      "execution_count": null,
      "outputs": []
    },
    {
      "cell_type": "code",
      "source": [
        "import pandas as pd\n",
        "import matplotlib.pyplot as plt\n",
        "import seaborn as sns\n",
        "\n",
        "# Load the dataset\n",
        "df = pd.read_csv('youtube_data.csv')\n",
        "\n",
        "# Display the first few rows of the dataset\n",
        "print(df.head())\n",
        "\n",
        "# Summary statistics\n",
        "print(df.describe())\n",
        "\n",
        "# Check for missing values\n",
        "print(df.isnull().sum())\n",
        "\n",
        "# Data visualization\n",
        "# Example: Distribution of views\n",
        "plt.figure(figsize=(10, 6))\n",
        "sns.histplot(data=df, x='views', bins=50, kde=True)\n",
        "plt.title('Distribution of Views')\n",
        "plt.xlabel('Views')\n",
        "plt.ylabel('Frequency')\n",
        "plt.show()\n",
        "\n",
        "# Example: Correlation heatmap\n",
        "correlation = df.corr()\n",
        "plt.figure(figsize=(10, 6))\n",
        "sns.heatmap(correlation, annot=True, cmap='coolwarm', fmt=\".2f\")\n",
        "plt.title('Correlation Heatmap')\n",
        "plt.show()"
      ],
      "metadata": {
        "colab": {
          "base_uri": "https://localhost:8080/",
          "height": 824
        },
        "id": "WR1skL_cKEos",
        "outputId": "aff0e8b7-c5d6-4091-f0fa-3391e4b00ae7"
      },
      "execution_count": null,
      "outputs": [
        {
          "output_type": "stream",
          "name": "stdout",
          "text": [
            "                  title  year      name   type                character     n\n",
            "0        Closet Monster  2015  Buffy #1  actor                  Buffy 4  31.0\n",
            "1       Suuri illusioni  1985    Homo $  actor                   Guests  22.0\n",
            "2   Battle of the Sexes  2017   $hutter  actor          Bobby Riggs Fan  10.0\n",
            "3  Secret in Their Eyes  2015   $hutter  actor          2002 Dodger Fan   NaN\n",
            "4            Steve Jobs  2015   $hutter  actor  1988 Opera House Patron   NaN\n",
            "                year              n\n",
            "count  198787.000000  122329.000000\n",
            "mean     1988.130185      16.466161\n",
            "std        27.829459      21.434719\n",
            "min      1908.000000       1.000000\n",
            "25%      1968.000000       5.000000\n",
            "50%      1999.000000      10.000000\n",
            "75%      2011.000000      21.000000\n",
            "max      2024.000000     711.000000\n",
            "title            0\n",
            "year             0\n",
            "name             0\n",
            "type             0\n",
            "character        0\n",
            "n            76458\n",
            "dtype: int64\n"
          ]
        },
        {
          "output_type": "error",
          "ename": "ValueError",
          "evalue": "ignored",
          "traceback": [
            "\u001b[0;31m---------------------------------------------------------------------------\u001b[0m",
            "\u001b[0;31mValueError\u001b[0m                                Traceback (most recent call last)",
            "\u001b[0;32m<ipython-input-36-4c0939f782d6>\u001b[0m in \u001b[0;36m<cell line: 20>\u001b[0;34m()\u001b[0m\n\u001b[1;32m     18\u001b[0m \u001b[0;31m# Example: Distribution of views\u001b[0m\u001b[0;34m\u001b[0m\u001b[0;34m\u001b[0m\u001b[0m\n\u001b[1;32m     19\u001b[0m \u001b[0mplt\u001b[0m\u001b[0;34m.\u001b[0m\u001b[0mfigure\u001b[0m\u001b[0;34m(\u001b[0m\u001b[0mfigsize\u001b[0m\u001b[0;34m=\u001b[0m\u001b[0;34m(\u001b[0m\u001b[0;36m10\u001b[0m\u001b[0;34m,\u001b[0m \u001b[0;36m6\u001b[0m\u001b[0;34m)\u001b[0m\u001b[0;34m)\u001b[0m\u001b[0;34m\u001b[0m\u001b[0;34m\u001b[0m\u001b[0m\n\u001b[0;32m---> 20\u001b[0;31m \u001b[0msns\u001b[0m\u001b[0;34m.\u001b[0m\u001b[0mhistplot\u001b[0m\u001b[0;34m(\u001b[0m\u001b[0mdata\u001b[0m\u001b[0;34m=\u001b[0m\u001b[0mdf\u001b[0m\u001b[0;34m,\u001b[0m \u001b[0mx\u001b[0m\u001b[0;34m=\u001b[0m\u001b[0;34m'views'\u001b[0m\u001b[0;34m,\u001b[0m \u001b[0mbins\u001b[0m\u001b[0;34m=\u001b[0m\u001b[0;36m50\u001b[0m\u001b[0;34m,\u001b[0m \u001b[0mkde\u001b[0m\u001b[0;34m=\u001b[0m\u001b[0;32mTrue\u001b[0m\u001b[0;34m)\u001b[0m\u001b[0;34m\u001b[0m\u001b[0;34m\u001b[0m\u001b[0m\n\u001b[0m\u001b[1;32m     21\u001b[0m \u001b[0mplt\u001b[0m\u001b[0;34m.\u001b[0m\u001b[0mtitle\u001b[0m\u001b[0;34m(\u001b[0m\u001b[0;34m'Distribution of Views'\u001b[0m\u001b[0;34m)\u001b[0m\u001b[0;34m\u001b[0m\u001b[0;34m\u001b[0m\u001b[0m\n\u001b[1;32m     22\u001b[0m \u001b[0mplt\u001b[0m\u001b[0;34m.\u001b[0m\u001b[0mxlabel\u001b[0m\u001b[0;34m(\u001b[0m\u001b[0;34m'Views'\u001b[0m\u001b[0;34m)\u001b[0m\u001b[0;34m\u001b[0m\u001b[0;34m\u001b[0m\u001b[0m\n",
            "\u001b[0;32m/usr/local/lib/python3.10/dist-packages/seaborn/distributions.py\u001b[0m in \u001b[0;36mhistplot\u001b[0;34m(data, x, y, hue, weights, stat, bins, binwidth, binrange, discrete, cumulative, common_bins, common_norm, multiple, element, fill, shrink, kde, kde_kws, line_kws, thresh, pthresh, pmax, cbar, cbar_ax, cbar_kws, palette, hue_order, hue_norm, color, log_scale, legend, ax, **kwargs)\u001b[0m\n\u001b[1;32m   1393\u001b[0m ):\n\u001b[1;32m   1394\u001b[0m \u001b[0;34m\u001b[0m\u001b[0m\n\u001b[0;32m-> 1395\u001b[0;31m     p = _DistributionPlotter(\n\u001b[0m\u001b[1;32m   1396\u001b[0m         \u001b[0mdata\u001b[0m\u001b[0;34m=\u001b[0m\u001b[0mdata\u001b[0m\u001b[0;34m,\u001b[0m\u001b[0;34m\u001b[0m\u001b[0;34m\u001b[0m\u001b[0m\n\u001b[1;32m   1397\u001b[0m         \u001b[0mvariables\u001b[0m\u001b[0;34m=\u001b[0m\u001b[0m_DistributionPlotter\u001b[0m\u001b[0;34m.\u001b[0m\u001b[0mget_semantics\u001b[0m\u001b[0;34m(\u001b[0m\u001b[0mlocals\u001b[0m\u001b[0;34m(\u001b[0m\u001b[0;34m)\u001b[0m\u001b[0;34m)\u001b[0m\u001b[0;34m\u001b[0m\u001b[0;34m\u001b[0m\u001b[0m\n",
            "\u001b[0;32m/usr/local/lib/python3.10/dist-packages/seaborn/distributions.py\u001b[0m in \u001b[0;36m__init__\u001b[0;34m(self, data, variables)\u001b[0m\n\u001b[1;32m    111\u001b[0m     ):\n\u001b[1;32m    112\u001b[0m \u001b[0;34m\u001b[0m\u001b[0m\n\u001b[0;32m--> 113\u001b[0;31m         \u001b[0msuper\u001b[0m\u001b[0;34m(\u001b[0m\u001b[0;34m)\u001b[0m\u001b[0;34m.\u001b[0m\u001b[0m__init__\u001b[0m\u001b[0;34m(\u001b[0m\u001b[0mdata\u001b[0m\u001b[0;34m=\u001b[0m\u001b[0mdata\u001b[0m\u001b[0;34m,\u001b[0m \u001b[0mvariables\u001b[0m\u001b[0;34m=\u001b[0m\u001b[0mvariables\u001b[0m\u001b[0;34m)\u001b[0m\u001b[0;34m\u001b[0m\u001b[0;34m\u001b[0m\u001b[0m\n\u001b[0m\u001b[1;32m    114\u001b[0m \u001b[0;34m\u001b[0m\u001b[0m\n\u001b[1;32m    115\u001b[0m     \u001b[0;34m@\u001b[0m\u001b[0mproperty\u001b[0m\u001b[0;34m\u001b[0m\u001b[0;34m\u001b[0m\u001b[0m\n",
            "\u001b[0;32m/usr/local/lib/python3.10/dist-packages/seaborn/_oldcore.py\u001b[0m in \u001b[0;36m__init__\u001b[0;34m(self, data, variables)\u001b[0m\n\u001b[1;32m    638\u001b[0m         \u001b[0;31m# information for numeric axes would be information about log scales.\u001b[0m\u001b[0;34m\u001b[0m\u001b[0;34m\u001b[0m\u001b[0m\n\u001b[1;32m    639\u001b[0m         \u001b[0mself\u001b[0m\u001b[0;34m.\u001b[0m\u001b[0m_var_ordered\u001b[0m \u001b[0;34m=\u001b[0m \u001b[0;34m{\u001b[0m\u001b[0;34m\"x\"\u001b[0m\u001b[0;34m:\u001b[0m \u001b[0;32mFalse\u001b[0m\u001b[0;34m,\u001b[0m \u001b[0;34m\"y\"\u001b[0m\u001b[0;34m:\u001b[0m \u001b[0;32mFalse\u001b[0m\u001b[0;34m}\u001b[0m  \u001b[0;31m# alt., used DefaultDict\u001b[0m\u001b[0;34m\u001b[0m\u001b[0;34m\u001b[0m\u001b[0m\n\u001b[0;32m--> 640\u001b[0;31m         \u001b[0mself\u001b[0m\u001b[0;34m.\u001b[0m\u001b[0massign_variables\u001b[0m\u001b[0;34m(\u001b[0m\u001b[0mdata\u001b[0m\u001b[0;34m,\u001b[0m \u001b[0mvariables\u001b[0m\u001b[0;34m)\u001b[0m\u001b[0;34m\u001b[0m\u001b[0;34m\u001b[0m\u001b[0m\n\u001b[0m\u001b[1;32m    641\u001b[0m \u001b[0;34m\u001b[0m\u001b[0m\n\u001b[1;32m    642\u001b[0m         \u001b[0;32mfor\u001b[0m \u001b[0mvar\u001b[0m\u001b[0;34m,\u001b[0m \u001b[0mcls\u001b[0m \u001b[0;32min\u001b[0m \u001b[0mself\u001b[0m\u001b[0;34m.\u001b[0m\u001b[0m_semantic_mappings\u001b[0m\u001b[0;34m.\u001b[0m\u001b[0mitems\u001b[0m\u001b[0;34m(\u001b[0m\u001b[0;34m)\u001b[0m\u001b[0;34m:\u001b[0m\u001b[0;34m\u001b[0m\u001b[0;34m\u001b[0m\u001b[0m\n",
            "\u001b[0;32m/usr/local/lib/python3.10/dist-packages/seaborn/_oldcore.py\u001b[0m in \u001b[0;36massign_variables\u001b[0;34m(self, data, variables)\u001b[0m\n\u001b[1;32m    699\u001b[0m         \u001b[0;32melse\u001b[0m\u001b[0;34m:\u001b[0m\u001b[0;34m\u001b[0m\u001b[0;34m\u001b[0m\u001b[0m\n\u001b[1;32m    700\u001b[0m             \u001b[0mself\u001b[0m\u001b[0;34m.\u001b[0m\u001b[0minput_format\u001b[0m \u001b[0;34m=\u001b[0m \u001b[0;34m\"long\"\u001b[0m\u001b[0;34m\u001b[0m\u001b[0;34m\u001b[0m\u001b[0m\n\u001b[0;32m--> 701\u001b[0;31m             plot_data, variables = self._assign_variables_longform(\n\u001b[0m\u001b[1;32m    702\u001b[0m                 \u001b[0mdata\u001b[0m\u001b[0;34m,\u001b[0m \u001b[0;34m**\u001b[0m\u001b[0mvariables\u001b[0m\u001b[0;34m,\u001b[0m\u001b[0;34m\u001b[0m\u001b[0;34m\u001b[0m\u001b[0m\n\u001b[1;32m    703\u001b[0m             )\n",
            "\u001b[0;32m/usr/local/lib/python3.10/dist-packages/seaborn/_oldcore.py\u001b[0m in \u001b[0;36m_assign_variables_longform\u001b[0;34m(self, data, **kwargs)\u001b[0m\n\u001b[1;32m    936\u001b[0m \u001b[0;34m\u001b[0m\u001b[0m\n\u001b[1;32m    937\u001b[0m                 \u001b[0merr\u001b[0m \u001b[0;34m=\u001b[0m \u001b[0;34mf\"Could not interpret value `{val}` for parameter `{key}`\"\u001b[0m\u001b[0;34m\u001b[0m\u001b[0;34m\u001b[0m\u001b[0m\n\u001b[0;32m--> 938\u001b[0;31m                 \u001b[0;32mraise\u001b[0m \u001b[0mValueError\u001b[0m\u001b[0;34m(\u001b[0m\u001b[0merr\u001b[0m\u001b[0;34m)\u001b[0m\u001b[0;34m\u001b[0m\u001b[0;34m\u001b[0m\u001b[0m\n\u001b[0m\u001b[1;32m    939\u001b[0m \u001b[0;34m\u001b[0m\u001b[0m\n\u001b[1;32m    940\u001b[0m             \u001b[0;32melse\u001b[0m\u001b[0;34m:\u001b[0m\u001b[0;34m\u001b[0m\u001b[0;34m\u001b[0m\u001b[0m\n",
            "\u001b[0;31mValueError\u001b[0m: Could not interpret value `views` for parameter `x`"
          ]
        },
        {
          "output_type": "display_data",
          "data": {
            "text/plain": [
              "<Figure size 1000x600 with 0 Axes>"
            ]
          },
          "metadata": {}
        }
      ]
    },
    {
      "cell_type": "code",
      "source": [
        "import pandas as pd\n",
        "import matplotlib.pyplot as plt\n",
        "import seaborn as sns"
      ],
      "metadata": {
        "id": "ihnKpPGpKEmj"
      },
      "execution_count": null,
      "outputs": []
    },
    {
      "cell_type": "code",
      "source": [
        "df = pd.read_csv('youtube_data.csv')"
      ],
      "metadata": {
        "id": "AY8ahQqHLLWZ"
      },
      "execution_count": null,
      "outputs": []
    },
    {
      "cell_type": "code",
      "source": [
        "# Display the first few rows of the dataset\n",
        "print(df.head())\n",
        "\n",
        "# Check the data types and missing values\n",
        "print(df.info())\n",
        "\n",
        "# Summary statistics\n",
        "print(df.describe())"
      ],
      "metadata": {
        "colab": {
          "base_uri": "https://localhost:8080/"
        },
        "id": "dkmxcFwZLLKK",
        "outputId": "2620630b-f6e0-4c47-de4e-f8a3ffabf453"
      },
      "execution_count": null,
      "outputs": [
        {
          "output_type": "stream",
          "name": "stdout",
          "text": [
            "                  title  year      name   type                character     n\n",
            "0        Closet Monster  2015  Buffy #1  actor                  Buffy 4  31.0\n",
            "1       Suuri illusioni  1985    Homo $  actor                   Guests  22.0\n",
            "2   Battle of the Sexes  2017   $hutter  actor          Bobby Riggs Fan  10.0\n",
            "3  Secret in Their Eyes  2015   $hutter  actor          2002 Dodger Fan   NaN\n",
            "4            Steve Jobs  2015   $hutter  actor  1988 Opera House Patron   NaN\n",
            "<class 'pandas.core.frame.DataFrame'>\n",
            "RangeIndex: 198787 entries, 0 to 198786\n",
            "Data columns (total 6 columns):\n",
            " #   Column     Non-Null Count   Dtype  \n",
            "---  ------     --------------   -----  \n",
            " 0   title      198787 non-null  object \n",
            " 1   year       198787 non-null  int64  \n",
            " 2   name       198787 non-null  object \n",
            " 3   type       198787 non-null  object \n",
            " 4   character  198787 non-null  object \n",
            " 5   n          122329 non-null  float64\n",
            "dtypes: float64(1), int64(1), object(4)\n",
            "memory usage: 9.1+ MB\n",
            "None\n",
            "                year              n\n",
            "count  198787.000000  122329.000000\n",
            "mean     1988.130185      16.466161\n",
            "std        27.829459      21.434719\n",
            "min      1908.000000       1.000000\n",
            "25%      1968.000000       5.000000\n",
            "50%      1999.000000      10.000000\n",
            "75%      2011.000000      21.000000\n",
            "max      2024.000000     711.000000\n"
          ]
        }
      ]
    },
    {
      "cell_type": "code",
      "source": [
        "# Countplot of video categories\n",
        "plt.figure(figsize=(12, 6))\n",
        "sns.countplot(x='category_id', data=df)\n",
        "plt.title('Count of Videos by Category')\n",
        "plt.xlabel('Category ID')\n",
        "plt.ylabel('Count')\n",
        "plt.xticks(rotation=90)\n",
        "plt.show()\n",
        "\n",
        "# Scatterplot of views vs. likes\n",
        "plt.figure(figsize=(10, 6))\n",
        "sns.scatterplot(x='views', y='likes', data=df)\n",
        "plt.title('Scatterplot of Views vs. Likes')\n",
        "plt.xlabel('Views')\n",
        "plt.ylabel('Likes')\n",
        "plt.show()"
      ],
      "metadata": {
        "colab": {
          "base_uri": "https://localhost:8080/",
          "height": 245
        },
        "id": "IrscGI-fMToS",
        "outputId": "0b574202-dc3f-4f9d-ae32-57ed07711e55"
      },
      "execution_count": null,
      "outputs": [
        {
          "output_type": "error",
          "ename": "NameError",
          "evalue": "ignored",
          "traceback": [
            "\u001b[0;31m---------------------------------------------------------------------------\u001b[0m",
            "\u001b[0;31mNameError\u001b[0m                                 Traceback (most recent call last)",
            "\u001b[0;32m<ipython-input-1-5056f71edf2b>\u001b[0m in \u001b[0;36m<cell line: 2>\u001b[0;34m()\u001b[0m\n\u001b[1;32m      1\u001b[0m \u001b[0;31m# Countplot of video categories\u001b[0m\u001b[0;34m\u001b[0m\u001b[0;34m\u001b[0m\u001b[0m\n\u001b[0;32m----> 2\u001b[0;31m \u001b[0mplt\u001b[0m\u001b[0;34m.\u001b[0m\u001b[0mfigure\u001b[0m\u001b[0;34m(\u001b[0m\u001b[0mfigsize\u001b[0m\u001b[0;34m=\u001b[0m\u001b[0;34m(\u001b[0m\u001b[0;36m12\u001b[0m\u001b[0;34m,\u001b[0m \u001b[0;36m6\u001b[0m\u001b[0;34m)\u001b[0m\u001b[0;34m)\u001b[0m\u001b[0;34m\u001b[0m\u001b[0;34m\u001b[0m\u001b[0m\n\u001b[0m\u001b[1;32m      3\u001b[0m \u001b[0msns\u001b[0m\u001b[0;34m.\u001b[0m\u001b[0mcountplot\u001b[0m\u001b[0;34m(\u001b[0m\u001b[0mx\u001b[0m\u001b[0;34m=\u001b[0m\u001b[0;34m'category_id'\u001b[0m\u001b[0;34m,\u001b[0m \u001b[0mdata\u001b[0m\u001b[0;34m=\u001b[0m\u001b[0mdf\u001b[0m\u001b[0;34m)\u001b[0m\u001b[0;34m\u001b[0m\u001b[0;34m\u001b[0m\u001b[0m\n\u001b[1;32m      4\u001b[0m \u001b[0mplt\u001b[0m\u001b[0;34m.\u001b[0m\u001b[0mtitle\u001b[0m\u001b[0;34m(\u001b[0m\u001b[0;34m'Count of Videos by Category'\u001b[0m\u001b[0;34m)\u001b[0m\u001b[0;34m\u001b[0m\u001b[0;34m\u001b[0m\u001b[0m\n\u001b[1;32m      5\u001b[0m \u001b[0mplt\u001b[0m\u001b[0;34m.\u001b[0m\u001b[0mxlabel\u001b[0m\u001b[0;34m(\u001b[0m\u001b[0;34m'Category ID'\u001b[0m\u001b[0;34m)\u001b[0m\u001b[0;34m\u001b[0m\u001b[0;34m\u001b[0m\u001b[0m\n",
            "\u001b[0;31mNameError\u001b[0m: name 'plt' is not defined"
          ]
        }
      ]
    },
    {
      "cell_type": "markdown",
      "source": [],
      "metadata": {
        "id": "VgRgaLF2EjwR"
      }
    },
    {
      "cell_type": "markdown",
      "source": [],
      "metadata": {
        "id": "EaKFg3mNJqlT"
      }
    }
  ]
}