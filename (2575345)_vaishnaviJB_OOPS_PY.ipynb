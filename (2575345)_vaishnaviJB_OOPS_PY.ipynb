{
  "nbformat": 4,
  "nbformat_minor": 0,
  "metadata": {
    "colab": {
      "provenance": [],
      "authorship_tag": "ABX9TyNH5whRK8Qs97zJ3qyrMv/M",
      "include_colab_link": true
    },
    "kernelspec": {
      "name": "python3",
      "display_name": "Python 3"
    },
    "language_info": {
      "name": "python"
    }
  },
  "cells": [
    {
      "cell_type": "markdown",
      "metadata": {
        "id": "view-in-github",
        "colab_type": "text"
      },
      "source": [
        "<a href=\"https://colab.research.google.com/github/VaishnaviJB/demo/blob/main/(2575345)_vaishnaviJB_OOPS_PY.ipynb\" target=\"_parent\"><img src=\"https://colab.research.google.com/assets/colab-badge.svg\" alt=\"Open In Colab\"/></a>"
      ]
    },
    {
      "cell_type": "code",
      "execution_count": null,
      "metadata": {
        "id": "4o1TStuvHiEy"
      },
      "outputs": [],
      "source": []
    },
    {
      "cell_type": "markdown",
      "source": [
        "1. Write a python program to create a base class \"Shape\" with methods to calculate area and perimeter. Then, create derived classes \"Circle\" and \"Rectangle\" that inherit from the base class and calculate their respective areas and perimeters. Demonstrate their usage in a program.\n",
        "\n",
        "You are developing an online quiz application where users can take quizzes on various topics and receive scores.\n",
        "\n",
        "1. Create a class for quizzes and questions.\n",
        "\n",
        "2. Implement a scoring system that calculates the user's score on a quiz.\n",
        "\n",
        "3. How would you store and retrieve user progress, including quiz history and scores?"
      ],
      "metadata": {
        "id": "I50Za40EMMlL"
      }
    },
    {
      "cell_type": "code",
      "source": [
        "import math\n",
        "\n",
        "class Shape:\n",
        "    def calculate_area(self):\n",
        "        pass\n",
        "\n",
        "    def calculate_perimeter(self):\n",
        "        pass\n",
        "\n",
        "class Circle(Shape):\n",
        "    def __init__(self, radius):\n",
        "        self.radius = radius\n",
        "\n",
        "    def calculate_area(self):\n",
        "        return math.pi * self.radius ** 2\n",
        "\n",
        "    def calculate_perimeter(self):\n",
        "        return 2 * math.pi * self.radius\n",
        "\n",
        "class Rectangle(Shape):\n",
        "    def __init__(self, length, width):\n",
        "        self.length = length\n",
        "        self.width = width\n",
        "\n",
        "    def calculate_area(self):\n",
        "        return self.length * self.width\n",
        "\n",
        "    def calculate_perimeter(self):\n",
        "        return 2 * (self.length + self.width)\n",
        "\n",
        "# Demonstrate usage\n",
        "circle = Circle(5)\n",
        "rectangle = Rectangle(4, 6)\n",
        "\n",
        "print(f\"Circle - Area: {circle.calculate_area()}, Perimeter: {circle.calculate_perimeter()}\")\n",
        "print(f\"Rectangle - Area: {rectangle.calculate_area()}, Perimeter: {rectangle.calculate_perimeter()}\")"
      ],
      "metadata": {
        "colab": {
          "base_uri": "https://localhost:8080/"
        },
        "id": "LgbANLmTMO_F",
        "outputId": "8dcf2fcb-19f2-4432-cd51-cc9f1b243b21"
      },
      "execution_count": 43,
      "outputs": [
        {
          "output_type": "stream",
          "name": "stdout",
          "text": [
            "Circle - Area: 78.53981633974483, Perimeter: 31.41592653589793\n",
            "Rectangle - Area: 24, Perimeter: 20\n"
          ]
        }
      ]
    },
    {
      "cell_type": "code",
      "source": [
        "class Question:\n",
        "    def __init__(self, text, correct_answer):\n",
        "        self.text = text\n",
        "        self.correct_answer = correct_answer\n",
        "\n",
        "    def check_answer(self, user_answer):\n",
        "        return user_answer == self.correct_answer\n",
        "\n",
        "class Quiz:\n",
        "    def __init__(self, name, questions):\n",
        "        self.name = name\n",
        "        self.questions = questions\n",
        "\n",
        "    def take_quiz(self):\n",
        "        score = 0\n",
        "        for question in self.questions:\n",
        "            user_answer = input(question.text + \" \")\n",
        "            if question.check_answer(user_answer):\n",
        "                score += 1\n",
        "        print(f\"Your score for {self.name}: {score}/{len(self.questions)}\")\n",
        "\n",
        "# Example usage\n",
        "question1 = Question(\"What is 2 + 2?\", \"4\")\n",
        "question2 = Question(\"What is the capital of France?\", \"Paris\")\n",
        "quiz = Quiz(\"Math and Geography Quiz\", [question1, question2])\n",
        "quiz.take_quiz()"
      ],
      "metadata": {
        "colab": {
          "base_uri": "https://localhost:8080/"
        },
        "id": "FQvlaXxvNBfN",
        "outputId": "92fe7df2-1ce9-4dc0-e905-ac8e744f1547"
      },
      "execution_count": 24,
      "outputs": [
        {
          "output_type": "stream",
          "name": "stdout",
          "text": [
            "What is 2 + 2? 4\n",
            "What is the capital of France? 4\n",
            "Your score for Math and Geography Quiz: 1/2\n"
          ]
        }
      ]
    },
    {
      "cell_type": "markdown",
      "source": [
        "2. Write a python script to create a class \"Person\" with private attributes for age and name. Implement a method to calculate a person's eligibility for voting based on their age. Ensure that age cannot be accessed directly but only through a getter method."
      ],
      "metadata": {
        "id": "jjM0ebURNGg7"
      }
    },
    {
      "cell_type": "code",
      "source": [
        "class Person:\n",
        "    def __init__(self, name, age):\n",
        "        self.__name = name\n",
        "        self.__age = age\n",
        "\n",
        "    def get_name(self):\n",
        "        return self.__name\n",
        "\n",
        "    def get_age(self):\n",
        "        return self.__age\n",
        "\n",
        "    def is_eligible_to_vote(self):\n",
        "        if self.__age >= 18:\n",
        "            return True\n",
        "        else:\n",
        "            return False\n",
        "\n",
        "# Example usage:\n",
        "person1 = Person(\"Alice\", 25)\n",
        "print(f\"{person1.get_name()} is eligible to vote: {person1.is_eligible_to_vote()}\")"
      ],
      "metadata": {
        "colab": {
          "base_uri": "https://localhost:8080/"
        },
        "id": "AM1QGSOYNL9w",
        "outputId": "c6741d44-089b-4783-86b8-ad75535726a8"
      },
      "execution_count": 25,
      "outputs": [
        {
          "output_type": "stream",
          "name": "stdout",
          "text": [
            "Alice is eligible to vote: True\n"
          ]
        }
      ]
    },
    {
      "cell_type": "markdown",
      "source": [
        "[0:52 pm, 18/09/2023] Vaishnavi: You are tasked with designing a Python class hierarchy for a simple hanking system. The system should be able to handle different types of accounts, such as Savings Accounts and Checking Accounts. Both account types should have common atributes like an account number, account holder's name, and balance. However, Savings Accounts should have an additional attribute for interest rate, while Checking Accounts should have an atribe for overdraft limit\n",
        "\n",
        "1. Create a Python class called Bank Account with the following attributes and\n",
        "\n",
        "methods Attributes: account number, account holder name, balance\n",
        "\n",
        "h. Methods: init (constructor), deposit(), and withdraw()\n",
        "\n",
        "2. Create two subclasses, Savings Account and Checking Account, that inherit from the BankAccount class 1\n",
        "\n",
        ". Add the following attributes and methods in each subcla a Savings Account\n",
        "\n",
        "Additional attribute: interest rate Method: calculate interest), which calculates and adds interest to the account based on the interest rate.\n",
        "\n",
        "Checking Account\n",
        "\n",
        "1. Additional attribute: overdraft lima\n",
        "\n",
        "i. Method: withdraw(), which allows withdrawing money up the overdraft limit (if available) without additional fees\n",
        "\n",
        "4. Write a program that creates instances of both Savings Account and Checking Account and demonstrates the use of their methods\n",
        "\n",
        "Python-Practice Exercise\n",
        "\n",
        "MLA-AIML Batch\n",
        "\n",
        "5. Implement proper encapsulation by making the annbuses private where necessary and providing gener and sener methods as needed.\n",
        "\n",
        "6 Handle any posemal ertoes i exceptions that may occur during operations like withdrawal, deposits, or interest calculations,\n",
        "\n",
        "7. Provide comments in your code to explain the purpose of each class, aurbine, and method\n",
        "\n",
        "Mphasis\n",
        "\n",
        "Note: Your code should create instances of the classes, le traction, showcase the differences here on Savings Accounts and Checking Accounts\n"
      ],
      "metadata": {
        "id": "QmK_FtjENZE5"
      }
    },
    {
      "cell_type": "code",
      "source": [
        "class BankAccount:\n",
        "    def __init__(self, account_number, account_holder_name, balance=0):\n",
        "        self.__account_number = account_number\n",
        "        self.__account_holder_name = account_holder_name\n",
        "        self.__balance = balance\n",
        "\n",
        "    def deposit(self, amount):\n",
        "        if amount > 0:\n",
        "            self.__balance += amount\n",
        "            print(f\"Deposited ${amount}. New balance: ${self.__balance}\")\n",
        "        else:\n",
        "            print(\"Invalid deposit amount.\")\n",
        "\n",
        "    def withdraw(self, amount):\n",
        "        if amount > 0 and amount <= self.__balance:\n",
        "            self.__balance -= amount\n",
        "            print(f\"Withdrew ${amount}. New balance: ${self.__balance}\")\n",
        "        else:\n",
        "            print(\"Invalid withdrawal amount or insufficient funds.\")\n",
        "\n",
        "    def get_balance(self):\n",
        "        return self.__balance\n",
        "\n",
        "    def get_account_number(self):\n",
        "        return self.__account_number\n",
        "\n",
        "\n",
        "class SavingsAccount(BankAccount):\n",
        "    def __init__(self, account_number, account_holder_name, balance=0, interest_rate=0.02):\n",
        "        super().__init__(account_number, account_holder_name, balance)\n",
        "        self.__interest_rate = interest_rate\n",
        "\n",
        "    def calculate_interest(self):\n",
        "        interest = self.get_balance() * self.__interest_rate\n",
        "        self.deposit(interest)\n",
        "        print(f\"Interest of ${interest} added to the account.\")\n",
        "\n",
        "\n",
        "class CheckingAccount(BankAccount):\n",
        "    def __init__(self, account_number, account_holder_name, balance=0, overdraft_limit=100):\n",
        "        super().__init__(account_number, account_holder_name, balance)\n",
        "        self.__overdraft_limit = overdraft_limit\n",
        "\n",
        "    def withdraw(self, amount):\n",
        "        if amount <= self.get_balance() + self.__overdraft_limit:\n",
        "            super().withdraw(amount)\n",
        "        else:\n",
        "            print(\"Withdrawal exceeds overdraft limit.\")\n",
        "\n",
        "\n",
        "# Usage example:\n",
        "if __name__ == \"__main__\":\n",
        "    savings_account = SavingsAccount(\"SA123\", \"John Doe\", 1000, 0.03)\n",
        "    checking_account = CheckingAccount(\"CA456\", \"Jane Smith\", 500, 200)\n",
        "\n",
        "    savings_account.deposit(500)\n",
        "    savings_account.calculate_interest()\n",
        "    savings_account.withdraw(200)\n",
        "\n",
        "    checking_account.withdraw(700)"
      ],
      "metadata": {
        "colab": {
          "base_uri": "https://localhost:8080/"
        },
        "id": "XM1v3YPiNsWw",
        "outputId": "3e646fa0-7529-4d0b-f8f8-936d34a5a624"
      },
      "execution_count": 20,
      "outputs": [
        {
          "output_type": "stream",
          "name": "stdout",
          "text": [
            "Deposited $500. New balance: $1500\n",
            "Deposited $45.0. New balance: $1545.0\n",
            "Interest of $45.0 added to the account.\n",
            "Withdrew $200. New balance: $1345.0\n",
            "Invalid withdrawal amount or insufficient funds.\n"
          ]
        }
      ]
    },
    {
      "cell_type": "markdown",
      "source": [
        "4. You are developing an employee management system for a company. Ensure that the\n",
        "\n",
        "system utilizes encapsulation and polymorphism to handle different types of employees,\n",
        "\n",
        "such as full-time and part-time employees. 1. Create a base class called \"Employee\" with private attributes for name, employee ID, and salary. Implement getter and setter methods for these attributes.\n",
        "\n",
        "2. Design two subclasses, \"FullTimeEmployee\" and \"PartTimeEmployee,\" that inherit from \"Employee.\" These subclasses should encapsulate specific properties like hours worked (for part-time employees) and annual salary (for full-time employees).\n",
        "\n",
        "3. Override the salary calculation method in both subclasses to account for different payment structures.\n",
        "\n",
        "4. Write a program that demonstrates polymorphism by creating instances of both \"FullTimeEmployee\" and \"PartTimeEmployee.\" Calculate their salaries and display employee information."
      ],
      "metadata": {
        "id": "tlejR8Y5OJ3A"
      }
    },
    {
      "cell_type": "code",
      "source": [
        "# Step 1: Create the base class \"Employee\"\n",
        "class Employee:\n",
        "    def __init__(self, name, employee_id, salary):\n",
        "        self.__name = name\n",
        "        self.__employee_id = employee_id\n",
        "        self.__salary = salary\n",
        "\n",
        "    # Getter methods\n",
        "    def get_name(self):\n",
        "        return self.__name\n",
        "\n",
        "    def get_employee_id(self):\n",
        "        return self.__employee_id\n",
        "\n",
        "    def get_salary(self):\n",
        "        return self.__salary\n",
        "\n",
        "    # Setter methods\n",
        "    def set_name(self, name):\n",
        "        self.__name = name\n",
        "\n",
        "    def set_employee_id(self, employee_id):\n",
        "        self.__employee_id = employee_id\n",
        "\n",
        "    def set_salary(self, salary):\n",
        "        self.__salary = salary\n",
        "\n",
        "    # Salary calculation method (to be overridden by subclasses)\n",
        "    def calculate_salary(self):\n",
        "        pass\n",
        "\n",
        "# Step 2: Create subclasses \"FullTimeEmployee\" and \"PartTimeEmployee\"\n",
        "class FullTimeEmployee(Employee):\n",
        "    def __init__(self, name, employee_id, annual_salary):\n",
        "        super().__init__(name, employee_id, annual_salary)\n",
        "\n",
        "    # Override the salary calculation method\n",
        "    def calculate_salary(self):\n",
        "        return self.get_salary()\n",
        "\n",
        "class PartTimeEmployee(Employee):\n",
        "    def __init__(self, name, employee_id, hours_worked, hourly_rate):\n",
        "        super().__init__(name, employee_id, 0)  # Initialize salary to 0 for part-time employees\n",
        "        self.__hours_worked = hours_worked\n",
        "        self.__hourly_rate = hourly_rate\n",
        "\n",
        "    # Getter method for hours worked\n",
        "    def get_hours_worked(self):\n",
        "        return self.__hours_worked\n",
        "\n",
        "    # Setter method for hours worked\n",
        "    def set_hours_worked(self, hours_worked):\n",
        "        self.__hours_worked = hours_worked\n",
        "\n",
        "    # Override the salary calculation method\n",
        "    def calculate_salary(self):\n",
        "        return self.__hours_worked * self.__hourly_rate\n",
        "\n",
        "# Step 4: Demonstrate polymorphism\n",
        "full_time_employee = FullTimeEmployee(\"John Doe\", 101, 50000)\n",
        "part_time_employee = PartTimeEmployee(\"Jane Smith\", 102, 20, 15.0)\n",
        "\n",
        "employees = [full_time_employee, part_time_employee]\n",
        "\n",
        "for employee in employees:\n",
        "    print(f\"Employee Name: {employee.get_name()}\")\n",
        "    print(f\"Employee ID: {employee.get_employee_id()}\")\n",
        "    print(f\"Salary: ${employee.calculate_salary()}\")\n",
        "    print()"
      ],
      "metadata": {
        "colab": {
          "base_uri": "https://localhost:8080/"
        },
        "id": "SZ9iPJQlOQgF",
        "outputId": "dafede43-f11c-4e1d-90e9-25f75e511cac"
      },
      "execution_count": 48,
      "outputs": [
        {
          "output_type": "stream",
          "name": "stdout",
          "text": [
            "Employee Name: John Doe\n",
            "Employee ID: 101\n",
            "Salary: $50000\n",
            "\n",
            "Employee Name: Jane Smith\n",
            "Employee ID: 102\n",
            "Salary: $300.0\n",
            "\n"
          ]
        }
      ]
    },
    {
      "cell_type": "markdown",
      "source": [
        "5. Library Management System-Scenario: You are developing a library management system where you need to handle books, patrons, and library transactions.\n",
        "\n",
        "1. Create a class hierarchy that includes classes for books (e.g., Book), patrons (e.g.. Patron), and transactions (e.g.. Transaction). Define attributes and methods for each class.\n",
        "\n",
        "2. Implement encapsulation by making relevant attributes private and providing getter and setter methods where necessary. 3. Use inheritance to represent different types of books (e.g., fiction, non-fiction) as\n",
        "\n",
        "subclasses of the Book class. Ensure that each book type can have specific attributes\n",
        "\n",
        "and methods. 4. Demonstrate polymorphism by allowing patrons to check out and return books, regardless of the book type.\n",
        "\n",
        "5. Implement a method for tracking overdue books and notifying patrons.\n",
        "\n",
        "6. Consider scenarios like book reservations, late fees, and library staff interactions in your design."
      ],
      "metadata": {
        "id": "XgOhKXAQOlUE"
      }
    },
    {
      "cell_type": "code",
      "source": [
        "import datetime\n",
        "\n",
        "class Book:\n",
        "    def __init__(self, title, author, publication_date, isbn):\n",
        "        self.__title = title\n",
        "        self.__author = author\n",
        "        self.__publication_date = publication_date\n",
        "        self.__isbn = isbn\n",
        "        self.__checked_out = False\n",
        "\n",
        "    def get_title(self):\n",
        "        return self.__title\n",
        "\n",
        "    def get_author(self):\n",
        "        return self.__author\n",
        "\n",
        "    def get_publication_date(self):\n",
        "        return self.__publication_date\n",
        "\n",
        "    def get_isbn(self):\n",
        "        return self.__isbn\n",
        "\n",
        "    def is_checked_out(self):\n",
        "        return self.__checked_out\n",
        "\n",
        "    def check_out(self):\n",
        "        self.__checked_out = True\n",
        "\n",
        "    def return_book(self):\n",
        "        self.__checked_out = False\n",
        "\n",
        "class FictionBook(Book):\n",
        "    def __init__(self, title, author, publication_date, isbn, genre):\n",
        "        super().__init__(title, author, publication_date, isbn)\n",
        "        self.__genre = genre\n",
        "\n",
        "    def get_genre(self):\n",
        "        return self.__genre\n",
        "\n",
        "class NonFictionBook(Book):\n",
        "    def __init__(self, title, author, publication_date, isbn, topic):\n",
        "        super().__init__(title, author, publication_date, isbn)\n",
        "        self.__topic = topic\n",
        "\n",
        "    def get_topic(self):\n",
        "        return self.__topic\n",
        "\n",
        "class Patron:\n",
        "    def __init__(self, name, patron_id):\n",
        "        self.__name = name\n",
        "        self.__patron_id = patron_id\n",
        "\n",
        "    def get_name(self):\n",
        "        return self.__name\n",
        "\n",
        "    def get_patron_id(self):\n",
        "        return self.__patron_id\n",
        "\n",
        "class Transaction:\n",
        "    def __init__(self, book, patron):\n",
        "        self.__book = book\n",
        "        self.__patron = patron\n",
        "        self.__checkout_date = datetime.date.today()\n",
        "        self.__due_date = self.__checkout_date + datetime.timedelta(days=14)\n",
        "\n",
        "    def get_book(self):\n",
        "        return self.__book\n",
        "\n",
        "    def get_patron(self):\n",
        "        return self.__patron\n",
        "\n",
        "    def get_checkout_date(self):\n",
        "        return self.__checkout_date\n",
        "\n",
        "    def get_due_date(self):\n",
        "        return self.__due_date\n",
        "\n",
        "    def is_overdue(self):\n",
        "        return datetime.date.today() > self.__due_date\n",
        "\n",
        "# Sample usage of the library management system\n",
        "if __name__ == \"__main__\":\n",
        "    fiction_book = FictionBook(\"The Great Gatsby\", \"F. Scott Fitzgerald\", \"1925\", \"978-0743273565\", \"Classics\")\n",
        "    nonfiction_book = NonFictionBook(\"Sapiens: A Brief History of Humankind\", \"Yuval Noah Harari\", \"2014\", \"978-0062316097\", \"History\")\n",
        "    patron = Patron(\"Alice\", \"12345\")\n",
        "\n",
        "    transaction1 = Transaction(fiction_book, patron)\n",
        "    transaction2 = Transaction(nonfiction_book, patron)\n",
        "\n",
        "    fiction_book.check_out()\n",
        "    print(fiction_book.is_checked_out())  # Output: True\n",
        "\n",
        "    nonfiction_book.return_book()\n",
        "    print(nonfiction_book.is_checked_out())  # Output: False\n",
        "\n",
        "    print(transaction1.is_overdue())  # Output: False\n",
        "    print(transaction2.is_overdue())  # Output: True"
      ],
      "metadata": {
        "colab": {
          "base_uri": "https://localhost:8080/"
        },
        "id": "O77sxhvHgunq",
        "outputId": "e33699f5-ac83-4b64-b5bd-5d35592be7bc"
      },
      "execution_count": 56,
      "outputs": [
        {
          "output_type": "stream",
          "name": "stdout",
          "text": [
            "True\n",
            "False\n",
            "False\n",
            "False\n"
          ]
        }
      ]
    },
    {
      "cell_type": "markdown",
      "source": [
        "6.Online Shopping Cart\n",
        "\n",
        "Scenario: You are tasked with designing a class hierarchy for an online shopping cart system. The system should handle products, shopping carts, and orders. Consider various OOP principles while designing this system.\n",
        "\n",
        "1. Create a class hierarchy that includes classes for products (e.g., Product), shopping carts (e.g., ShoppingCart), and orders (e.g., Order). Define attributes and methods for each class.\n",
        "\n",
        "2 Implement encapsulation by making relevant attributes private and providing getter and setter methods where necessary. 3. Use inheritance to represent different types of products (e.g., electronics, clothing) as\n",
        "\n",
        "subclasses of the Product class. Ensure that each product type can have specific attributes\n",
        "\n",
        "and methods.\n",
        "\n",
        "4. Demonstrate polymorphism by allowing various product types to be added to a shopping cart and calculate the total cost of items in the cart.\n",
        "\n",
        "5. Implement a method for placing an order, which transfers items from the shopping cart to an order.\n",
        "\n",
        "Consider scenarios like out-of-stock products, discounts, and shipping costs in your design."
      ],
      "metadata": {
        "id": "mWHsOv9VPGuF"
      }
    },
    {
      "cell_type": "code",
      "source": [
        "class Product:\n",
        "    def __init__(self, product_id, name, price):\n",
        "        self.product_id = product_id\n",
        "        self.name = name\n",
        "        self.price = price\n",
        "\n",
        "    def get_product_id(self):\n",
        "        return self.product_id\n",
        "\n",
        "    def get_name(self):\n",
        "        return self.name\n",
        "\n",
        "    def get_price(self):\n",
        "        return self.price\n",
        "\n",
        "class ShoppingCart:\n",
        "    def __init__(self):\n",
        "        self.items = []\n",
        "\n",
        "    def add_product(self, product, quantity=1):\n",
        "        self.items.append({\"product\": product, \"quantity\": quantity})\n",
        "\n",
        "    def remove_product(self, product):\n",
        "        self.items = [item for item in self.items if item[\"product\"] != product]\n",
        "\n",
        "    def calculate_total_cost(self):\n",
        "        total_cost = 0\n",
        "        for item in self.items:\n",
        "            total_cost += item[\"product\"].get_price() * item[\"quantity\"]\n",
        "        return total_cost\n",
        "\n",
        "class Order:\n",
        "    def __init__(self, order_id, customer):\n",
        "        self.order_id = order_id\n",
        "        self.customer = customer\n",
        "        self.items = []\n",
        "\n",
        "    def add_item(self, product, quantity=1):\n",
        "        self.items.append({\"product\": product, \"quantity\": quantity})\n",
        "\n",
        "    def calculate_order_total(self):\n",
        "        total_cost = 0\n",
        "        for item in self.items:\n",
        "            total_cost += item[\"product\"].get_price() * item[\"quantity\"]\n",
        "        return total_cost\n",
        "\n",
        "# Inheritance example\n",
        "class Electronics(Product):\n",
        "    def __init__(self, product_id, name, price, brand):\n",
        "        super().__init__(product_id, name, price)\n",
        "        self.brand = brand\n",
        "\n",
        "# Usage\n",
        "iphone = Electronics(\"1\", \"iPhone 13\", 999.99, \"Apple\")\n",
        "laptop = Electronics(\"2\", \"Dell XPS 15\", 1499.99, \"Dell\")\n",
        "\n",
        "cart = ShoppingCart()\n",
        "cart.add_product(iphone, 2)\n",
        "cart.add_product(laptop)\n",
        "\n",
        "order = Order(\"123\", \"John Doe\")\n",
        "order.add_item(iphone, 2)\n",
        "order.add_item(laptop)\n",
        "\n",
        "total_cart_cost = cart.calculate_total_cost()\n",
        "total_order_cost = order.calculate_order_total()\n",
        "\n",
        "print(f\"Total Cart Cost: ${total_cart_cost}\")\n",
        "print(f\"Total Order Cost: ${total_order_cost}\")"
      ],
      "metadata": {
        "colab": {
          "base_uri": "https://localhost:8080/"
        },
        "id": "ogbgYP_mfGX0",
        "outputId": "1411efce-b88b-4dd9-9c51-0d47b499d9c4"
      },
      "execution_count": 51,
      "outputs": [
        {
          "output_type": "stream",
          "name": "stdout",
          "text": [
            "Total Cart Cost: $3499.9700000000003\n",
            "Total Order Cost: $3499.9700000000003\n"
          ]
        }
      ]
    }
  ]
}