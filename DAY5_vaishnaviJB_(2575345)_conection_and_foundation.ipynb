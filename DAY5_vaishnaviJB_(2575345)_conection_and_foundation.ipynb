{
  "nbformat": 4,
  "nbformat_minor": 0,
  "metadata": {
    "colab": {
      "provenance": []
    },
    "kernelspec": {
      "name": "python3",
      "display_name": "Python 3"
    },
    "language_info": {
      "name": "python"
    }
  },
  "cells": [
    {
      "cell_type": "code",
      "execution_count": 1,
      "metadata": {
        "colab": {
          "base_uri": "https://localhost:8080/",
          "height": 383
        },
        "id": "BL298Htn5vSR",
        "outputId": "333e4d92-4c4b-4e1e-c8db-c20e1c520dce"
      },
      "outputs": [
        {
          "output_type": "error",
          "ename": "ModuleNotFoundError",
          "evalue": "ignored",
          "traceback": [
            "\u001b[0;31m---------------------------------------------------------------------------\u001b[0m",
            "\u001b[0;31mModuleNotFoundError\u001b[0m                       Traceback (most recent call last)",
            "\u001b[0;32m<ipython-input-1-ddd67d14bb1e>\u001b[0m in \u001b[0;36m<cell line: 2>\u001b[0;34m()\u001b[0m\n\u001b[1;32m      1\u001b[0m \u001b[0;31m# main.py\u001b[0m\u001b[0;34m\u001b[0m\u001b[0;34m\u001b[0m\u001b[0m\n\u001b[0;32m----> 2\u001b[0;31m \u001b[0;32mimport\u001b[0m \u001b[0mmodule1\u001b[0m\u001b[0;34m\u001b[0m\u001b[0;34m\u001b[0m\u001b[0m\n\u001b[0m\u001b[1;32m      3\u001b[0m \u001b[0;32mimport\u001b[0m \u001b[0mmodule2\u001b[0m\u001b[0;34m\u001b[0m\u001b[0;34m\u001b[0m\u001b[0m\n\u001b[1;32m      4\u001b[0m \u001b[0;34m\u001b[0m\u001b[0m\n\u001b[1;32m      5\u001b[0m \u001b[0;31m# Use functions and variables from module1\u001b[0m\u001b[0;34m\u001b[0m\u001b[0;34m\u001b[0m\u001b[0m\n",
            "\u001b[0;31mModuleNotFoundError\u001b[0m: No module named 'module1'",
            "",
            "\u001b[0;31m---------------------------------------------------------------------------\u001b[0;32m\nNOTE: If your import is failing due to a missing package, you can\nmanually install dependencies using either !pip or !apt.\n\nTo view examples of installing some common dependencies, click the\n\"Open Examples\" button below.\n\u001b[0;31m---------------------------------------------------------------------------\u001b[0m\n"
          ],
          "errorDetails": {
            "actions": [
              {
                "action": "open_url",
                "actionText": "Open Examples",
                "url": "/notebooks/snippets/importing_libraries.ipynb"
              }
            ]
          }
        }
      ],
      "source": [
        "# main.py\n",
        "import module1\n",
        "import module2\n",
        "\n",
        "# Use functions and variables from module1\n",
        "module1.say_hello()\n",
        "result = module1.add_numbers(5, 3)\n",
        "print(f\"Result from module1: {result}\")\n",
        "\n",
        "# Use functions and variables from module2\n",
        "result = module2.multiply_numbers(4, 6)\n",
        "print(f\"Result from module2: {result}\")\n",
        "\n",
        "print(module1.module1_variable)  # Accessing module1's variable\n",
        "print(module2.module2_variable)  # Accessing module2's variable\n",
        "\n",
        "try:\n",
        "    import non_existent_module  # Try importing a non-existent module\n",
        "except ImportError as e:\n",
        "    print(f\"Error importing module: {e}\")"
      ]
    },
    {
      "cell_type": "code",
      "source": [
        "import subprocess\n",
        "import sys\n",
        "import os\n",
        "\n",
        "def create_virtual_environment(project_name):\n",
        "    try:\n",
        "        # Create a virtual environment for the specified project\n",
        "        subprocess.run([sys.executable, '-m', 'venv', project_name])\n",
        "        print(f\"Virtual environment '{project_name}' created successfully.\")\n",
        "    except Exception as e:\n",
        "        print(f\"Error creating virtual environment: {e}\")\n",
        "\n",
        "def activate_virtual_environment(venv_path):\n",
        "    try:\n",
        "        # Activate the virtual environment\n",
        "        if sys.platform == 'win32':\n",
        "            activate_script = os.path.join(venv_path, 'Scripts', 'activate')\n",
        "        else:\n",
        "            activate_script = os.path.join(venv_path, 'bin', 'activate')\n",
        "\n",
        "        activate_cmd = f'source {activate_script}'\n",
        "        subprocess.run(activate_cmd, shell=True)\n",
        "        print(f\"Activated virtual environment at '{venv_path}'.\")\n",
        "    except Exception as e:\n",
        "        print(f\"Error activating virtual environment: {e}\")\n",
        "\n",
        "def deactivate_virtual_environment():\n",
        "    try:\n",
        "        # Deactivate the virtual environment\n",
        "        subprocess.run(['deactivate'], shell=True)\n",
        "        print(\"Deactivated virtual environment.\")\n",
        "    except Exception as e:\n",
        "        print(f\"Error deactivating virtual environment: {e}\")\n",
        "\n",
        "def install_package(venv_path, package_name):\n",
        "    try:\n",
        "        # Install a package in the virtual environment\n",
        "        subprocess.run([os.path.join(venv_path, 'bin', 'pip'), 'install', package_name])\n",
        "        print(f\"Package '{package_name}' installed in the virtual environment.\")\n",
        "    except Exception as e:\n",
        "        print(f\"Error installing package: {e}\")\n",
        "\n",
        "def list_installed_packages(venv_path):\n",
        "    try:\n",
        "        # List installed packages in the virtual environment\n",
        "        subprocess.run([os.path.join(venv_path, 'bin', 'pip'), 'freeze'])\n",
        "    except Exception as e:\n",
        "        print(f\"Error listing installed packages: {e}\")\n",
        "\n",
        "def main():\n",
        "    project_name = 'my_project'\n",
        "    create_virtual_environment(project_name)\n",
        "\n",
        "    # Specify the virtual environment path\n",
        "    venv_path = os.path.join(os.getcwd(), project_name)\n",
        "\n",
        "    activate_virtual_environment(venv_path)\n",
        "\n",
        "    # Install or upgrade packages within the virtual environment\n",
        "    install_package(venv_path, 'requests')\n",
        "    install_package(venv_path, '--upgrade pandas')\n",
        "\n",
        "    # List installed packages\n",
        "    list_installed_packages(venv_path)\n",
        "\n",
        "    # Deactivate the virtual environment\n",
        "    deactivate_virtual_environment()\n",
        "\n",
        "if __name__== \"__main__\":\n",
        "    main()"
      ],
      "metadata": {
        "colab": {
          "base_uri": "https://localhost:8080/"
        },
        "id": "ud1CLs3Y6X-H",
        "outputId": "6b4d4c57-c2aa-4acc-a8f3-c65aabf2ffb2"
      },
      "execution_count": 3,
      "outputs": [
        {
          "output_type": "stream",
          "name": "stdout",
          "text": [
            "Virtual environment 'my_project' created successfully.\n",
            "Activated virtual environment at '/content/my_project'.\n",
            "Error installing package: [Errno 2] No such file or directory: '/content/my_project/bin/pip'\n",
            "Error installing package: [Errno 2] No such file or directory: '/content/my_project/bin/pip'\n",
            "Error listing installed packages: [Errno 2] No such file or directory: '/content/my_project/bin/pip'\n",
            "Deactivated virtual environment.\n"
          ]
        }
      ]
    },
    {
      "cell_type": "code",
      "source": [
        "import subprocess\n",
        "\n",
        "def install_dependencies(requirements_file):\n",
        "    try:\n",
        "        # Execute the 'pip install' command to install dependencies\n",
        "        subprocess.run(['pip', 'install', '-r', requirements_file], check=True)\n",
        "        print(\"Dependencies installed successfully.\")\n",
        "    except subprocess.CalledProcessError as e:\n",
        "        print(f\"Error during dependency installation (Exit Code {e.returncode}):\")\n",
        "        print(e.stderr.decode())\n",
        "    except FileNotFoundError:\n",
        "        print(\"Error: 'pip' command not found. Please make sure pip is installed.\")\n",
        "    except Exception as e:\n",
        "        print(f\"An unexpected error occurred: {e}\")\n",
        "\n",
        "def main():\n",
        "    # Specify the path to your requirements.txt file\n",
        "    requirements_file = 'requirements.txt'\n",
        "\n",
        "    # Call the function to install dependencies\n",
        "    install_dependencies(requirements_file)\n",
        "\n",
        "if __name__ == \"__main__\":\n",
        "    main()"
      ],
      "metadata": {
        "colab": {
          "base_uri": "https://localhost:8080/",
          "height": 460
        },
        "id": "21mreg136uAV",
        "outputId": "f9f28c00-c96a-4b94-f42d-e45b20c9e291"
      },
      "execution_count": 4,
      "outputs": [
        {
          "output_type": "stream",
          "name": "stdout",
          "text": [
            "Error during dependency installation (Exit Code 1):\n"
          ]
        },
        {
          "output_type": "error",
          "ename": "AttributeError",
          "evalue": "ignored",
          "traceback": [
            "\u001b[0;31m---------------------------------------------------------------------------\u001b[0m",
            "\u001b[0;31mCalledProcessError\u001b[0m                        Traceback (most recent call last)",
            "\u001b[0;32m<ipython-input-4-041f16d42d75>\u001b[0m in \u001b[0;36minstall_dependencies\u001b[0;34m(requirements_file)\u001b[0m\n\u001b[1;32m      5\u001b[0m         \u001b[0;31m# Execute the 'pip install' command to install dependencies\u001b[0m\u001b[0;34m\u001b[0m\u001b[0;34m\u001b[0m\u001b[0m\n\u001b[0;32m----> 6\u001b[0;31m         \u001b[0msubprocess\u001b[0m\u001b[0;34m.\u001b[0m\u001b[0mrun\u001b[0m\u001b[0;34m(\u001b[0m\u001b[0;34m[\u001b[0m\u001b[0;34m'pip'\u001b[0m\u001b[0;34m,\u001b[0m \u001b[0;34m'install'\u001b[0m\u001b[0;34m,\u001b[0m \u001b[0;34m'-r'\u001b[0m\u001b[0;34m,\u001b[0m \u001b[0mrequirements_file\u001b[0m\u001b[0;34m]\u001b[0m\u001b[0;34m,\u001b[0m \u001b[0mcheck\u001b[0m\u001b[0;34m=\u001b[0m\u001b[0;32mTrue\u001b[0m\u001b[0;34m)\u001b[0m\u001b[0;34m\u001b[0m\u001b[0;34m\u001b[0m\u001b[0m\n\u001b[0m\u001b[1;32m      7\u001b[0m         \u001b[0mprint\u001b[0m\u001b[0;34m(\u001b[0m\u001b[0;34m\"Dependencies installed successfully.\"\u001b[0m\u001b[0;34m)\u001b[0m\u001b[0;34m\u001b[0m\u001b[0;34m\u001b[0m\u001b[0m\n",
            "\u001b[0;32m/usr/lib/python3.10/subprocess.py\u001b[0m in \u001b[0;36mrun\u001b[0;34m(input, capture_output, timeout, check, *popenargs, **kwargs)\u001b[0m\n\u001b[1;32m    525\u001b[0m         \u001b[0;32mif\u001b[0m \u001b[0mcheck\u001b[0m \u001b[0;32mand\u001b[0m \u001b[0mretcode\u001b[0m\u001b[0;34m:\u001b[0m\u001b[0;34m\u001b[0m\u001b[0;34m\u001b[0m\u001b[0m\n\u001b[0;32m--> 526\u001b[0;31m             raise CalledProcessError(retcode, process.args,\n\u001b[0m\u001b[1;32m    527\u001b[0m                                      output=stdout, stderr=stderr)\n",
            "\u001b[0;31mCalledProcessError\u001b[0m: Command '['pip', 'install', '-r', 'requirements.txt']' returned non-zero exit status 1.",
            "\nDuring handling of the above exception, another exception occurred:\n",
            "\u001b[0;31mAttributeError\u001b[0m                            Traceback (most recent call last)",
            "\u001b[0;32m<ipython-input-4-041f16d42d75>\u001b[0m in \u001b[0;36m<cell line: 23>\u001b[0;34m()\u001b[0m\n\u001b[1;32m     22\u001b[0m \u001b[0;34m\u001b[0m\u001b[0m\n\u001b[1;32m     23\u001b[0m \u001b[0;32mif\u001b[0m \u001b[0m__name__\u001b[0m \u001b[0;34m==\u001b[0m \u001b[0;34m\"__main__\"\u001b[0m\u001b[0;34m:\u001b[0m\u001b[0;34m\u001b[0m\u001b[0;34m\u001b[0m\u001b[0m\n\u001b[0;32m---> 24\u001b[0;31m     \u001b[0mmain\u001b[0m\u001b[0;34m(\u001b[0m\u001b[0;34m)\u001b[0m\u001b[0;34m\u001b[0m\u001b[0;34m\u001b[0m\u001b[0m\n\u001b[0m",
            "\u001b[0;32m<ipython-input-4-041f16d42d75>\u001b[0m in \u001b[0;36mmain\u001b[0;34m()\u001b[0m\n\u001b[1;32m     19\u001b[0m \u001b[0;34m\u001b[0m\u001b[0m\n\u001b[1;32m     20\u001b[0m     \u001b[0;31m# Call the function to install dependencies\u001b[0m\u001b[0;34m\u001b[0m\u001b[0;34m\u001b[0m\u001b[0m\n\u001b[0;32m---> 21\u001b[0;31m     \u001b[0minstall_dependencies\u001b[0m\u001b[0;34m(\u001b[0m\u001b[0mrequirements_file\u001b[0m\u001b[0;34m)\u001b[0m\u001b[0;34m\u001b[0m\u001b[0;34m\u001b[0m\u001b[0m\n\u001b[0m\u001b[1;32m     22\u001b[0m \u001b[0;34m\u001b[0m\u001b[0m\n\u001b[1;32m     23\u001b[0m \u001b[0;32mif\u001b[0m \u001b[0m__name__\u001b[0m \u001b[0;34m==\u001b[0m \u001b[0;34m\"__main__\"\u001b[0m\u001b[0;34m:\u001b[0m\u001b[0;34m\u001b[0m\u001b[0;34m\u001b[0m\u001b[0m\n",
            "\u001b[0;32m<ipython-input-4-041f16d42d75>\u001b[0m in \u001b[0;36minstall_dependencies\u001b[0;34m(requirements_file)\u001b[0m\n\u001b[1;32m      8\u001b[0m     \u001b[0;32mexcept\u001b[0m \u001b[0msubprocess\u001b[0m\u001b[0;34m.\u001b[0m\u001b[0mCalledProcessError\u001b[0m \u001b[0;32mas\u001b[0m \u001b[0me\u001b[0m\u001b[0;34m:\u001b[0m\u001b[0;34m\u001b[0m\u001b[0;34m\u001b[0m\u001b[0m\n\u001b[1;32m      9\u001b[0m         \u001b[0mprint\u001b[0m\u001b[0;34m(\u001b[0m\u001b[0;34mf\"Error during dependency installation (Exit Code {e.returncode}):\"\u001b[0m\u001b[0;34m)\u001b[0m\u001b[0;34m\u001b[0m\u001b[0;34m\u001b[0m\u001b[0m\n\u001b[0;32m---> 10\u001b[0;31m         \u001b[0mprint\u001b[0m\u001b[0;34m(\u001b[0m\u001b[0me\u001b[0m\u001b[0;34m.\u001b[0m\u001b[0mstderr\u001b[0m\u001b[0;34m.\u001b[0m\u001b[0mdecode\u001b[0m\u001b[0;34m(\u001b[0m\u001b[0;34m)\u001b[0m\u001b[0;34m)\u001b[0m\u001b[0;34m\u001b[0m\u001b[0;34m\u001b[0m\u001b[0m\n\u001b[0m\u001b[1;32m     11\u001b[0m     \u001b[0;32mexcept\u001b[0m \u001b[0mFileNotFoundError\u001b[0m\u001b[0;34m:\u001b[0m\u001b[0;34m\u001b[0m\u001b[0;34m\u001b[0m\u001b[0m\n\u001b[1;32m     12\u001b[0m         \u001b[0mprint\u001b[0m\u001b[0;34m(\u001b[0m\u001b[0;34m\"Error: 'pip' command not found. Please make sure pip is installed.\"\u001b[0m\u001b[0;34m)\u001b[0m\u001b[0;34m\u001b[0m\u001b[0;34m\u001b[0m\u001b[0m\n",
            "\u001b[0;31mAttributeError\u001b[0m: 'NoneType' object has no attribute 'decode'"
          ]
        }
      ]
    },
    {
      "cell_type": "code",
      "source": [
        "import mysql.connector\n",
        "\n",
        "# Establish a connection to the MySQL database\n",
        "conn = mysql.connector.connect(\n",
        "    host=\"127.0.0.1\",\n",
        "    user=\"root\",\n",
        "    password=\"Correctpassword@2903\",\n",
        "    database=\"inventory_db\"\n",
        ")\n",
        "\n",
        "cursor = conn.cursor()\n",
        "\n",
        "def add_product(name, description, price, quantity):\n",
        "    query = \"INSERT INTO products (name, description, price, quantity) VALUES (%s, %s, %s, %s)\"\n",
        "    data = (name, description, price, quantity)\n",
        "    cursor.execute(query, data)\n",
        "    conn.commit()\n",
        "    print(\"Product added successfully!\")\n",
        "\n",
        "def update_product(product_id, quantity_change):\n",
        "    query = \"UPDATE products SET quantity = quantity + %s WHERE id = %s\"\n",
        "    data = (quantity_change, product_id)\n",
        "    cursor.execute(query, data)\n",
        "    conn.commit()\n",
        "    print(\"Inventory updated successfully!\")\n",
        "\n",
        "def view_products():\n",
        "    query = \"SELECT * FROM products\"\n",
        "    cursor.execute(query)\n",
        "    products = cursor.fetchall()\n",
        "    if not products:\n",
        "        print(\"No products found.\")\n",
        "    else:\n",
        "        for product in products:\n",
        "            print(product)\n",
        "\n",
        "def delete_product(product_id):\n",
        "    query = \"DELETE FROM products WHERE id = %s\"\n",
        "    data = (product_id,)\n",
        "    cursor.execute(query, data)\n",
        "    conn.commit()\n",
        "    print(\"Product deleted successfully!\")\n",
        "\n",
        "while True:\n",
        "    print(\"\\nInventory Management System\")\n",
        "    print(\"1. Add Product\")\n",
        "    print(\"2. Update Inventory\")\n",
        "    print(\"3. View Products\")\n",
        "    print(\"4. Delete Product\")\n",
        "    print(\"5. Quit\")\n",
        "\n",
        "    choice = input(\"Enter your choice: \")\n",
        "\n",
        "    if choice == \"1\":\n",
        "        name = input(\"Enter product name: \")\n",
        "        description = input(\"Enter product description: \")\n",
        "        price = float(input(\"Enter product price: \"))\n",
        "        quantity = int(input(\"Enter product quantity: \"))\n",
        "        add_product(name, description, price, quantity)\n",
        "    elif choice == \"2\":\n",
        "        product_id = int(input(\"Enter product ID to update inventory: \"))\n",
        "        quantity_change = int(input(\"Enter quantity change: \"))\n",
        "        update_product(product_id, quantity_change)\n",
        "    elif choice == \"3\":\n",
        "        view_products()\n",
        "    elif choice == \"4\":\n",
        "        product_id = int(input(\"Enter product ID to delete: \"))\n",
        "        delete_product(product_id)\n",
        "    elif choice == \"5\":\n",
        "        break\n",
        "    else:\n",
        "        print(\"Invalid choice. Please try again.\")\n",
        "\n",
        "# Close the cursor and database connection\n",
        "cursor.close()\n",
        "conn.close()"
      ],
      "metadata": {
        "colab": {
          "base_uri": "https://localhost:8080/",
          "height": 383
        },
        "id": "VIXeqWXm69yW",
        "outputId": "cb7a0232-dffb-4201-ff54-20bb7195679e"
      },
      "execution_count": 5,
      "outputs": [
        {
          "output_type": "error",
          "ename": "ModuleNotFoundError",
          "evalue": "ignored",
          "traceback": [
            "\u001b[0;31m---------------------------------------------------------------------------\u001b[0m",
            "\u001b[0;31mModuleNotFoundError\u001b[0m                       Traceback (most recent call last)",
            "\u001b[0;32m<ipython-input-5-258043fe81be>\u001b[0m in \u001b[0;36m<cell line: 1>\u001b[0;34m()\u001b[0m\n\u001b[0;32m----> 1\u001b[0;31m \u001b[0;32mimport\u001b[0m \u001b[0mmysql\u001b[0m\u001b[0;34m.\u001b[0m\u001b[0mconnector\u001b[0m\u001b[0;34m\u001b[0m\u001b[0;34m\u001b[0m\u001b[0m\n\u001b[0m\u001b[1;32m      2\u001b[0m \u001b[0;34m\u001b[0m\u001b[0m\n\u001b[1;32m      3\u001b[0m \u001b[0;31m# Establish a connection to the MySQL database\u001b[0m\u001b[0;34m\u001b[0m\u001b[0;34m\u001b[0m\u001b[0m\n\u001b[1;32m      4\u001b[0m conn = mysql.connector.connect(\n\u001b[1;32m      5\u001b[0m     \u001b[0mhost\u001b[0m\u001b[0;34m=\u001b[0m\u001b[0;34m\"127.0.0.1\"\u001b[0m\u001b[0;34m,\u001b[0m\u001b[0;34m\u001b[0m\u001b[0;34m\u001b[0m\u001b[0m\n",
            "\u001b[0;31mModuleNotFoundError\u001b[0m: No module named 'mysql'",
            "",
            "\u001b[0;31m---------------------------------------------------------------------------\u001b[0;32m\nNOTE: If your import is failing due to a missing package, you can\nmanually install dependencies using either !pip or !apt.\n\nTo view examples of installing some common dependencies, click the\n\"Open Examples\" button below.\n\u001b[0;31m---------------------------------------------------------------------------\u001b[0m\n"
          ],
          "errorDetails": {
            "actions": [
              {
                "action": "open_url",
                "actionText": "Open Examples",
                "url": "/notebooks/snippets/importing_libraries.ipynb"
              }
            ]
          }
        }
      ]
    },
    {
      "cell_type": "code",
      "source": [
        "import mysql.connector\n",
        "from datetime import date\n",
        "\n",
        "# Establish a connection to the MySQL database\n",
        "conn = mysql.connector.connect(\n",
        "    host=\"127.0.0.1\",\n",
        "    user=\"root\",\n",
        "    password=\"Correctpassword@2903\",\n",
        "    database=\"order_processing_db\"\n",
        ")\n",
        "\n",
        "cursor = conn.cursor()\n",
        "\n",
        "def place_order(customer_id, product_id, quantity):\n",
        "    try:\n",
        "        # Check if the product is available in sufficient quantity\n",
        "        cursor.execute(\"SELECT price, quantity_available FROM products WHERE product_id = %s\", (product_id,))\n",
        "        result = cursor.fetchone()\n",
        "\n",
        "        if result is None:\n",
        "            print(\"Product not found.\")\n",
        "            return\n",
        "        elif result[1] < quantity:\n",
        "            print(\"Insufficient quantity available.\")\n",
        "            return\n",
        "\n",
        "        # Calculate the subtotal\n",
        "        subtotal = result[0] * quantity\n",
        "\n",
        "        # Insert into orders table\n",
        "        cursor.execute(\"INSERT INTO orders (customer_id, order_date, total_cost) VALUES (%s, %s, %s)\",\n",
        "                       (customer_id, date.today(), subtotal))\n",
        "        order_id = cursor.lastrowid\n",
        "\n",
        "        # Insert into order_details table\n",
        "        cursor.execute(\"INSERT INTO order_details (order_id, product_id, quantity_ordered, subtotal) VALUES (%s, %s, %s, %s)\",\n",
        "                       (order_id, product_id, quantity, subtotal))\n",
        "\n",
        "        # Update product quantity\n",
        "        cursor.execute(\"UPDATE products SET quantity_available = quantity_available - %s WHERE product_id = %s\",\n",
        "                       (quantity, product_id))\n",
        "\n",
        "        conn.commit()\n",
        "        print(\"Order placed successfully!\")\n",
        "\n",
        "    except Exception as e:\n",
        "        conn.rollback()\n",
        "        print(f\"Error placing order: {e}\")\n",
        "\n",
        "# Example usage:\n",
        "customer_id = 1  # Replace with the actual customer ID\n",
        "product_id = 1   # Replace with the actual product ID\n",
        "quantity = 3\n",
        "\n",
        "place_order(customer_id, product_id, quantity)\n",
        "\n",
        "# Close the cursor and database connection\n",
        "cursor.close()\n",
        "conn.close()"
      ],
      "metadata": {
        "colab": {
          "base_uri": "https://localhost:8080/",
          "height": 383
        },
        "id": "uLjTDd6g7QC5",
        "outputId": "02282dc0-44c1-4831-f1c6-cfc67f21b78d"
      },
      "execution_count": 6,
      "outputs": [
        {
          "output_type": "error",
          "ename": "ModuleNotFoundError",
          "evalue": "ignored",
          "traceback": [
            "\u001b[0;31m---------------------------------------------------------------------------\u001b[0m",
            "\u001b[0;31mModuleNotFoundError\u001b[0m                       Traceback (most recent call last)",
            "\u001b[0;32m<ipython-input-6-245dfeebe814>\u001b[0m in \u001b[0;36m<cell line: 1>\u001b[0;34m()\u001b[0m\n\u001b[0;32m----> 1\u001b[0;31m \u001b[0;32mimport\u001b[0m \u001b[0mmysql\u001b[0m\u001b[0;34m.\u001b[0m\u001b[0mconnector\u001b[0m\u001b[0;34m\u001b[0m\u001b[0;34m\u001b[0m\u001b[0m\n\u001b[0m\u001b[1;32m      2\u001b[0m \u001b[0;32mfrom\u001b[0m \u001b[0mdatetime\u001b[0m \u001b[0;32mimport\u001b[0m \u001b[0mdate\u001b[0m\u001b[0;34m\u001b[0m\u001b[0;34m\u001b[0m\u001b[0m\n\u001b[1;32m      3\u001b[0m \u001b[0;34m\u001b[0m\u001b[0m\n\u001b[1;32m      4\u001b[0m \u001b[0;31m# Establish a connection to the MySQL database\u001b[0m\u001b[0;34m\u001b[0m\u001b[0;34m\u001b[0m\u001b[0m\n\u001b[1;32m      5\u001b[0m conn = mysql.connector.connect(\n",
            "\u001b[0;31mModuleNotFoundError\u001b[0m: No module named 'mysql'",
            "",
            "\u001b[0;31m---------------------------------------------------------------------------\u001b[0;32m\nNOTE: If your import is failing due to a missing package, you can\nmanually install dependencies using either !pip or !apt.\n\nTo view examples of installing some common dependencies, click the\n\"Open Examples\" button below.\n\u001b[0;31m---------------------------------------------------------------------------\u001b[0m\n"
          ],
          "errorDetails": {
            "actions": [
              {
                "action": "open_url",
                "actionText": "Open Examples",
                "url": "/notebooks/snippets/importing_libraries.ipynb"
              }
            ]
          }
        }
      ]
    },
    {
      "cell_type": "code",
      "source": [
        "import mysql.connector\n",
        "from datetime import date\n",
        "\n",
        "# Establish a connection to the MySQL database\n",
        "conn = mysql.connector.connect(\n",
        "    host=\"127.0.0.1\",\n",
        "    user=\"root\",\n",
        "    password=\"Ramyasaki@18\",\n",
        "    database=\"order_processing_db\"\n",
        ")\n",
        "\n",
        "cursor = conn.cursor()\n",
        "\n",
        "def place_order(customer_id, product_id, quantity):\n",
        "    try:\n",
        "        # Check if the product is available in sufficient quantity\n",
        "        cursor.execute(\"SELECT price, quantity_available FROM products WHERE product_id = %s\", (product_id,))\n",
        "        result = cursor.fetchone()\n",
        "\n",
        "        if result is None:\n",
        "            print(\"Product not found.\")\n",
        "            return\n",
        "        elif result[1] < quantity:\n",
        "            print(\"Insufficient quantity available.\")\n",
        "            return\n",
        "\n",
        "        # Calculate the subtotal\n",
        "        subtotal = result[0] * quantity\n",
        "\n",
        "        # Insert into orders table\n",
        "        cursor.execute(\"INSERT INTO orders (customer_id, order_date, total_cost) VALUES (%s, %s, %s)\",\n",
        "                       (customer_id, date.today(), subtotal))\n",
        "        order_id = cursor.lastrowid\n",
        "\n",
        "        # Insert into order_details table\n",
        "        cursor.execute(\"INSERT INTO order_details (order_id, product_id, quantity_ordered, subtotal) VALUES (%s, %s, %s, %s)\",\n",
        "                       (order_id, product_id, quantity, subtotal))\n",
        "\n",
        "        # Update product quantity\n",
        "        cursor.execute(\"UPDATE products SET quantity_available = quantity_available - %s WHERE product_id = %s\",\n",
        "                       (quantity, product_id))\n",
        "\n",
        "        conn.commit()\n",
        "        print(\"Order placed successfully!\")\n",
        "\n",
        "    except Exception as e:\n",
        "        conn.rollback()\n",
        "        print(f\"Error placing order: {e}\")\n",
        "\n",
        "# Example usage:\n",
        "customer_id = 1  # Replace with the actual customer ID\n",
        "product_id = 1   # Replace with the actual product ID\n",
        "quantity = 3\n",
        "\n",
        "place_order(customer_id, product_id, quantity)\n",
        "\n",
        "# Close the cursor and database connection\n",
        "cursor.close()\n",
        "conn.close()"
      ],
      "metadata": {
        "colab": {
          "base_uri": "https://localhost:8080/",
          "height": 383
        },
        "id": "vGbIr91x7gzA",
        "outputId": "85b22baa-dfb3-4884-87dc-9b8deb626735"
      },
      "execution_count": 7,
      "outputs": [
        {
          "output_type": "error",
          "ename": "ModuleNotFoundError",
          "evalue": "ignored",
          "traceback": [
            "\u001b[0;31m---------------------------------------------------------------------------\u001b[0m",
            "\u001b[0;31mModuleNotFoundError\u001b[0m                       Traceback (most recent call last)",
            "\u001b[0;32m<ipython-input-7-653d122e88da>\u001b[0m in \u001b[0;36m<cell line: 1>\u001b[0;34m()\u001b[0m\n\u001b[0;32m----> 1\u001b[0;31m \u001b[0;32mimport\u001b[0m \u001b[0mmysql\u001b[0m\u001b[0;34m.\u001b[0m\u001b[0mconnector\u001b[0m\u001b[0;34m\u001b[0m\u001b[0;34m\u001b[0m\u001b[0m\n\u001b[0m\u001b[1;32m      2\u001b[0m \u001b[0;32mfrom\u001b[0m \u001b[0mdatetime\u001b[0m \u001b[0;32mimport\u001b[0m \u001b[0mdate\u001b[0m\u001b[0;34m\u001b[0m\u001b[0;34m\u001b[0m\u001b[0m\n\u001b[1;32m      3\u001b[0m \u001b[0;34m\u001b[0m\u001b[0m\n\u001b[1;32m      4\u001b[0m \u001b[0;31m# Establish a connection to the MySQL database\u001b[0m\u001b[0;34m\u001b[0m\u001b[0;34m\u001b[0m\u001b[0m\n\u001b[1;32m      5\u001b[0m conn = mysql.connector.connect(\n",
            "\u001b[0;31mModuleNotFoundError\u001b[0m: No module named 'mysql'",
            "",
            "\u001b[0;31m---------------------------------------------------------------------------\u001b[0;32m\nNOTE: If your import is failing due to a missing package, you can\nmanually install dependencies using either !pip or !apt.\n\nTo view examples of installing some common dependencies, click the\n\"Open Examples\" button below.\n\u001b[0;31m---------------------------------------------------------------------------\u001b[0m\n"
          ],
          "errorDetails": {
            "actions": [
              {
                "action": "open_url",
                "actionText": "Open Examples",
                "url": "/notebooks/snippets/importing_libraries.ipynb"
              }
            ]
          }
        }
      ]
    },
    {
      "cell_type": "code",
      "source": [
        "import mysql.connector\n",
        "\n",
        "# Define the database connection parameters\n",
        "db_config = {\n",
        "    'host': 'localhost',\n",
        "    'port': 3306,\n",
        "    'user': 'root',\n",
        "    'password': 'Ramyasaki@18',\n",
        "    'database': 'yourdatabasename'\n",
        "}\n",
        "\n",
        "try:\n",
        "    # Connect to the MySQL database\n",
        "    connection = mysql.connector.connect(**db_config)\n",
        "\n",
        "    # Create a cursor object to interact with the database\n",
        "    cursor = connection.cursor()\n",
        "\n",
        "    # Step 2(ii): Retrieve all records from the table\n",
        "    cursor.execute(\"SELECT * FROM orderdetails\")\n",
        "    records = cursor.fetchall()\n",
        "\n",
        "    # Initialize a variable to store the total quantity\n",
        "    total_quantity = 0\n",
        "\n",
        "    # Step 2(iii): Calculate the total quantity\n",
        "    for record in records:\n",
        "        total_quantity += record[2]\n",
        "\n",
        "    # Step 2(iv): Update the quantity column by doubling its value\n",
        "    for record in records:\n",
        "        new_quantity = record[2] * 2\n",
        "        cursor.execute(\"UPDATE your_table SET quantity = %s WHERE id = %s\", (new_quantity, record[0]))\n",
        "\n",
        "    # Commit the changes to the database\n",
        "    connection.commit()\n",
        "\n",
        "    # Step 2(vi): Close the database connection\n",
        "    cursor.close()\n",
        "    connection.close()\n",
        "\n",
        "    print(\"Operation completed successfully.\")\n",
        "except mysql.connector.Error as err:\n",
        "    print(f\"Error: {err}\")\n",
        "finally:\n",
        "    if connection.is_connected():\n",
        "        cursor.close()\n",
        "        connection.close()"
      ],
      "metadata": {
        "colab": {
          "base_uri": "https://localhost:8080/",
          "height": 383
        },
        "id": "zn9EIEU873k9",
        "outputId": "90a97415-f184-43e3-d056-1d3ac603f91e"
      },
      "execution_count": 8,
      "outputs": [
        {
          "output_type": "error",
          "ename": "ModuleNotFoundError",
          "evalue": "ignored",
          "traceback": [
            "\u001b[0;31m---------------------------------------------------------------------------\u001b[0m",
            "\u001b[0;31mModuleNotFoundError\u001b[0m                       Traceback (most recent call last)",
            "\u001b[0;32m<ipython-input-8-d08824ad1b35>\u001b[0m in \u001b[0;36m<cell line: 1>\u001b[0;34m()\u001b[0m\n\u001b[0;32m----> 1\u001b[0;31m \u001b[0;32mimport\u001b[0m \u001b[0mmysql\u001b[0m\u001b[0;34m.\u001b[0m\u001b[0mconnector\u001b[0m\u001b[0;34m\u001b[0m\u001b[0;34m\u001b[0m\u001b[0m\n\u001b[0m\u001b[1;32m      2\u001b[0m \u001b[0;34m\u001b[0m\u001b[0m\n\u001b[1;32m      3\u001b[0m \u001b[0;31m# Define the database connection parameters\u001b[0m\u001b[0;34m\u001b[0m\u001b[0;34m\u001b[0m\u001b[0m\n\u001b[1;32m      4\u001b[0m db_config = {\n\u001b[1;32m      5\u001b[0m     \u001b[0;34m'host'\u001b[0m\u001b[0;34m:\u001b[0m \u001b[0;34m'localhost'\u001b[0m\u001b[0;34m,\u001b[0m\u001b[0;34m\u001b[0m\u001b[0;34m\u001b[0m\u001b[0m\n",
            "\u001b[0;31mModuleNotFoundError\u001b[0m: No module named 'mysql'",
            "",
            "\u001b[0;31m---------------------------------------------------------------------------\u001b[0;32m\nNOTE: If your import is failing due to a missing package, you can\nmanually install dependencies using either !pip or !apt.\n\nTo view examples of installing some common dependencies, click the\n\"Open Examples\" button below.\n\u001b[0;31m---------------------------------------------------------------------------\u001b[0m\n"
          ],
          "errorDetails": {
            "actions": [
              {
                "action": "open_url",
                "actionText": "Open Examples",
                "url": "/notebooks/snippets/importing_libraries.ipynb"
              }
            ]
          }
        }
      ]
    },
    {
      "cell_type": "code",
      "source": [
        "import mysql.connector\n",
        "\n",
        "# Define the database connection parameters\n",
        "db_config = {\n",
        "    'host': '127.0.0.1',\n",
        "    'port': 3306,\n",
        "    'user': 'root',\n",
        "    'password': 'Ramyasaki@18',\n",
        "    'database': 'rams'\n",
        "}\n",
        "\n",
        "try:\n",
        "    # Connect to the MySQL database\n",
        "    connection = mysql.connector.connect(**db_config)\n",
        "\n",
        "    # Create a cursor object to interact with the database\n",
        "    cursor = connection.cursor()\n",
        "\n",
        "    # Define the department you want to retrieve employees for\n",
        "    target_department = 'IT'\n",
        "\n",
        "    # Retrieve employees in the specified department\n",
        "    cursor.execute(\"SELECT name FROM employees WHERE department = %s\", (target_department,))\n",
        "    employees = cursor.fetchall()\n",
        "\n",
        "    # Print the list of employees in the department\n",
        "    print(f\"Employees in the {target_department} department:\")\n",
        "    for employee in employees:\n",
        "        print(employee[0])\n",
        "\n",
        "    # Define the employee whose salary you want to update and the new salary\n",
        "    employee_name_to_update = 'John Doe'\n",
        "    new_salary = 65000.00\n",
        "\n",
        "    # Update the salary of the specified employee\n",
        "    cursor.execute(\"UPDATE employees SET salary = %s WHERE name = %s\", (new_salary, employee_name_to_update))\n",
        "\n",
        "    # Commit the changes to the database\n",
        "    connection.commit()\n",
        "\n",
        "    print(f\"Salary of {employee_name_to_update} updated successfully.\")\n",
        "except mysql.connector.Error as err:\n",
        "    print(f\"Error: {err}\")\n",
        "finally:\n",
        "    if connection.is_connected():\n",
        "        cursor.close()\n",
        "        connection.close()"
      ],
      "metadata": {
        "id": "sj4kRHvq8FuC"
      },
      "execution_count": null,
      "outputs": []
    }
  ]
}