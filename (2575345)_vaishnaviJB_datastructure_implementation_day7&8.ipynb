{
  "nbformat": 4,
  "nbformat_minor": 0,
  "metadata": {
    "colab": {
      "provenance": [],
      "authorship_tag": "ABX9TyOdlAHcbb5DviNrGdc10JmY",
      "include_colab_link": true
    },
    "kernelspec": {
      "name": "python3",
      "display_name": "Python 3"
    },
    "language_info": {
      "name": "python"
    }
  },
  "cells": [
    {
      "cell_type": "markdown",
      "metadata": {
        "id": "view-in-github",
        "colab_type": "text"
      },
      "source": [
        "<a href=\"https://colab.research.google.com/github/VaishnaviJB/demo/blob/main/(2575345)_vaishnaviJB_datastructure_implementation_day7%268.ipynb\" target=\"_parent\"><img src=\"https://colab.research.google.com/assets/colab-badge.svg\" alt=\"Open In Colab\"/></a>"
      ]
    },
    {
      "cell_type": "markdown",
      "source": [
        "# Day 7 & 8"
      ],
      "metadata": {
        "id": "2QF8ywRLZsxp"
      }
    },
    {
      "cell_type": "markdown",
      "source": [
        "**Implementation of Data Structures in Python **\n",
        "\n"
      ],
      "metadata": {
        "id": "lZuOw8RgZ-rD"
      }
    },
    {
      "cell_type": "markdown",
      "source": [
        "1. Write a Python program to find a target values in a list using linear search with following steps:\n",
        "\n",
        "a. Initialize the list to store the input elements.\n",
        "\n",
        "b. Initialize found-False.\n",
        "\n",
        "C. Enter the item to be searched (match_item).\n",
        "\n",
        "d. For each element in the list\n",
        "\n",
        "1. if match item = value\n",
        "\n",
        "a. return match item's position.\n",
        "\n",
        "c. If the match item is not in the list. display an error message that the item is not found in the list.**italicized text**"
      ],
      "metadata": {
        "id": "mk6kR3e4aFZl"
      }
    },
    {
      "cell_type": "code",
      "execution_count": null,
      "metadata": {
        "colab": {
          "base_uri": "https://localhost:8080/"
        },
        "id": "F8Hm52NoZCsd",
        "outputId": "e0a1a366-eda7-409d-bc00-7ec1df42367b"
      },
      "outputs": [
        {
          "output_type": "stream",
          "name": "stdout",
          "text": [
            "Enter the item to be searched: 20\n",
            "20 found at position 1\n"
          ]
        }
      ],
      "source": [
        "# Initialize the list\n",
        "input_list = [10, 20, 30, 40, 50]\n",
        "\n",
        "# Initialize found\n",
        "found = False\n",
        "\n",
        "# Enter the item to be searched\n",
        "match_item = int(input(\"Enter the item to be searched: \"))\n",
        "\n",
        "# Linear search\n",
        "for index, value in enumerate(input_list):\n",
        "    if match_item == value:\n",
        "        found = True\n",
        "        position = index\n",
        "        break\n",
        "\n",
        "# Check if the item is found or not\n",
        "if found:\n",
        "    print(f\"{match_item} found at position {position}\")\n",
        "else:\n",
        "    print(f\"{match_item} is not found in the list.\")"
      ]
    },
    {
      "cell_type": "markdown",
      "source": [
        "2. Write a Python program to implement binary search to find the target values from the list:\n",
        "\n",
        "a. Create a separate function to do binary search.\n",
        "\n",
        "b. Get the number of inputs from the user.\n",
        "\n",
        "c. Store the inputs individually in a list.\n",
        "\n",
        "d. In binary search function at first sort the list in order to start the search from middle of the list.\n",
        "\n",
        "e. Compare the middle element to right and left elements to search target element. .\n",
        "\n",
        "f. If greater, move to right of list or else move to another side of the list\n",
        "\n",
        "g. Print the result along with the position of the element."
      ],
      "metadata": {
        "id": "W2LZjUE9aPfY"
      }
    },
    {
      "cell_type": "code",
      "source": [
        "def binary_search(arr, target):\n",
        "    arr.sort()  # Sort the list in ascending order\n",
        "    left, right = 0, len(arr) - 1\n",
        "\n",
        "    while left <= right:\n",
        "        mid = (left + right) // 2\n",
        "        if arr[mid] == target:\n",
        "            return mid  # Target found, return its position\n",
        "        elif arr[mid] < target:\n",
        "            left = mid + 1\n",
        "        else:\n",
        "            right = mid - 1\n",
        "\n",
        "    return -1  # Target not found\n",
        "\n",
        "# Get the number of inputs from the user\n",
        "num_inputs = int(input(\"Enter the number of inputs: \"))\n",
        "\n",
        "# Store the inputs individually in a list\n",
        "input_list = []\n",
        "for i in range(num_inputs):\n",
        "    value = int(input(f\"Enter value {i+1}: \"))\n",
        "    input_list.append(value)\n",
        "\n",
        "# Get the target value from the user\n",
        "target_value = int(input(\"Enter the target value to search for: \"))\n",
        "\n",
        "# Perform binary search\n",
        "result = binary_search(input_list, target_value)\n",
        "\n",
        "if result != -1:\n",
        "    print(f\"Target value {target_value} found at position {result}.\")\n",
        "else:\n",
        "    print(f\"Target value {target_value} not found in the list.\")"
      ],
      "metadata": {
        "colab": {
          "base_uri": "https://localhost:8080/"
        },
        "id": "cTNIRbvnaXoa",
        "outputId": "18bd40e1-3eaf-41d5-ad31-0e98224bb793"
      },
      "execution_count": null,
      "outputs": [
        {
          "output_type": "stream",
          "name": "stdout",
          "text": [
            "Enter the number of inputs: 3\n",
            "Enter value 1: 4\n",
            "Enter value 2: 2\n",
            "Enter value 3: 1\n",
            "Enter the target value to search for: 0\n",
            "Target value 0 not found in the list.\n"
          ]
        }
      ]
    },
    {
      "cell_type": "markdown",
      "source": [
        "3.Write a Python program for sorting a list of elements using selection sort algorithm:\n",
        "\n",
        "a. Assume two lists: Sorted list Initially empty and Unsorted List Given input list\n",
        "\n",
        "b. In the first iteration, find the smallest element in the unsorted list and place it in the sorted list\n",
        "\n",
        "In the second iteration, find the smallest element in the unsorted list and place it in the correct position by comparing with the element in the sorted list.\n",
        "\n",
        "d. In the third iteration, again find the smallest element in the unsorted list and place it in the correct position by comparing with the elements in the sorted list.\n",
        "\n",
        "This process continues till the unsorted list becomes empty.\n",
        "\n",
        "f. Display the sorted list"
      ],
      "metadata": {
        "id": "DhbU7GltaYYX"
      }
    },
    {
      "cell_type": "code",
      "source": [
        "def selection_sort(input_list):\n",
        "    sorted_list = []\n",
        "    while input_list:\n",
        "        min_value = min(input_list)  # Find the minimum value in the unsorted list\n",
        "        sorted_list.append(min_value)  # Append it to the sorted list\n",
        "        input_list.remove(min_value)  # Remove it from the unsorted list\n",
        "    return sorted_list\n",
        "\n",
        "# Input list\n",
        "unsorted_list = [64, 25, 12, 22, 11]\n",
        "\n",
        "# Sort the list using selection sort\n",
        "sorted_list = selection_sort(unsorted_list)\n",
        "\n",
        "# Display the sorted list\n",
        "print(\"Sorted List:\", sorted_list)"
      ],
      "metadata": {
        "colab": {
          "base_uri": "https://localhost:8080/"
        },
        "id": "_u7R_JcrafEl",
        "outputId": "8d981807-53f5-4f64-e339-55c2eca9c22d"
      },
      "execution_count": null,
      "outputs": [
        {
          "output_type": "stream",
          "name": "stdout",
          "text": [
            "Sorted List: [11, 12, 22, 25, 64]\n"
          ]
        }
      ]
    },
    {
      "cell_type": "markdown",
      "source": [
        "4.Write a Python program for sorting a list of elements using insertion sort algorithm: a Assume two lists: Sorted list- Initially empty and Unsorted List-Given input list.\n",
        "\n",
        "b. In the first iteration, take the first element in the unsorted list and insert it in Sorted list.\n",
        "\n",
        "C In the second iteration, take the second element in the given list and compare with the element in the sorted sub list and place it in the correct position.\n",
        "\n",
        "d. In the third iteration, take the third element in the given list and compare with the elements in the sorted sub list and place the elements in the correct position.\n",
        "\n",
        "e This process continues until the last element is inserted in the sorted sub list.\n",
        "\n",
        "f. Display the sorted elements."
      ],
      "metadata": {
        "id": "7DmNUV5cazJK"
      }
    },
    {
      "cell_type": "code",
      "source": [
        "def insertion_sort(input_list):\n",
        "    sorted_list = []\n",
        "    for element in input_list:\n",
        "        if not sorted_list:\n",
        "            sorted_list.append(element)\n",
        "        else:\n",
        "            inserted = False\n",
        "            for i in range(len(sorted_list)):\n",
        "                if element < sorted_list[i]:\n",
        "                    sorted_list.insert(i, element)\n",
        "                    inserted = True\n",
        "                    break\n",
        "            if not inserted:\n",
        "                sorted_list.append(element)\n",
        "    return sorted_list\n",
        "\n",
        "# Input list\n",
        "unsorted_list = [64, 25, 12, 22, 11]\n",
        "\n",
        "# Sort the list using insertion sort\n",
        "sorted_list = insertion_sort(unsorted_list)\n",
        "\n",
        "# Display the sorted list\n",
        "print(\"Sorted List:\", sorted_list)"
      ],
      "metadata": {
        "colab": {
          "base_uri": "https://localhost:8080/"
        },
        "id": "Mnn5bzrga2RY",
        "outputId": "40a7e867-5a14-470a-980c-79f3dd3b3d09"
      },
      "execution_count": null,
      "outputs": [
        {
          "output_type": "stream",
          "name": "stdout",
          "text": [
            "Sorted List: [11, 12, 22, 25, 64]\n"
          ]
        }
      ]
    },
    {
      "cell_type": "markdown",
      "source": [
        "5.Write a Python program that performs merge sort on a list of numbers:\n",
        "\n",
        "a.Divide: If the given array has zero or one element, return.\n",
        "\n",
        "i. Otherwise\n",
        "\n",
        "ii. Divide the input list in to two halves each containing half of the elements. i.e. left half and right half.\n",
        "\n",
        "b. Conquer: Recursively sort the two lists (left half and right half).\n",
        "\n",
        "a. Call the merge sort on left half.\n",
        "\n",
        "b. Call the merge sort on right half.\n",
        "\n",
        "C. Combine: Combine the elements back in the input list by merging the two sorted lists into a sorted sequence."
      ],
      "metadata": {
        "id": "it4VxAODa-r6"
      }
    },
    {
      "cell_type": "code",
      "source": [
        "def merge_sort(input_list):\n",
        "    if len(input_list) > 1:\n",
        "        mid = len(input_list) // 2  # Find the middle of the list\n",
        "        left_half = input_list[:mid]  # Divide the list into two halves\n",
        "        right_half = input_list[mid:]\n",
        "\n",
        "        # Recursively sort the two halves\n",
        "        merge_sort(left_half)\n",
        "        merge_sort(right_half)\n",
        "\n",
        "        # Merge the sorted halves back into the original list\n",
        "        i = j = k = 0\n",
        "\n",
        "        while i < len(left_half) and j < len(right_half):\n",
        "            if left_half[i] < right_half[j]:\n",
        "                input_list[k] = left_half[i]\n",
        "                i += 1\n",
        "            else:\n",
        "                input_list[k] = right_half[j]\n",
        "                j += 1\n",
        "            k += 1\n",
        "\n",
        "        # Check if there are any remaining elements in the left and right halves\n",
        "        while i < len(left_half):\n",
        "            input_list[k] = left_half[i]\n",
        "            i += 1\n",
        "            k += 1\n",
        "\n",
        "        while j < len(right_half):\n",
        "            input_list[k] = right_half[j]\n",
        "            j += 1\n",
        "            k += 1\n",
        "\n",
        "# Input list\n",
        "unsorted_list = [64, 25, 12, 22, 11]\n",
        "\n",
        "# Sort the list using merge sort\n",
        "merge_sort(unsorted_list)\n",
        "\n",
        "# Display the sorted list\n",
        "print(\"Sorted List:\", unsorted_list)"
      ],
      "metadata": {
        "colab": {
          "base_uri": "https://localhost:8080/"
        },
        "id": "UZCpg968bEm-",
        "outputId": "a83eee34-4868-4b2d-83d6-3f7ababb6833"
      },
      "execution_count": null,
      "outputs": [
        {
          "output_type": "stream",
          "name": "stdout",
          "text": [
            "Sorted List: [11, 12, 22, 25, 64]\n"
          ]
        }
      ]
    },
    {
      "cell_type": "markdown",
      "source": [
        "7.Write a python program to implement the various operations for Stack ADT\n",
        "\n",
        "i.) Push\n",
        "\n",
        "ii.) Pop\n",
        "\n",
        "iii.) Display."
      ],
      "metadata": {
        "id": "hEdPXHDkbaIA"
      }
    },
    {
      "cell_type": "code",
      "source": [
        "class Stack:\n",
        "    def __init__(self):\n",
        "        self.items = []\n",
        "\n",
        "    def push(self, item):\n",
        "        self.items.append(item)\n",
        "\n",
        "    def pop(self):\n",
        "        if not self.is_empty():\n",
        "            return self.items.pop()\n",
        "        else:\n",
        "            print(\"Stack is empty. Cannot pop.\")\n",
        "            return None\n",
        "\n",
        "    def is_empty(self):\n",
        "        return len(self.items) == 0\n",
        "\n",
        "    def display(self):\n",
        "        if not self.is_empty():\n",
        "            print(\"Stack:\")\n",
        "            for item in reversed(self.items):\n",
        "                print(item)\n",
        "        else:\n",
        "            print(\"Stack is empty.\")\n",
        "\n",
        "\n",
        "# Example usage:\n",
        "stack = Stack()\n",
        "\n",
        "stack.push(1)\n",
        "stack.push(2)\n",
        "stack.push(3)\n",
        "\n",
        "stack.display()  # Display the stack\n",
        "\n",
        "popped_item = stack.pop()\n",
        "if popped_item is not None:\n",
        "    print(\"Popped item:\", popped_item)\n",
        "\n",
        "stack.display()  # Display the updated stack"
      ],
      "metadata": {
        "colab": {
          "base_uri": "https://localhost:8080/"
        },
        "id": "hDcAhKOebgnM",
        "outputId": "0abf8cea-f969-4475-8c5a-61ca5ad57e5d"
      },
      "execution_count": null,
      "outputs": [
        {
          "output_type": "stream",
          "name": "stdout",
          "text": [
            "Stack:\n",
            "3\n",
            "2\n",
            "1\n",
            "Popped item: 3\n",
            "Stack:\n",
            "2\n",
            "1\n"
          ]
        }
      ]
    },
    {
      "cell_type": "markdown",
      "source": [],
      "metadata": {
        "id": "NjYwwTKpagF2"
      }
    },
    {
      "cell_type": "markdown",
      "source": [
        "6.Write a Python script to perform the following operations on a singly linked list\n",
        "\n",
        "a. Create a list\n",
        "\n",
        "b. Find the smallest element from the list\n",
        "\n",
        "c. Insert an element if it is not a duplicate element\n",
        "\n",
        "d. Display the elements in reverse order"
      ],
      "metadata": {
        "id": "HNQvSADXbvOE"
      }
    },
    {
      "cell_type": "code",
      "source": [
        "class Node:\n",
        "    def __init__(self, data):\n",
        "        self.data = data\n",
        "        self.next = None\n",
        "\n",
        "\n",
        "class LinkedList:\n",
        "    def __init__(self):\n",
        "        self.head = None\n",
        "\n",
        "    def append(self, data):\n",
        "        new_node = Node(data)\n",
        "        if not self.head:\n",
        "            self.head = new_node\n",
        "        else:\n",
        "            current = self.head\n",
        "            while current.next:\n",
        "                current = current.next\n",
        "            current.next = new_node\n",
        "\n",
        "    def find_smallest(self):\n",
        "        if not self.head:\n",
        "            return None\n",
        "\n",
        "        current = self.head\n",
        "        smallest = current.data\n",
        "\n",
        "        while current:\n",
        "            if current.data < smallest:\n",
        "                smallest = current.data\n",
        "            current = current.next\n",
        "\n",
        "        return smallest\n",
        "\n",
        "    def insert_unique(self, data):\n",
        "        if not self.head:\n",
        "            self.head = Node(data)\n",
        "            return\n",
        "\n",
        "        current = self.head\n",
        "        while current:\n",
        "            if current.data == data:\n",
        "                return  # Element already exists, don't insert it again\n",
        "            if current.next is None:\n",
        "                current.next = Node(data)\n",
        "                return\n",
        "            current = current.next\n",
        "\n",
        "    def display_reverse(self):\n",
        "        if not self.head:\n",
        "            return\n",
        "\n",
        "        stack = []\n",
        "        current = self.head\n",
        "\n",
        "        while current:\n",
        "            stack.append(current.data)\n",
        "            current = current.next\n",
        "\n",
        "        while stack:\n",
        "            print(stack.pop())\n",
        "\n",
        "\n",
        "# Create a singly linked list\n",
        "linked_list = LinkedList()\n",
        "linked_list.append(10)\n",
        "linked_list.append(20)\n",
        "linked_list.append(30)\n",
        "linked_list.append(20)\n",
        "linked_list.append(40)\n",
        "\n",
        "# Find the smallest element\n",
        "smallest = linked_list.find_smallest()\n",
        "print(\"Smallest Element:\", smallest)\n",
        "\n",
        "# Insert an element if it's not a duplicate\n",
        "linked_list.insert_unique(50)\n",
        "linked_list.insert_unique(20)  # This won't be inserted since 20 is already in the list\n",
        "\n",
        "# Display elements in reverse order\n",
        "print(\"Elements in Reverse Order:\")\n",
        "linked_list.display_reverse()"
      ],
      "metadata": {
        "colab": {
          "base_uri": "https://localhost:8080/"
        },
        "id": "jikBZK0-b1Cg",
        "outputId": "8bba3015-dedf-40ca-baf2-031bdbdae065"
      },
      "execution_count": null,
      "outputs": [
        {
          "output_type": "stream",
          "name": "stdout",
          "text": [
            "Smallest Element: 10\n",
            "Elements in Reverse Order:\n",
            "50\n",
            "40\n",
            "20\n",
            "30\n",
            "20\n",
            "10\n"
          ]
        }
      ]
    },
    {
      "cell_type": "markdown",
      "source": [
        "8. Write a python script to implement the various operations for Queue ADT\n",
        "\n",
        "i.) Insert ii.) Delete iii.) Display."
      ],
      "metadata": {
        "id": "0cEhnS7jcdg-"
      }
    },
    {
      "cell_type": "code",
      "source": [
        "class Queue:\n",
        "    def __init__(self):\n",
        "        self.items = []\n",
        "\n",
        "    # Insert operation (enqueue)\n",
        "    def enqueue(self, item):\n",
        "        self.items.append(item)\n",
        "\n",
        "    # Delete operation (dequeue)\n",
        "    def dequeue(self):\n",
        "        if not self.is_empty():\n",
        "            return self.items.pop(0)\n",
        "        else:\n",
        "            return None  # Queue is empty\n",
        "\n",
        "    # Display operation\n",
        "    def display(self):\n",
        "        return self.items\n",
        "\n",
        "    # Check if the queue is empty\n",
        "    def is_empty(self):\n",
        "        return len(self.items) == 0\n",
        "\n",
        "    # Get the size of the queue\n",
        "    def size(self):\n",
        "        return len(self.items)\n",
        "\n",
        "# Example usage:\n",
        "if __name__ == \"__main__\":\n",
        "    q = Queue()\n",
        "\n",
        "    q.enqueue(1)\n",
        "    q.enqueue(2)\n",
        "    q.enqueue(3)\n",
        "\n",
        "    print(\"Queue:\", q.display())\n",
        "\n",
        "    deleted_item = q.dequeue()\n",
        "    print(\"Deleted item:\", deleted_item)\n",
        "    print(\"Queue after dequeue:\", q.display())\n",
        "\n",
        "    print(\"Queue size:\", q.size())"
      ],
      "metadata": {
        "colab": {
          "base_uri": "https://localhost:8080/"
        },
        "id": "Wh8po2T9ciqS",
        "outputId": "f60eaac8-c1ec-40ba-a089-ff4d54587db5"
      },
      "execution_count": null,
      "outputs": [
        {
          "output_type": "stream",
          "name": "stdout",
          "text": [
            "Queue: [1, 2, 3]\n",
            "Deleted item: 1\n",
            "Queue after dequeue: [2, 3]\n",
            "Queue size: 2\n"
          ]
        }
      ]
    },
    {
      "cell_type": "markdown",
      "source": [
        "9.Write a program in python to convert the following infix expression to its postfix form using push and pop operations of a Stack\n",
        "\n",
        "a. A/B^C+D E-F G\n",
        "\n",
        "b. (B^2-4*A*C)^(1/2) (100)"
      ],
      "metadata": {
        "id": "D6EYMXTvc1sK"
      }
    },
    {
      "cell_type": "code",
      "source": [
        "def infix_to_postfix(expression):\n",
        "    def precedence(operator):\n",
        "        precedence_map = {'+': 1, '-': 1, '*': 2, '/': 2, '^': 3}\n",
        "        return precedence_map.get(operator, 0)\n",
        "\n",
        "    def is_operator(char):\n",
        "        return char in \"+-*/^\"\n",
        "\n",
        "    def higher_precedence(op1, op2):\n",
        "        return precedence(op1) >= precedence(op2)\n",
        "\n",
        "    postfix = []\n",
        "    stack = []\n",
        "\n",
        "    for token in expression:\n",
        "        if token.isalnum():\n",
        "            postfix.append(token)\n",
        "        elif token == '(':\n",
        "            stack.append(token)\n",
        "        elif token == ')':\n",
        "            while stack and stack[-1] != '(':\n",
        "                postfix.append(stack.pop())\n",
        "            stack.pop()  # Remove the opening parenthesis\n",
        "        elif is_operator(token):\n",
        "            while stack and stack[-1] != '(' and higher_precedence(stack[-1], token):\n",
        "                postfix.append(stack.pop())\n",
        "            stack.append(token)\n",
        "\n",
        "    while stack:\n",
        "        postfix.append(stack.pop())\n",
        "\n",
        "    return ''.join(postfix)\n",
        "\n",
        "\n",
        "# Test the program with the given expressions\n",
        "infix_expression1 = \"A/B^C+D E-F G\"\n",
        "infix_expression2 = \"(B^2-4*A*C)^(1/2) (100)\"\n",
        "\n",
        "postfix_expression1 = infix_to_postfix(infix_expression1)\n",
        "postfix_expression2 = infix_to_postfix(infix_expression2)\n",
        "\n",
        "print(\"Postfix Expression 1:\", postfix_expression1)\n",
        "print(\"Postfix Expression 2:\", postfix_expression2)"
      ],
      "metadata": {
        "colab": {
          "base_uri": "https://localhost:8080/"
        },
        "id": "AX04jD-Rc63j",
        "outputId": "8db49b5c-505b-48d7-86e0-01e758aaec97"
      },
      "execution_count": null,
      "outputs": [
        {
          "output_type": "stream",
          "name": "stdout",
          "text": [
            "Postfix Expression 1: ABC^/DE+FG-\n",
            "Postfix Expression 2: B2^4A*C*-12/100^\n"
          ]
        }
      ]
    }
  ]
}