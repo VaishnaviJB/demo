{
  "nbformat": 4,
  "nbformat_minor": 0,
  "metadata": {
    "colab": {
      "provenance": [],
      "authorship_tag": "ABX9TyPRiRFQwNWQRtSYGmn1TYhC",
      "include_colab_link": true
    },
    "kernelspec": {
      "name": "python3",
      "display_name": "Python 3"
    },
    "language_info": {
      "name": "python"
    }
  },
  "cells": [
    {
      "cell_type": "markdown",
      "metadata": {
        "id": "view-in-github",
        "colab_type": "text"
      },
      "source": [
        "<a href=\"https://colab.research.google.com/github/VaishnaviJB/demo/blob/main/weekend_excercise_vaishnaviJB_(2575345).ipynb\" target=\"_parent\"><img src=\"https://colab.research.google.com/assets/colab-badge.svg\" alt=\"Open In Colab\"/></a>"
      ]
    },
    {
      "cell_type": "markdown",
      "source": [
        "# weekened **excercise**"
      ],
      "metadata": {
        "id": "QQIC_gnXW_dA"
      }
    },
    {
      "cell_type": "markdown",
      "source": [
        "2.Create a Python function that checks if two given strings are anagrams of each **other**"
      ],
      "metadata": {
        "id": "vY1qmNqSaLHV"
      }
    },
    {
      "cell_type": "code",
      "source": [
        "def are_anagrams(str1, str2):\n",
        "    # Remove spaces and convert both strings to lowercase (case-insensitive check)\n",
        "    str1 = str1.replace(\" \", \"\").lower()\n",
        "    str2 = str2.replace(\" \", \"\").lower()\n",
        "\n",
        "    # Check if the sorted versions of the strings are equal\n",
        "    return sorted(str1) == sorted(str2)\n",
        "\n",
        "# Test cases\n",
        "string1 = \"listen\"\n",
        "string2 = \"silent\"\n",
        "result = are_anagrams(string1, string2)\n",
        "if result:\n",
        "    print(f\"'{string1}' and '{string2}' are anagrams.\")\n",
        "else:\n",
        "    print(f\"'{string1}' and '{string2}' are not anagrams.\")"
      ],
      "metadata": {
        "colab": {
          "base_uri": "https://localhost:8080/"
        },
        "id": "oLuCcISwV6jl",
        "outputId": "e33aa15d-b888-4dea-a354-b219ee7177da"
      },
      "execution_count": null,
      "outputs": [
        {
          "output_type": "stream",
          "name": "stdout",
          "text": [
            "'listen' and 'silent' are anagrams.\n"
          ]
        }
      ]
    },
    {
      "cell_type": "markdown",
      "source": [
        "3.Create a Python function that checks if two given strings are anagrams of each other."
      ],
      "metadata": {
        "id": "sxJXchoPXnHx"
      }
    },
    {
      "cell_type": "code",
      "source": [
        "def are_anagrams(str1, str2):\n",
        "    # Remove spaces and convert both strings to lowercase\n",
        "    str1 = str1.replace(\" \", \"\").lower()\n",
        "    str2 = str2.replace(\" \", \"\").lower()\n",
        "\n",
        "    # Check if the two strings have the same sorted characters\n",
        "    return sorted(str1) == sorted(str2)\n",
        "\n",
        "# Test cases\n",
        "string1 = \"Listen\"\n",
        "string2 = \"Silent\"\n",
        "result = are_anagrams(string1, string2)\n",
        "if result:\n",
        "    print(f\"'{string1}' and '{string2}' are anagrams.\")\n",
        "else:\n",
        "    print(f\"'{string1}' and '{string2}' are not anagrams.\")"
      ],
      "metadata": {
        "colab": {
          "base_uri": "https://localhost:8080/"
        },
        "id": "BQ0_RaP0Xs6-",
        "outputId": "fd7789fc-90a9-461d-b4b1-ee714bd162a8"
      },
      "execution_count": null,
      "outputs": [
        {
          "output_type": "stream",
          "name": "stdout",
          "text": [
            "'Listen' and 'Silent' are anagrams.\n"
          ]
        }
      ]
    },
    {
      "cell_type": "markdown",
      "source": [
        "6.Read a text file containing a list of names or numbers, sort the data, and write the sorted data back to a new file."
      ],
      "metadata": {
        "id": "1tXiyLp5X0-3"
      }
    },
    {
      "cell_type": "code",
      "source": [
        "def read_file_and_sort(input_file, output_file):\n",
        "    try:\n",
        "        # Read the data from the input file\n",
        "        with open(input_file, 'r') as file:\n",
        "            data = file.read().splitlines()\n",
        "\n",
        "        # Sort the data\n",
        "        data.sort()\n",
        "\n",
        "        # Write the sorted data to the output file\n",
        "        with open(output_file, 'w') as file:\n",
        "            file.write('\\n'.join(data))\n",
        "\n",
        "        print(f\"Data sorted and written to '{output_file}' successfully.\")\n",
        "\n",
        "    except FileNotFoundError:\n",
        "        print(f\"The file '{input_file}' was not found.\")\n",
        "    except Exception as e:\n",
        "        print(f\"An error occurred: {e}\")\n",
        "\n",
        "# Example usage:\n",
        "input_filename = 'unsorted_data.txt'\n",
        "output_filename = 'sorted_data.txt'\n",
        "read_file_and_sort(input_filename, output_filename)"
      ],
      "metadata": {
        "id": "zFNiVk0pYA-V",
        "colab": {
          "base_uri": "https://localhost:8080/"
        },
        "outputId": "c1593060-637f-4e37-8799-16a442fbc7ba"
      },
      "execution_count": 6,
      "outputs": [
        {
          "output_type": "stream",
          "name": "stdout",
          "text": [
            "The file 'unsorted_data.txt' was not found.\n"
          ]
        }
      ]
    },
    {
      "cell_type": "markdown",
      "source": [],
      "metadata": {
        "id": "ksLZQobx3j6n"
      }
    },
    {
      "cell_type": "markdown",
      "source": [],
      "metadata": {
        "id": "4yEECoKD3e57"
      }
    },
    {
      "cell_type": "markdown",
      "source": [
        "7.Write a Python script that compares two text files and identifies the differences between them, including added, modified, and deleted lines."
      ],
      "metadata": {
        "id": "tQ4wskFeajj4"
      }
    },
    {
      "cell_type": "code",
      "source": [
        "import difflib\n",
        "\n",
        "def compare_files(file1, file2):\n",
        "    try:\n",
        "        # Read the contents of the two files\n",
        "        with open(file1, 'r', encoding='utf-8') as f1:\n",
        "            file1_lines = f1.readlines()\n",
        "        with open(file2, 'r', encoding='utf-8') as f2:\n",
        "            file2_lines = f2.readlines()\n",
        "\n",
        "        # Compute the differences between the two files\n",
        "        differ = difflib.Differ()\n",
        "        diff = list(differ.compare(file1_lines, file2_lines))\n",
        "\n",
        "        # Prepare separate lists for added, modified, and deleted lines\n",
        "        added_lines = []\n",
        "        modified_lines = []\n",
        "        deleted_lines = []\n",
        "\n",
        "        for line in diff:\n",
        "            if line.startswith('+ '):\n",
        "                added_lines.append(line[2:])\n",
        "            elif line.startswith('- '):\n",
        "                deleted_lines.append(line[2:])\n",
        "            elif line.startswith('  '):\n",
        "                modified_lines.append(line[2:])\n",
        "\n",
        "        return added_lines, modified_lines, deleted_lines\n",
        "\n",
        "    except FileNotFoundError:\n",
        "        print(\"One or both of the files were not found.\")\n",
        "    except Exception as e:\n",
        "        print(f\"An error occurred: {e}\")\n",
        "\n",
        "# Example usage:\n",
        "file1_path = 'file2.txt'\n",
        "file2_path = 'file2.txt'\n",
        "\n",
        "added, modified, deleted = compare_files(file1_path, file2_path)\n",
        "\n",
        "print(\"Added lines:\")\n",
        "for line in added:\n",
        "    print(f\"+ {line.strip()}\")\n",
        "\n",
        "print(\"\\nModified lines:\")\n",
        "for line in modified:\n",
        "    print(f\"  {line.strip()}\")\n",
        "\n",
        "print(\"\\nDeleted lines:\")\n",
        "for line in deleted:\n",
        "    print(f\"- {line.strip()}\")"
      ],
      "metadata": {
        "colab": {
          "base_uri": "https://localhost:8080/",
          "height": 262
        },
        "id": "YKomnth-atU2",
        "outputId": "e03232e3-0b1c-452b-fcb4-446e4a7ace54"
      },
      "execution_count": null,
      "outputs": [
        {
          "output_type": "stream",
          "name": "stdout",
          "text": [
            "One or both of the files were not found.\n"
          ]
        },
        {
          "output_type": "error",
          "ename": "TypeError",
          "evalue": "ignored",
          "traceback": [
            "\u001b[0;31m---------------------------------------------------------------------------\u001b[0m",
            "\u001b[0;31mTypeError\u001b[0m                                 Traceback (most recent call last)",
            "\u001b[0;32m<ipython-input-39-d83fdb056fbf>\u001b[0m in \u001b[0;36m<cell line: 39>\u001b[0;34m()\u001b[0m\n\u001b[1;32m     37\u001b[0m \u001b[0mfile2_path\u001b[0m \u001b[0;34m=\u001b[0m \u001b[0;34m'file2.txt'\u001b[0m\u001b[0;34m\u001b[0m\u001b[0;34m\u001b[0m\u001b[0m\n\u001b[1;32m     38\u001b[0m \u001b[0;34m\u001b[0m\u001b[0m\n\u001b[0;32m---> 39\u001b[0;31m \u001b[0madded\u001b[0m\u001b[0;34m,\u001b[0m \u001b[0mmodified\u001b[0m\u001b[0;34m,\u001b[0m \u001b[0mdeleted\u001b[0m \u001b[0;34m=\u001b[0m \u001b[0mcompare_files\u001b[0m\u001b[0;34m(\u001b[0m\u001b[0mfile1_path\u001b[0m\u001b[0;34m,\u001b[0m \u001b[0mfile2_path\u001b[0m\u001b[0;34m)\u001b[0m\u001b[0;34m\u001b[0m\u001b[0;34m\u001b[0m\u001b[0m\n\u001b[0m\u001b[1;32m     40\u001b[0m \u001b[0;34m\u001b[0m\u001b[0m\n\u001b[1;32m     41\u001b[0m \u001b[0mprint\u001b[0m\u001b[0;34m(\u001b[0m\u001b[0;34m\"Added lines:\"\u001b[0m\u001b[0;34m)\u001b[0m\u001b[0;34m\u001b[0m\u001b[0;34m\u001b[0m\u001b[0m\n",
            "\u001b[0;31mTypeError\u001b[0m: cannot unpack non-iterable NoneType object"
          ]
        }
      ]
    },
    {
      "cell_type": "markdown",
      "source": [
        "# 8.Develop a Python program that compresses a large text file using a compression algorithm (eg, gzip) and then decompresses it back to its original form"
      ],
      "metadata": {
        "id": "torT-oxqf3ry"
      }
    },
    {
      "cell_type": "code",
      "source": [
        "import gzip\n",
        "\n",
        "def compress_file(input_file, output_file):\n",
        "    try:\n",
        "        with open(input_file, 'rb') as f_in, gzip.open(output_file, 'wb') as f_out:\n",
        "            f_out.writelines(f_in)\n",
        "\n",
        "        print(f\"Compression successful. Compressed file saved as '{output_file}'.\")\n",
        "\n",
        "    except FileNotFoundError:\n",
        "        print(f\"The file '{input_file}' was not found.\")\n",
        "    except Exception as e:\n",
        "        print(f\"An error occurred during compression: {e}\")\n",
        "\n",
        "def decompress_file(input_file, output_file):\n",
        "    try:\n",
        "        with gzip.open(input_file, 'rb') as f_in, open(output_file, 'wb') as f_out:\n",
        "            f_out.writelines(f_in)\n",
        "\n",
        "        print(f\"Decompression successful. Decompressed file saved as '{output_file}'.\")\n",
        "\n",
        "    except FileNotFoundError:\n",
        "        print(f\"The file '{input_file}' was not found.\")\n",
        "    except Exception as e:\n",
        "        print(f\"An error occurred during decompression: {e}\")\n",
        "\n",
        "# Example usage:\n",
        "input_filename = 'large_text_file.txt'\n",
        "compressed_filename = 'compressed_file.gz'\n",
        "decompressed_filename = 'decompressed_text_file.txt'\n",
        "\n",
        "# Compress the file\n",
        "compress_file(input_filename, compressed_filename)\n",
        "\n",
        "# Decompress the file\n",
        "decompress_file(compressed_filename, decompressed_filename)"
      ],
      "metadata": {
        "id": "Ozvh1c1PgKjg"
      },
      "execution_count": null,
      "outputs": []
    },
    {
      "cell_type": "markdown",
      "source": [
        "10.Write a python program to Combine the contents of multiple text files into a single file using Python. Each file should be appended to the end of the resulting file."
      ],
      "metadata": {
        "id": "XMc_al1Yg5AV"
      }
    },
    {
      "cell_type": "code",
      "source": [
        "def combine_text_files(input_files, output_file):\n",
        "    try:\n",
        "        with open(output_file, 'w') as combined_file:\n",
        "            for input_file in input_files:\n",
        "                with open(input_file, 'r') as current_file:\n",
        "                    combined_file.write(current_file.read())\n",
        "\n",
        "        print(f\"Text files combined successfully. Result saved as '{output_file}'.\")\n",
        "\n",
        "    except FileNotFoundError:\n",
        "        print(\"One or more input files were not found.\")\n",
        "    except Exception as e:\n",
        "        print(f\"An error occurred: {e}\")\n",
        "\n",
        "# Example usage:\n",
        "input_files = ['file1.txt', 'file2.txt', 'file3.txt']\n",
        "output_file = 'combined_files.txt'\n",
        "\n",
        "combine_text_files(input_files, output_file)"
      ],
      "metadata": {
        "id": "pPoW5h0VhD78"
      },
      "execution_count": null,
      "outputs": []
    },
    {
      "cell_type": "markdown",
      "source": [
        "11.Create a Python script that accepts a text file as a command-line argument and counts the number of words, lines, and characters in the file."
      ],
      "metadata": {
        "id": "61y2nW9lhPh5"
      }
    },
    {
      "cell_type": "code",
      "source": [
        "import sys\n",
        "\n",
        "def count_file_stats(file_path):\n",
        "    try:\n",
        "        with open(file_path, 'r', encoding='utf-8') as file:\n",
        "            # Read the file content\n",
        "            content = file.read()\n",
        "\n",
        "            # Count words by splitting on spaces\n",
        "            word_count = len(content.split())\n",
        "\n",
        "            # Count lines by splitting on newline characters\n",
        "            line_count = len(content.splitlines())\n",
        "\n",
        "            # Count characters (including spaces and newline characters)\n",
        "            char_count = len(content)\n",
        "\n",
        "            return word_count, line_count, char_count\n",
        "\n",
        "    except FileNotFoundError:\n",
        "        print(f\"The file '{file_path}' was not found.\")\n",
        "    except Exception as e:\n",
        "        print(f\"An error occurred: {e}\")\n",
        "\n",
        "if _name_ == \"__main__\":\n",
        "    if len(sys.argv) != 2:\n",
        "        print(\"Usage: python count_file_stats.py <file_path>\")\n",
        "    else:\n",
        "        file_path = sys.argv[1]\n",
        "        word_count, line_count, char_count = count_file_stats(file_path)\n",
        "\n",
        "        if word_count is not None:\n",
        "            print(f\"Word count: {word_count}\")\n",
        "            print(f\"Line count: {line_count}\")\n",
        "            print(f\"Character count: {char_count}\")"
      ],
      "metadata": {
        "id": "mfhQNRy7hVT1"
      },
      "execution_count": null,
      "outputs": []
    },
    {
      "cell_type": "markdown",
      "source": [
        "12.Build a command-line calculator that accepts a mathematical expression as a string argument and evaluates it, then prints the result."
      ],
      "metadata": {
        "id": "mZszOU-jhnRq"
      }
    },
    {
      "cell_type": "code",
      "source": [
        "import sys\n",
        "\n",
        "def calculate(expression):\n",
        "    try:\n",
        "        # Use eval() to evaluate the expression\n",
        "        result = eval(expression)\n",
        "        return result\n",
        "    except Exception as e:\n",
        "        return f\"Error: {e}\"\n",
        "\n",
        "if __name__ == \"__main__\":\n",
        "    if len(sys.argv) != 2:\n",
        "        print(\"Usage: python calculator.py '<expression>'\")\n",
        "    else:\n",
        "        expression = sys.argv[1]\n",
        "        result = calculate(expression)\n",
        "        print(f\"Result: {result}\")"
      ],
      "metadata": {
        "id": "MwnodzNhhqdv"
      },
      "execution_count": null,
      "outputs": []
    },
    {
      "cell_type": "markdown",
      "source": [],
      "metadata": {
        "id": "oiiECohdgZn7"
      }
    },
    {
      "cell_type": "markdown",
      "source": [
        "13.Implement a Python script that takes a CSV file and two column names as command-line arguments. The script should calculate the average of values in one column and store the result in another column in the same file"
      ],
      "metadata": {
        "id": "P2Ik_0D-h9t6"
      }
    },
    {
      "cell_type": "code",
      "source": [
        "import sys\n",
        "import csv\n",
        "\n",
        "def calculate_average(input_file, output_file, column_to_average, new_column_name):\n",
        "    try:\n",
        "        with open(input_file, 'r', newline='') as csv_file, open(output_file, 'w', newline='') as output_csv_file:\n",
        "            # Create a CSV reader and writer\n",
        "            reader = csv.DictReader(csv_file)\n",
        "            fieldnames = reader.fieldnames + [new_column_name]\n",
        "            writer = csv.DictWriter(output_csv_file, fieldnames=fieldnames)\n",
        "            writer.writeheader()\n",
        "\n",
        "            # Initialize variables for calculating the average\n",
        "            total = 0\n",
        "            count = 0\n",
        "\n",
        "            for row in reader:\n",
        "                try:\n",
        "                    value = float(row[column_to_average])\n",
        "                    total += value\n",
        "                    count += 1\n",
        "                except ValueError:\n",
        "                    pass  # Ignore rows with non-numeric values in the specified column\n",
        "                row[new_column_name] = ''\n",
        "\n",
        "            if count > 0:\n",
        "                average = total / count\n",
        "\n",
        "                csv_file.seek(0)\n",
        "                next(reader)  # Skip the header row\n",
        "\n",
        "                for row in reader:\n",
        "                    try:\n",
        "                        value = float(row[column_to_average])\n",
        "                        row[new_column_name] = average\n",
        "                    except ValueError:\n",
        "                        pass\n",
        "\n",
        "                writer.writerows(reader)\n",
        "\n",
        "        print(f\"Average calculated and saved to '{output_file}'.\")\n",
        "\n",
        "    except FileNotFoundError:\n",
        "        print(f\"One or both of the files were not found.\")\n",
        "    except Exception as e:\n",
        "        print(f\"An error occurred: {e}\")\n",
        "\n",
        "if __name__ == \"__main__\":\n",
        "    if len(sys.argv) != 5:\n",
        "        print(\"Usage: python calculate_average.py <input_file> <output_file> <column_to_average> <new_column_name>\")\n",
        "    else:\n",
        "        input_file = sys.argv[1]\n",
        "        output_file = sys.argv[2]\n",
        "        column_to_average = sys.argv[3]\n",
        "        new_column_name = sys.argv[4]\n",
        "\n",
        "        calculate_average(input_file, output_file, column_to_average, new_column_name)"
      ],
      "metadata": {
        "id": "mGn2-qa1iHsr"
      },
      "execution_count": null,
      "outputs": []
    },
    {
      "cell_type": "markdown",
      "source": [
        "14.Write a Python script that takes two integer command-line arguments and prints their sum."
      ],
      "metadata": {
        "id": "w2sY6EPYidmz"
      }
    },
    {
      "cell_type": "code",
      "source": [
        "import sys\n",
        "\n",
        "if len(sys.argv) != 3:\n",
        "    print(\"Usage: python add.py <integer1> <integer2>\")\n",
        "else:\n",
        "    try:\n",
        "        num1 = int(sys.argv[1])\n",
        "        num2 = int(sys.argv[2])\n",
        "        result = num1 + num2\n",
        "        print(f\"Sum: {result}\")\n",
        "    except ValueError:\n",
        "        print(\"Both arguments should be integers.\")"
      ],
      "metadata": {
        "id": "kTox3tHOijWJ"
      },
      "execution_count": null,
      "outputs": []
    },
    {
      "cell_type": "markdown",
      "source": [
        "16.Create a Python module named calculator.py that contains functions for each of the four operations (addition, subtraction, multiplication, and division). Each function should take two arguments, perform the respective operation, and return the result."
      ],
      "metadata": {
        "id": "s2VL_fnRixK7"
      }
    },
    {
      "cell_type": "code",
      "source": [
        "# calculator.py\n",
        "\n",
        "def add(x, y):\n",
        "    \"\"\"Add two numbers.\"\"\"\n",
        "    return x + y\n",
        "\n",
        "def subtract(x, y):\n",
        "    \"\"\"Subtract two numbers.\"\"\"\n",
        "    return x - y\n",
        "\n",
        "def multiply(x, y):\n",
        "    \"\"\"Multiply two numbers.\"\"\"\n",
        "    return x * y\n",
        "\n",
        "def divide(x, y):\n",
        "    \"\"\"Divide two numbers. Return None if the divisor is zero.\"\"\"\n",
        "    if y == 0:\n",
        "        return None\n",
        "    return x / y"
      ],
      "metadata": {
        "id": "xEYjpqabjOhL"
      },
      "execution_count": null,
      "outputs": []
    },
    {
      "cell_type": "code",
      "source": [
        "# main.py\n",
        "import calculator\n",
        "\n",
        "# Test the functions from the calculator module\n",
        "num1 = 10\n",
        "num2 = 5\n",
        "\n",
        "# Addition\n",
        "result_add = calculator.add(num1, num2)\n",
        "print(f\"{num1} + {num2} = {result_add}\")\n",
        "\n",
        "# Subtraction\n",
        "result_sub = calculator.subtract(num1, num2)\n",
        "print(f\"{num1} - {num2} = {result_sub}\")\n",
        "\n",
        "# Multiplication\n",
        "result_mul = calculator.multiply(num1, num2)\n",
        "print(f\"{num1} * {num2} = {result_mul}\")\n",
        "\n",
        "# Division\n",
        "result_div = calculator.divide(num1, num2)\n",
        "if result_div is not None:\n",
        "    print(f\"{num1} / {num2} = {result_div}\")\n",
        "else:\n",
        "    print(\"Cannot divide by zero.\")"
      ],
      "metadata": {
        "id": "2Xte5SQyjS3o"
      },
      "execution_count": null,
      "outputs": []
    },
    {
      "cell_type": "markdown",
      "source": [
        "15.Create a custom Python module that includes functions to calculate the factorial of a number and to check if a number is prime. Import and use this module in another Python script."
      ],
      "metadata": {
        "id": "hnGFK6DHjnpm"
      }
    },
    {
      "cell_type": "code",
      "source": [
        "# math_operations.py\n",
        "\n",
        "def factorial(n):\n",
        "    \"\"\"Calculate the factorial of a non-negative integer n.\"\"\"\n",
        "    if n < 0:\n",
        "        return \"Factorial is not defined for negative numbers.\"\n",
        "    if n == 0:\n",
        "        return 1\n",
        "    result = 1\n",
        "    for i in range(1, n + 1):\n",
        "        result *= i\n",
        "    return result\n",
        "\n",
        "def is_prime(n):\n",
        "    \"\"\"Check if a positive integer n is prime.\"\"\"\n",
        "    if n <= 1:\n",
        "        return False\n",
        "    if n <= 3:\n",
        "        return True\n",
        "    if n % 2 == 0 or n % 3 == 0:\n",
        "        return False\n",
        "    i = 5\n",
        "    while i * i <= n:\n",
        "        if n % i == 0 or n % (i + 2) == 0:\n",
        "            return False\n",
        "        i += 6\n",
        "    return True"
      ],
      "metadata": {
        "id": "CnJy_zBzjquT"
      },
      "execution_count": null,
      "outputs": []
    },
    {
      "cell_type": "code",
      "source": [
        "# main.py\n",
        "import math_operations\n",
        "\n",
        "# Calculate the factorial of a number\n",
        "number = 5\n",
        "fact_result = math_operations.factorial(number)\n",
        "print(f\"The factorial of {number} is: {fact_result}\")\n",
        "\n",
        "# Check if a number is prime\n",
        "prime_number = 17\n",
        "prime_result = math_operations.is_prime(prime_number)\n",
        "if prime_result:\n",
        "    print(f\"{prime_number} is prime.\")\n",
        "else:\n",
        "    print(f\"{prime_number} is not prime.\")"
      ],
      "metadata": {
        "id": "4BwW-OzFkXjL"
      },
      "execution_count": null,
      "outputs": []
    },
    {
      "cell_type": "markdown",
      "source": [],
      "metadata": {
        "id": "TVCxwe8hkRMt"
      }
    },
    {
      "cell_type": "markdown",
      "source": [
        "9.Read a binary file (e.g., an image or audio file) in Python and perform an operation, such as resizing an image or modifying audio data."
      ],
      "metadata": {
        "id": "G3Xg40qqkcqI"
      }
    },
    {
      "cell_type": "code",
      "source": [
        "from pydub import AudioSegment\n",
        "\n",
        "def modify_audio(input_audio_path, output_audio_path, volume_adjustment):\n",
        "    try:\n",
        "        # Load the audio file\n",
        "        audio = AudioSegment.from_file(input_audio_path)\n",
        "\n",
        "        # Modify the audio (adjust volume in this case)\n",
        "        modified_audio = audio + volume_adjustment\n",
        "\n",
        "        # Export the modified audio\n",
        "        modified_audio.export(output_audio_path, format=\"wav\")\n",
        "\n",
        "        print(f\"Audio modified and saved as '{output_audio_path}'.\")\n",
        "\n",
        "    except FileNotFoundError:\n",
        "        print(f\"The file '{input_audio_path}' was not found.\")\n",
        "    except Exception as e:\n",
        "        print(f\"An error occurred during audio processing: {e}\")\n",
        "\n",
        "# Example usage:\n",
        "input_audio_path = 'input_audio.wav'\n",
        "output_audio_path = 'modified_audio.wav'\n",
        "volume_adjustment = 10  # Adjust volume by +10 dB\n",
        "\n",
        "modify_audio(input_audio_path, output_audio_path, volume_adjustment)"
      ],
      "metadata": {
        "id": "nhowOcS9lFMa"
      },
      "execution_count": null,
      "outputs": []
    },
    {
      "cell_type": "markdown",
      "source": [
        "1. Case Study: Online Shopping Cart Exception Handling\n",
        "\n",
        "You are working as a Python developer for an e-commerce company, and your team is responsible for building and maintaining the shopping cart module of the website. Customers can add items to their cart, view the cart contents, and proceed to checkout.\n",
        "\n",
        "Recently, there have been reports of unexpected crashes and errors when customers interact with their shopping carts Your task is to investigate these issues and improve the exception handling in the shopping cart code to make it more robust.\n",
        "\n",
        "Requirements and Scenarios:\n",
        "\n",
        "Scenario 1 Adding Items to Cart\n",
        "\n",
        "When a customer adds an item to their cart, they provide the product ID and quantity Handle\n",
        "\n",
        "exceptions that may occur during this process, such as\n",
        "\n",
        "i)Product ID not found in the product catalog\n",
        "\n",
        "ii)invalid quantity reg. neganve quantity or non integer input.\n",
        "\n",
        "Scenario 2-Viewing Cart Contents:\n",
        "\n",
        "When a customer views their cart, display the list of items and their quantities Handle exceptions that may occur during this process, such as\n",
        "\n",
        "Empty cart (no items added)\n",
        "\n",
        "Unexpected errors (eg, network issues when fetching cart data)\n",
        "\n",
        "Scenario 3 Proceeding to Checkout:\n",
        "\n",
        "When a customer proceeds to checkout, validate the cart and process the payment. Handle exceptions that may occur during this process, such as\n",
        "\n",
        "i)Insufficient stock for some items in the cart.\n",
        "\n",
        "ii)Payment gateway errors\n",
        "\n",
        "iii)Customer payment method declined\n",
        "\n",
        "Your Tasks\n",
        "\n",
        "1 Review the existing shopping cart code to identify potential areas where exceptions may occur.\n",
        "\n",
        "2. Enhance the exception handling in the code by adding appropriate try except, and finally blocks to handle exceptions gracefully. Provide helpful error messages to the user where applicable\n",
        "\n",
        "3 Ensure that the program continues to run smoothly even when exceptions acc and\n",
        "\n",
        "customers receive informative feedback\n",
        "\n",
        "4 Test the shopping cart thoroughly with different scenaries to ensure that it handles expection correctly"
      ],
      "metadata": {
        "id": "ou9vVKVKlccD"
      }
    },
    {
      "cell_type": "markdown",
      "source": [
        "1 Review the existing shopping cart code to identify potential areas where exceptions may occur."
      ],
      "metadata": {
        "id": "zHulutaMxA8r"
      }
    },
    {
      "cell_type": "markdown",
      "source": [
        "Enhance the exception handling in the code by adding appropriate try except, and finally blocks to handle exceptions gracefully. Provide helpful error messages to the user where applicable"
      ],
      "metadata": {
        "id": "KvzTDX5cxhxf"
      }
    },
    {
      "cell_type": "code",
      "source": [
        "class ShoppingCart:\n",
        "    def _init_(self):\n",
        "        self.cart = {}\n",
        "\n",
        "    def add_to_cart(self, product_catalog, product_id, quantity):\n",
        "        try:\n",
        "            if product_id not in product_catalog:\n",
        "                raise ProductNotFoundException(\"Product ID not found in the product catalog.\")\n",
        "\n",
        "            if not isinstance(quantity, int) or quantity <= 0:\n",
        "                raise InvalidQuantityException(\"Invalid quantity. Please provide a positive integer.\")\n",
        "\n",
        "            if product_id in self.cart:\n",
        "                self.cart[product_id] += quantity\n",
        "            else:\n",
        "                self.cart[product_id] = quantity\n",
        "\n",
        "            print(f\"{quantity} item(s) of {product_catalog[product_id]} added to the cart.\")\n",
        "\n",
        "        except (ProductNotFoundException, InvalidQuantityException) as e:\n",
        "            print(f\"Error: {e}\")\n",
        "\n",
        "    def view_cart(self):\n",
        "        try:\n",
        "            if not self.cart:\n",
        "                raise EmptyCartException(\"The cart is empty.\")\n",
        "\n",
        "            print(\"Cart Contents:\")\n",
        "            for product_id, quantity in self.cart.items():\n",
        "                print(f\"{product_id}: {quantity} item(s)\")\n",
        "\n",
        "        except EmptyCartException as e:\n",
        "            print(f\"Error: {e}\")\n",
        "\n",
        "    def checkout(self, product_stock, payment_gateway, customer_payment_method):\n",
        "        try:\n",
        "            for product_id, quantity in self.cart.items():\n",
        "                if product_id not in product_stock or quantity > product_stock[product_id]:\n",
        "                    raise InsufficientStockException(\"Insufficient stock for some items in the cart.\")\n",
        "\n",
        "            # Process payment\n",
        "            payment_result = payment_gateway.process_payment(customer_payment_method)\n",
        "            if payment_result != \"success\":\n",
        "                raise PaymentDeclinedException(f\"Payment failed. ({payment_result})\")\n",
        "\n",
        "            # Update inventory\n",
        "            for product_id, quantity in self.cart.items():\n",
        "                product_stock[product_id] -= quantity\n",
        "\n",
        "            print(\"Checkout successful!\")\n",
        "\n",
        "        except (InsufficientStockException, PaymentDeclinedException) as e:\n",
        "            print(f\"Error: {e}\")\n",
        "\n",
        "# Example usage:\n",
        "product_catalog = {'p1': 'Product 1', 'p2': 'Product 2'}\n",
        "product_stock = {'p1': 5, 'p2': 10}\n",
        "\n",
        "class PaymentGateway:\n",
        "    def process_payment(self, method):\n",
        "        if method == \"success\":\n",
        "            return \"success\"\n",
        "        elif method == \"declined\":\n",
        "            return \"payment declined\"\n",
        "        else:\n",
        "            return \"gateway error\"\n",
        "\n",
        "payment_gateway = PaymentGateway()\n",
        "cart = ShoppingCart()\n",
        "cart.add_to_cart(product_catalog, 'p1', 3)\n",
        "cart.view_cart()\n",
        "cart.checkout(product_stock, payment_gateway, \"success\")"
      ],
      "metadata": {
        "id": "Dqc99q1U7LMO"
      },
      "execution_count": null,
      "outputs": []
    },
    {
      "cell_type": "markdown",
      "source": [],
      "metadata": {
        "id": "rivLGMB_xXZx"
      }
    },
    {
      "cell_type": "markdown",
      "source": [
        "4. Case Study: Online Bookstore Database Connectivity\n",
        "\n",
        "You are a Python developer working on the backend of an online bookstore website. The website's database stores information about books, customers, orders, and inventory. Your task is to develop and maintain the database connectivity and interaction components\n",
        "\n",
        "Requirements and Scenarios:\n",
        "\n",
        "Scenario 1- Customer Registration:\n",
        "\n",
        "When a new customer registers on the website, their information (name, email, password) should be stored in the database\n",
        "\n",
        "Handle exceptions that may occur during the registration process, such as\n",
        "\n",
        "1 Duplicate email addresses\n",
        "\n",
        "2 Database connection errors\n",
        "\n",
        "Scenario 2 Book Inventory Management\n",
        "\n",
        "implement functionality to add new books to the inventory, update existing book details, and delete books.\n",
        "\n",
        "Handle exceptions that may occur during these operations, such as\n",
        "\n",
        "1 invalid book data\n",
        "\n",
        "2 Database errors when updating or deleting books\n",
        "\n",
        "Scenario 3-Customer Orders:\n",
        "\n",
        "2. Database errors when updating or deleting books\n",
        "\n",
        "Allow customers to place orders for books. Each order includes customer details and a list of ordered books\n",
        "\n",
        "Handle exceptions that may occur during order placement, such as\n",
        "\n",
        "1 insufficient stock for some books\n",
        "\n",
        "2. Database errors when recording orders\n",
        "\n",
        "Scenario 4-Order History:\n",
        "\n",
        "Customers should be able to view their order history, which includes details of past orders\n",
        "\n",
        "Handle exceptions that may occur when retrieving order history, such as\n",
        "\n",
        "1 No orders found for the customer\n",
        "\n",
        "2 Database connection issues.\n",
        "\n",
        "Your Tasks\n",
        "\n",
        "1. Review the existing database interaction code to identify potential areas where exceptions may occur\n",
        "\n",
        "2. Enhance the exception handling in the code by adding appropriate try, except, and finally blocks to handle exceptions gracefully Provide helpful error messages to the user where applicable\n",
        "\n",
        "3 Ensure that the program continues to run smoothly even when exceptions occur, and customers receive informative feedback 4 Implement database queries and transactions following best practices to maintain data\n",
        "\n",
        "integrity 5. Test the website's database interactions thoroughly with different scenarios to ensure that it handles exceptions correctly."
      ],
      "metadata": {
        "id": "QaIlXlJplsIw"
      }
    },
    {
      "cell_type": "code",
      "source": [],
      "metadata": {
        "id": "cbX5co0Plupy"
      },
      "execution_count": null,
      "outputs": []
    },
    {
      "cell_type": "code",
      "source": [
        "import sqlite3\n",
        "\n",
        "def register_customer(name, email, password):\n",
        "    try:\n",
        "        conn = sqlite3.connect(\"bookstore.db\")\n",
        "        cursor = conn.cursor()\n",
        "\n",
        "        cursor.execute(\"SELECT COUNT(*) FROM customers WHERE email = ?\", (email,))\n",
        "        count = cursor.fetchone()[0]\n",
        "        if count > 0:\n",
        "            raise ValueError(\"Email address already exists.\")\n",
        "\n",
        "        cursor.execute(\"INSERT INTO customers (name, email, password) VALUES (?, ?, ?)\", (name, email, password))\n",
        "        conn.commit()\n",
        "\n",
        "        print(\"Registration successful!\")\n",
        "\n",
        "    except sqlite3.Error as e:\n",
        "        print(f\"Database error: {e}\")\n",
        "    except ValueError as e:\n",
        "        print(f\"Error: {e}\")\n",
        "    except Exception as e:\n",
        "        print(f\"An unexpected error occurred: {e}\")\n",
        "    finally:\n",
        "        conn.close()\n",
        "\n",
        "try:\n",
        "    register_customer(\"John Doe\", \"john@example.com\", \"password123\")\n",
        "except Exception as e:\n",
        "    print(f\"An error occurred: {e}\")\n"
      ],
      "metadata": {
        "id": "-6vD2ORhmLd9",
        "colab": {
          "base_uri": "https://localhost:8080/"
        },
        "outputId": "1ebb41d7-69cf-465c-db6e-4fa141430df1"
      },
      "execution_count": 18,
      "outputs": [
        {
          "output_type": "stream",
          "name": "stdout",
          "text": [
            "Database error: no such table: customers\n"
          ]
        }
      ]
    },
    {
      "cell_type": "code",
      "source": [
        "import sqlite3\n",
        "\n",
        "try:\n",
        "    conn = sqlite3.connect(\"example.db\")\n",
        "\n",
        "    cursor = conn.cursor()\n",
        "\n",
        "\n",
        "    cursor.execute(\"INSERT INTO users (name, email) VALUES (?, ?)\", (\"John Doe\", \"john@example.com\"))\n",
        "\n",
        "    conn.commit()\n",
        "\n",
        "    print(\"User 'John Doe' added successfully!\")\n",
        "\n",
        "except sqlite3.Error as e:\n",
        "    print(f\"Database error: {e}\")\n",
        "\n",
        "except ValueError as e:\n",
        "    print(f\"Value error: {e}\")\n",
        "\n",
        "except Exception as e:\n",
        "    print(f\"An unexpected error occurred: {e}\")\n",
        "\n",
        "finally:\n",
        "    try:\n",
        "        conn.close()\n",
        "    except Exception as e:\n",
        "        print(f\"Error while closing the database connection: {e}\")"
      ],
      "metadata": {
        "colab": {
          "base_uri": "https://localhost:8080/"
        },
        "id": "cpgOV-Kb9_B9",
        "outputId": "94a77148-03ab-4205-e5d7-c8b0614d96e8"
      },
      "execution_count": 19,
      "outputs": [
        {
          "output_type": "stream",
          "name": "stdout",
          "text": [
            "Database error: no such table: users\n"
          ]
        }
      ]
    },
    {
      "cell_type": "code",
      "source": [
        "import sqlite3\n",
        "\n",
        "def add_user_to_database(name, email):\n",
        "    try:\n",
        "        conn = sqlite3.connect(\"example.db\")\n",
        "\n",
        "        cursor = conn.cursor()\n",
        "\n",
        "        cursor.execute(\"INSERT INTO users (name, email) VALUES (?, ?)\", (name, email))\n",
        "\n",
        "        conn.commit()\n",
        "\n",
        "        print(\"User added successfully!\")\n",
        "\n",
        "    except sqlite3.Error as e:\n",
        "        print(\"Database error:\", e)\n",
        "        print(\"Please try again later or contact support.\")\n",
        "\n",
        "    except Exception as e:\n",
        "        print(\"An unexpected error occurred:\", e)\n",
        "        print(\"Please try again later or contact support.\")\n",
        "\n",
        "    finally:\n",
        "        try:\n",
        "            conn.close()\n",
        "        except Exception as e:\n",
        "            print(\"Error while closing the database connection:\", e)\n",
        "\n",
        "try:\n",
        "    add_user_to_database(\"John Doe\", \"john@example.com\")\n",
        "except Exception as e:\n",
        "    print(\"An error occurred:\", e)"
      ],
      "metadata": {
        "colab": {
          "base_uri": "https://localhost:8080/"
        },
        "id": "F8GIqq_f-VSB",
        "outputId": "54ab8425-d0c9-4fa1-c028-ceab5f6ce2e6"
      },
      "execution_count": 20,
      "outputs": [
        {
          "output_type": "stream",
          "name": "stdout",
          "text": [
            "Database error: no such table: users\n",
            "Please try again later or contact support.\n"
          ]
        }
      ]
    },
    {
      "cell_type": "code",
      "source": [
        "import sqlite3\n",
        "\n",
        "def insert_user_to_database(name, email):\n",
        "    try:\n",
        "        conn = sqlite3.connect(\"example.db\")\n",
        "\n",
        "        cursor = conn.cursor()\n",
        "\n",
        "        conn.execute(\"BEGIN TRANSACTION\")\n",
        "\n",
        "        cursor.execute(\"INSERT INTO users (name, email) VALUES (?, ?)\", (name, email))\n",
        "\n",
        "        conn.commit()\n",
        "\n",
        "        print(\"User added successfully!\")\n",
        "\n",
        "    except sqlite3.Error as e:\n",
        "        conn.rollback()\n",
        "        print(\"Database error:\", e)\n",
        "        print(\"Please try again later or contact support.\")\n",
        "\n",
        "    except Exception as e:\n",
        "        conn.rollback()\n",
        "        print(\"An unexpected error occurred:\", e)\n",
        "        print(\"Please try again later or contact support.\")\n",
        "\n",
        "    finally:\n",
        "        try:\n",
        "            conn.close()\n",
        "        except Exception as e:\n",
        "            print(\"Error while closing the database connection:\", e)\n",
        "\n",
        "try:\n",
        "    insert_user_to_database(\"John Doe\", \"john@example.com\")\n",
        "except Exception as e:\n",
        "    print(\"An error occurred:\", e)"
      ],
      "metadata": {
        "colab": {
          "base_uri": "https://localhost:8080/"
        },
        "id": "sAh3cgVW-yn7",
        "outputId": "c1792360-8b5a-42bd-874d-3c936b6980d4"
      },
      "execution_count": 21,
      "outputs": [
        {
          "output_type": "stream",
          "name": "stdout",
          "text": [
            "Database error: no such table: users\n",
            "Please try again later or contact support.\n"
          ]
        }
      ]
    },
    {
      "cell_type": "markdown",
      "source": [],
      "metadata": {
        "id": "DoU5kym1lvS4"
      }
    },
    {
      "cell_type": "markdown",
      "source": [],
      "metadata": {
        "id": "HZRIN4uS3aot"
      }
    }
  ]
}