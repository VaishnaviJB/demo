{
  "nbformat": 4,
  "nbformat_minor": 0,
  "metadata": {
    "colab": {
      "provenance": [],
      "authorship_tag": "ABX9TyOnalj6B/82a8Rx37hOt6G3",
      "include_colab_link": true
    },
    "kernelspec": {
      "name": "python3",
      "display_name": "Python 3"
    },
    "language_info": {
      "name": "python"
    }
  },
  "cells": [
    {
      "cell_type": "markdown",
      "metadata": {
        "id": "view-in-github",
        "colab_type": "text"
      },
      "source": [
        "<a href=\"https://colab.research.google.com/github/VaishnaviJB/demo/blob/main/class_work_numpy_(2575345)_vaishnaviJB.ipynb\" target=\"_parent\"><img src=\"https://colab.research.google.com/assets/colab-badge.svg\" alt=\"Open In Colab\"/></a>"
      ]
    },
    {
      "cell_type": "markdown",
      "source": [
        "#Dataset\n",
        "np_olympic_country=np.array(['GBR', 'Chine', 'RUS', 'US', 'KOR', 'JPN', 'GER']) np_olympic_country_gold=np.array([29,38,24,46,13,7,11])\n",
        "\n",
        "np_olympic_country_silver-np.array([17,28,25,28,8,14,11])\n",
        "\n",
        "np_olympic_country_Bronze=np.array([19,22,32,29,7,17,14])"
      ],
      "metadata": {
        "id": "blOSjhFmCLtS"
      }
    },
    {
      "cell_type": "code",
      "source": [
        "import numpy as np\n",
        "\n",
        "# Dataset\n",
        "np_olympic_country = np.array(['GBR', 'China', 'RUS', 'US', 'KOR', 'JPN', 'GER'])\n",
        "np_olympic_country_gold = np.array([29, 38, 24, 46, 13, 7, 11])\n",
        "np_olympic_country_silver = np.array([17, 28, 25, 28, 8, 14, 11])\n",
        "np_olympic_country_bronze = np.array([19, 22, 32, 29, 7, 17, 14])\n",
        "\n",
        "# Find the country index with the maximum gold medals\n",
        "max_gold_index = np.argmax(np_olympic_country_gold)\n",
        "country_with_max_gold = np_olympic_country[max_gold_index]\n",
        "\n",
        "print(\"Country with the most gold medals:\", country_with_max_gold)"
      ],
      "metadata": {
        "colab": {
          "base_uri": "https://localhost:8080/"
        },
        "id": "GGtcOIHwBLgT",
        "outputId": "8da7a42e-e58b-432e-fcba-b9800ee06a24"
      },
      "execution_count": 2,
      "outputs": [
        {
          "output_type": "stream",
          "name": "stdout",
          "text": [
            "Country with the most gold medals: US\n"
          ]
        }
      ]
    },
    {
      "cell_type": "markdown",
      "source": [
        "**2**"
      ],
      "metadata": {
        "id": "lSUUcVwzB2tZ"
      }
    },
    {
      "cell_type": "code",
      "source": [
        "max_gold_index = np.argmax(np_olympic_country_gold)\n",
        "\n",
        "print(\"Index of the country with the most gold medals:\", max_gold_index)"
      ],
      "metadata": {
        "colab": {
          "base_uri": "https://localhost:8080/"
        },
        "id": "LgF05tb_BOUn",
        "outputId": "76aff3ac-205b-400f-ae46-8aec823cd9d9"
      },
      "execution_count": 3,
      "outputs": [
        {
          "output_type": "stream",
          "name": "stdout",
          "text": [
            "Index of the country with the most gold medals: 3\n"
          ]
        }
      ]
    },
    {
      "cell_type": "markdown",
      "source": [
        "3"
      ],
      "metadata": {
        "id": "9wfXS3jkB69b"
      }
    },
    {
      "cell_type": "code",
      "source": [
        "import numpy as np\n",
        "\n",
        "# Dataset\n",
        "np_olympic_country = np.array(['GBR', 'China', 'RUS', 'US', 'KOR', 'JPN', 'GER'])\n",
        "np_olympic_country_gold = np.array([29, 38, 24, 46, 13, 7, 11])\n",
        "\n",
        "# Find countries with more than 20 gold medals\n",
        "countries_with_more_than_20_gold = np_olympic_country[np_olympic_country_gold > 20]\n",
        "\n",
        "print(\"Countries with more than 20 gold medals:\", countries_with_more_than_20_gold)"
      ],
      "metadata": {
        "colab": {
          "base_uri": "https://localhost:8080/"
        },
        "id": "9LVlh3h-BUER",
        "outputId": "3d410f49-b085-42df-96cb-7d20721951bf"
      },
      "execution_count": 4,
      "outputs": [
        {
          "output_type": "stream",
          "name": "stdout",
          "text": [
            "Countries with more than 20 gold medals: ['GBR' 'China' 'RUS' 'US']\n"
          ]
        }
      ]
    },
    {
      "cell_type": "code",
      "source": [],
      "metadata": {
        "id": "Deyl6YMXCHCX"
      },
      "execution_count": null,
      "outputs": []
    },
    {
      "cell_type": "code",
      "source": [
        "import numpy as np\n",
        "\n",
        "# Dataset\n",
        "np_olympic_country = np.array(['GBR', 'China', 'RUS', 'US', 'KOR', 'JPN', 'GER'])\n",
        "np_olympic_country_gold = np.array([29, 38, 24, 46, 13, 7, 11])\n",
        "np_olympic_country_silver = np.array([17, 28, 25, 28, 8, 14, 11])\n",
        "np_olympic_country_bronze = np.array([19, 22, 32, 29, 7, 17, 14])\n",
        "\n",
        "# Calculate total medals for each country and print\n",
        "for i in range(len(np_olympic_country)):\n",
        "    country = np_olympic_country[i]\n",
        "    total_medals = (\n",
        "        np_olympic_country_gold[i]\n",
        "        + np_olympic_country_silver[i]\n",
        "        + np_olympic_country_bronze[i]\n",
        "    )\n",
        "    print(f\"{country}: {total_medals} total medals\")"
      ],
      "metadata": {
        "colab": {
          "base_uri": "https://localhost:8080/"
        },
        "id": "wIfbIBjIBc6T",
        "outputId": "f4692810-affd-4762-8c41-0edadc062977"
      },
      "execution_count": 5,
      "outputs": [
        {
          "output_type": "stream",
          "name": "stdout",
          "text": [
            "GBR: 65 total medals\n",
            "China: 88 total medals\n",
            "RUS: 81 total medals\n",
            "US: 103 total medals\n",
            "KOR: 28 total medals\n",
            "JPN: 38 total medals\n",
            "GER: 36 total medals\n"
          ]
        }
      ]
    }
  ]
}