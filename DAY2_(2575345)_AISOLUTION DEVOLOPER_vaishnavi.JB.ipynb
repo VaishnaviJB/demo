{
 "cells": [
  {
   "cell_type": "markdown",
   "id": "e8149b46",
   "metadata": {},
   "source": [
    "# Day2\n"
   ]
  },
  {
   "cell_type": "code",
   "execution_count": 3,
   "id": "4f370006",
   "metadata": {},
   "outputs": [
    {
     "name": "stdout",
     "output_type": "stream",
     "text": [
      "      price  area  bedrooms  bathrooms  stories mainroad guestroom basement  \\\n",
      "0  13300000  7420         4          2        3      yes        no       no   \n",
      "1  12250000  8960         4          4        4      yes        no       no   \n",
      "2  12250000  9960         3          2        2      yes        no      yes   \n",
      "3  12215000  7500         4          2        2      yes        no      yes   \n",
      "4  11410000  7420         4          1        2      yes       yes      yes   \n",
      "\n",
      "  hotwaterheating airconditioning  parking prefarea furnishingstatus  \n",
      "0              no             yes        2      yes        furnished  \n",
      "1              no             yes        3       no        furnished  \n",
      "2              no              no        2      yes   semi-furnished  \n",
      "3              no             yes        3      yes        furnished  \n",
      "4              no             yes        2       no        furnished  \n"
     ]
    }
   ],
   "source": [
    "import pandas as pd\n",
    "\n",
    "# Load the dataset\n",
    "data = pd.read_csv('Housing.csv')\n",
    "\n",
    "# Display the first few rows of the dataset\n",
    "print(data.head())"
   ]
  },
  {
   "cell_type": "code",
   "execution_count": 31,
   "id": "7eb2586a",
   "metadata": {},
   "outputs": [
    {
     "name": "stdout",
     "output_type": "stream",
     "text": [
      "Education                    0\n",
      "JoiningYear                  0\n",
      "City                         0\n",
      "PaymentTier                  0\n",
      "Age                          0\n",
      "Gender                       0\n",
      "EverBenched                  0\n",
      "ExperienceInCurrentDomain    0\n",
      "LeaveOrNot                   0\n",
      "dtype: int64\n",
      "       JoiningYear  PaymentTier          Age  ExperienceInCurrentDomain  \\\n",
      "count  4653.000000  4653.000000  4653.000000                4653.000000   \n",
      "mean   2015.062970     2.698259    29.393295                   2.905652   \n",
      "std       1.863377     0.561435     4.826087                   1.558240   \n",
      "min    2012.000000     1.000000    22.000000                   0.000000   \n",
      "25%    2013.000000     3.000000    26.000000                   2.000000   \n",
      "50%    2015.000000     3.000000    28.000000                   3.000000   \n",
      "75%    2017.000000     3.000000    32.000000                   4.000000   \n",
      "max    2018.000000     3.000000    41.000000                   7.000000   \n",
      "\n",
      "        LeaveOrNot  \n",
      "count  4653.000000  \n",
      "mean      0.343864  \n",
      "std       0.475047  \n",
      "min       0.000000  \n",
      "25%       0.000000  \n",
      "50%       0.000000  \n",
      "75%       1.000000  \n",
      "max       1.000000  \n"
     ]
    },
    {
     "ename": "KeyError",
     "evalue": "'price'",
     "output_type": "error",
     "traceback": [
      "\u001b[1;31m---------------------------------------------------------------------------\u001b[0m",
      "\u001b[1;31mKeyError\u001b[0m                                  Traceback (most recent call last)",
      "File \u001b[1;32mF:\\Users\\vaish\\anaconda3\\Lib\\site-packages\\pandas\\core\\indexes\\base.py:3653\u001b[0m, in \u001b[0;36mIndex.get_loc\u001b[1;34m(self, key)\u001b[0m\n\u001b[0;32m   3652\u001b[0m \u001b[38;5;28;01mtry\u001b[39;00m:\n\u001b[1;32m-> 3653\u001b[0m     \u001b[38;5;28;01mreturn\u001b[39;00m \u001b[38;5;28mself\u001b[39m\u001b[38;5;241m.\u001b[39m_engine\u001b[38;5;241m.\u001b[39mget_loc(casted_key)\n\u001b[0;32m   3654\u001b[0m \u001b[38;5;28;01mexcept\u001b[39;00m \u001b[38;5;167;01mKeyError\u001b[39;00m \u001b[38;5;28;01mas\u001b[39;00m err:\n",
      "File \u001b[1;32mF:\\Users\\vaish\\anaconda3\\Lib\\site-packages\\pandas\\_libs\\index.pyx:147\u001b[0m, in \u001b[0;36mpandas._libs.index.IndexEngine.get_loc\u001b[1;34m()\u001b[0m\n",
      "File \u001b[1;32mF:\\Users\\vaish\\anaconda3\\Lib\\site-packages\\pandas\\_libs\\index.pyx:176\u001b[0m, in \u001b[0;36mpandas._libs.index.IndexEngine.get_loc\u001b[1;34m()\u001b[0m\n",
      "File \u001b[1;32mpandas\\_libs\\hashtable_class_helper.pxi:7080\u001b[0m, in \u001b[0;36mpandas._libs.hashtable.PyObjectHashTable.get_item\u001b[1;34m()\u001b[0m\n",
      "File \u001b[1;32mpandas\\_libs\\hashtable_class_helper.pxi:7088\u001b[0m, in \u001b[0;36mpandas._libs.hashtable.PyObjectHashTable.get_item\u001b[1;34m()\u001b[0m\n",
      "\u001b[1;31mKeyError\u001b[0m: 'price'",
      "\nThe above exception was the direct cause of the following exception:\n",
      "\u001b[1;31mKeyError\u001b[0m                                  Traceback (most recent call last)",
      "Cell \u001b[1;32mIn[31], line 11\u001b[0m\n\u001b[0;32m      8\u001b[0m \u001b[38;5;28mprint\u001b[39m(data\u001b[38;5;241m.\u001b[39mdescribe())\n\u001b[0;32m     10\u001b[0m \u001b[38;5;66;03m# Handle outliers (e.g., assuming 'price' is the target variable)\u001b[39;00m\n\u001b[1;32m---> 11\u001b[0m Q1 \u001b[38;5;241m=\u001b[39m data[\u001b[38;5;124m'\u001b[39m\u001b[38;5;124mprice\u001b[39m\u001b[38;5;124m'\u001b[39m]\u001b[38;5;241m.\u001b[39mquantile(\u001b[38;5;241m0.25\u001b[39m)\n\u001b[0;32m     12\u001b[0m Q3 \u001b[38;5;241m=\u001b[39m data[\u001b[38;5;124m'\u001b[39m\u001b[38;5;124mprice\u001b[39m\u001b[38;5;124m'\u001b[39m]\u001b[38;5;241m.\u001b[39mquantile(\u001b[38;5;241m0.75\u001b[39m)\n\u001b[0;32m     13\u001b[0m IQR \u001b[38;5;241m=\u001b[39m Q3 \u001b[38;5;241m-\u001b[39m Q1\n",
      "File \u001b[1;32mF:\\Users\\vaish\\anaconda3\\Lib\\site-packages\\pandas\\core\\frame.py:3761\u001b[0m, in \u001b[0;36mDataFrame.__getitem__\u001b[1;34m(self, key)\u001b[0m\n\u001b[0;32m   3759\u001b[0m \u001b[38;5;28;01mif\u001b[39;00m \u001b[38;5;28mself\u001b[39m\u001b[38;5;241m.\u001b[39mcolumns\u001b[38;5;241m.\u001b[39mnlevels \u001b[38;5;241m>\u001b[39m \u001b[38;5;241m1\u001b[39m:\n\u001b[0;32m   3760\u001b[0m     \u001b[38;5;28;01mreturn\u001b[39;00m \u001b[38;5;28mself\u001b[39m\u001b[38;5;241m.\u001b[39m_getitem_multilevel(key)\n\u001b[1;32m-> 3761\u001b[0m indexer \u001b[38;5;241m=\u001b[39m \u001b[38;5;28mself\u001b[39m\u001b[38;5;241m.\u001b[39mcolumns\u001b[38;5;241m.\u001b[39mget_loc(key)\n\u001b[0;32m   3762\u001b[0m \u001b[38;5;28;01mif\u001b[39;00m is_integer(indexer):\n\u001b[0;32m   3763\u001b[0m     indexer \u001b[38;5;241m=\u001b[39m [indexer]\n",
      "File \u001b[1;32mF:\\Users\\vaish\\anaconda3\\Lib\\site-packages\\pandas\\core\\indexes\\base.py:3655\u001b[0m, in \u001b[0;36mIndex.get_loc\u001b[1;34m(self, key)\u001b[0m\n\u001b[0;32m   3653\u001b[0m     \u001b[38;5;28;01mreturn\u001b[39;00m \u001b[38;5;28mself\u001b[39m\u001b[38;5;241m.\u001b[39m_engine\u001b[38;5;241m.\u001b[39mget_loc(casted_key)\n\u001b[0;32m   3654\u001b[0m \u001b[38;5;28;01mexcept\u001b[39;00m \u001b[38;5;167;01mKeyError\u001b[39;00m \u001b[38;5;28;01mas\u001b[39;00m err:\n\u001b[1;32m-> 3655\u001b[0m     \u001b[38;5;28;01mraise\u001b[39;00m \u001b[38;5;167;01mKeyError\u001b[39;00m(key) \u001b[38;5;28;01mfrom\u001b[39;00m \u001b[38;5;21;01merr\u001b[39;00m\n\u001b[0;32m   3656\u001b[0m \u001b[38;5;28;01mexcept\u001b[39;00m \u001b[38;5;167;01mTypeError\u001b[39;00m:\n\u001b[0;32m   3657\u001b[0m     \u001b[38;5;66;03m# If we have a listlike key, _check_indexing_error will raise\u001b[39;00m\n\u001b[0;32m   3658\u001b[0m     \u001b[38;5;66;03m#  InvalidIndexError. Otherwise we fall through and re-raise\u001b[39;00m\n\u001b[0;32m   3659\u001b[0m     \u001b[38;5;66;03m#  the TypeError.\u001b[39;00m\n\u001b[0;32m   3660\u001b[0m     \u001b[38;5;28mself\u001b[39m\u001b[38;5;241m.\u001b[39m_check_indexing_error(key)\n",
      "\u001b[1;31mKeyError\u001b[0m: 'price'"
     ]
    }
   ],
   "source": [
    "# Check for missing values\n",
    "print(data.isnull().sum())\n",
    "\n",
    "# Handle missing values\n",
    "data = data.dropna()\n",
    "\n",
    "# Explore the distribution of numerical variables\n",
    "print(data.describe())\n",
    "\n",
    "# Handle outliers (e.g., assuming 'price' is the target variable)\n",
    "Q1 = data['price'].quantile(0.25)\n",
    "Q3 = data['price'].quantile(0.75)\n",
    "IQR = Q3 - Q1\n",
    "data = data[~((data['price'] < (Q1 - 1.5 * IQR)) | (data['price'] > (Q3 + 1.5 * IQR)))]\n"
   ]
  },
  {
   "cell_type": "code",
   "execution_count": 32,
   "id": "54372f95",
   "metadata": {},
   "outputs": [
    {
     "ename": "KeyError",
     "evalue": "\"['parking'] not found in axis\"",
     "output_type": "error",
     "traceback": [
      "\u001b[1;31m---------------------------------------------------------------------------\u001b[0m",
      "\u001b[1;31mKeyError\u001b[0m                                  Traceback (most recent call last)",
      "Cell \u001b[1;32mIn[32], line 4\u001b[0m\n\u001b[0;32m      1\u001b[0m \u001b[38;5;28;01mfrom\u001b[39;00m \u001b[38;5;21;01msklearn\u001b[39;00m\u001b[38;5;21;01m.\u001b[39;00m\u001b[38;5;21;01mmodel_selection\u001b[39;00m \u001b[38;5;28;01mimport\u001b[39;00m train_test_split\n\u001b[0;32m      3\u001b[0m \u001b[38;5;66;03m# Select the features (independent variables) and the target variable\u001b[39;00m\n\u001b[1;32m----> 4\u001b[0m X \u001b[38;5;241m=\u001b[39m data\u001b[38;5;241m.\u001b[39mdrop(\u001b[38;5;124m'\u001b[39m\u001b[38;5;124mparking\u001b[39m\u001b[38;5;124m'\u001b[39m, axis\u001b[38;5;241m=\u001b[39m\u001b[38;5;241m1\u001b[39m)\n\u001b[0;32m      5\u001b[0m y \u001b[38;5;241m=\u001b[39m data[\u001b[38;5;124m'\u001b[39m\u001b[38;5;124mparking\u001b[39m\u001b[38;5;124m'\u001b[39m]\n\u001b[0;32m      7\u001b[0m \u001b[38;5;66;03m# Split the dataset into training and testing sets (e.g., 70% training and 30% testing)\u001b[39;00m\n",
      "File \u001b[1;32mF:\\Users\\vaish\\anaconda3\\Lib\\site-packages\\pandas\\core\\frame.py:5258\u001b[0m, in \u001b[0;36mDataFrame.drop\u001b[1;34m(self, labels, axis, index, columns, level, inplace, errors)\u001b[0m\n\u001b[0;32m   5110\u001b[0m \u001b[38;5;28;01mdef\u001b[39;00m \u001b[38;5;21mdrop\u001b[39m(\n\u001b[0;32m   5111\u001b[0m     \u001b[38;5;28mself\u001b[39m,\n\u001b[0;32m   5112\u001b[0m     labels: IndexLabel \u001b[38;5;241m=\u001b[39m \u001b[38;5;28;01mNone\u001b[39;00m,\n\u001b[1;32m   (...)\u001b[0m\n\u001b[0;32m   5119\u001b[0m     errors: IgnoreRaise \u001b[38;5;241m=\u001b[39m \u001b[38;5;124m\"\u001b[39m\u001b[38;5;124mraise\u001b[39m\u001b[38;5;124m\"\u001b[39m,\n\u001b[0;32m   5120\u001b[0m ) \u001b[38;5;241m-\u001b[39m\u001b[38;5;241m>\u001b[39m DataFrame \u001b[38;5;241m|\u001b[39m \u001b[38;5;28;01mNone\u001b[39;00m:\n\u001b[0;32m   5121\u001b[0m \u001b[38;5;250m    \u001b[39m\u001b[38;5;124;03m\"\"\"\u001b[39;00m\n\u001b[0;32m   5122\u001b[0m \u001b[38;5;124;03m    Drop specified labels from rows or columns.\u001b[39;00m\n\u001b[0;32m   5123\u001b[0m \n\u001b[1;32m   (...)\u001b[0m\n\u001b[0;32m   5256\u001b[0m \u001b[38;5;124;03m            weight  1.0     0.8\u001b[39;00m\n\u001b[0;32m   5257\u001b[0m \u001b[38;5;124;03m    \"\"\"\u001b[39;00m\n\u001b[1;32m-> 5258\u001b[0m     \u001b[38;5;28;01mreturn\u001b[39;00m \u001b[38;5;28msuper\u001b[39m()\u001b[38;5;241m.\u001b[39mdrop(\n\u001b[0;32m   5259\u001b[0m         labels\u001b[38;5;241m=\u001b[39mlabels,\n\u001b[0;32m   5260\u001b[0m         axis\u001b[38;5;241m=\u001b[39maxis,\n\u001b[0;32m   5261\u001b[0m         index\u001b[38;5;241m=\u001b[39mindex,\n\u001b[0;32m   5262\u001b[0m         columns\u001b[38;5;241m=\u001b[39mcolumns,\n\u001b[0;32m   5263\u001b[0m         level\u001b[38;5;241m=\u001b[39mlevel,\n\u001b[0;32m   5264\u001b[0m         inplace\u001b[38;5;241m=\u001b[39minplace,\n\u001b[0;32m   5265\u001b[0m         errors\u001b[38;5;241m=\u001b[39merrors,\n\u001b[0;32m   5266\u001b[0m     )\n",
      "File \u001b[1;32mF:\\Users\\vaish\\anaconda3\\Lib\\site-packages\\pandas\\core\\generic.py:4549\u001b[0m, in \u001b[0;36mNDFrame.drop\u001b[1;34m(self, labels, axis, index, columns, level, inplace, errors)\u001b[0m\n\u001b[0;32m   4547\u001b[0m \u001b[38;5;28;01mfor\u001b[39;00m axis, labels \u001b[38;5;129;01min\u001b[39;00m axes\u001b[38;5;241m.\u001b[39mitems():\n\u001b[0;32m   4548\u001b[0m     \u001b[38;5;28;01mif\u001b[39;00m labels \u001b[38;5;129;01mis\u001b[39;00m \u001b[38;5;129;01mnot\u001b[39;00m \u001b[38;5;28;01mNone\u001b[39;00m:\n\u001b[1;32m-> 4549\u001b[0m         obj \u001b[38;5;241m=\u001b[39m obj\u001b[38;5;241m.\u001b[39m_drop_axis(labels, axis, level\u001b[38;5;241m=\u001b[39mlevel, errors\u001b[38;5;241m=\u001b[39merrors)\n\u001b[0;32m   4551\u001b[0m \u001b[38;5;28;01mif\u001b[39;00m inplace:\n\u001b[0;32m   4552\u001b[0m     \u001b[38;5;28mself\u001b[39m\u001b[38;5;241m.\u001b[39m_update_inplace(obj)\n",
      "File \u001b[1;32mF:\\Users\\vaish\\anaconda3\\Lib\\site-packages\\pandas\\core\\generic.py:4591\u001b[0m, in \u001b[0;36mNDFrame._drop_axis\u001b[1;34m(self, labels, axis, level, errors, only_slice)\u001b[0m\n\u001b[0;32m   4589\u001b[0m         new_axis \u001b[38;5;241m=\u001b[39m axis\u001b[38;5;241m.\u001b[39mdrop(labels, level\u001b[38;5;241m=\u001b[39mlevel, errors\u001b[38;5;241m=\u001b[39merrors)\n\u001b[0;32m   4590\u001b[0m     \u001b[38;5;28;01melse\u001b[39;00m:\n\u001b[1;32m-> 4591\u001b[0m         new_axis \u001b[38;5;241m=\u001b[39m axis\u001b[38;5;241m.\u001b[39mdrop(labels, errors\u001b[38;5;241m=\u001b[39merrors)\n\u001b[0;32m   4592\u001b[0m     indexer \u001b[38;5;241m=\u001b[39m axis\u001b[38;5;241m.\u001b[39mget_indexer(new_axis)\n\u001b[0;32m   4594\u001b[0m \u001b[38;5;66;03m# Case for non-unique axis\u001b[39;00m\n\u001b[0;32m   4595\u001b[0m \u001b[38;5;28;01melse\u001b[39;00m:\n",
      "File \u001b[1;32mF:\\Users\\vaish\\anaconda3\\Lib\\site-packages\\pandas\\core\\indexes\\base.py:6699\u001b[0m, in \u001b[0;36mIndex.drop\u001b[1;34m(self, labels, errors)\u001b[0m\n\u001b[0;32m   6697\u001b[0m \u001b[38;5;28;01mif\u001b[39;00m mask\u001b[38;5;241m.\u001b[39many():\n\u001b[0;32m   6698\u001b[0m     \u001b[38;5;28;01mif\u001b[39;00m errors \u001b[38;5;241m!=\u001b[39m \u001b[38;5;124m\"\u001b[39m\u001b[38;5;124mignore\u001b[39m\u001b[38;5;124m\"\u001b[39m:\n\u001b[1;32m-> 6699\u001b[0m         \u001b[38;5;28;01mraise\u001b[39;00m \u001b[38;5;167;01mKeyError\u001b[39;00m(\u001b[38;5;124mf\u001b[39m\u001b[38;5;124m\"\u001b[39m\u001b[38;5;132;01m{\u001b[39;00m\u001b[38;5;28mlist\u001b[39m(labels[mask])\u001b[38;5;132;01m}\u001b[39;00m\u001b[38;5;124m not found in axis\u001b[39m\u001b[38;5;124m\"\u001b[39m)\n\u001b[0;32m   6700\u001b[0m     indexer \u001b[38;5;241m=\u001b[39m indexer[\u001b[38;5;241m~\u001b[39mmask]\n\u001b[0;32m   6701\u001b[0m \u001b[38;5;28;01mreturn\u001b[39;00m \u001b[38;5;28mself\u001b[39m\u001b[38;5;241m.\u001b[39mdelete(indexer)\n",
      "\u001b[1;31mKeyError\u001b[0m: \"['parking'] not found in axis\""
     ]
    }
   ],
   "source": [
    "from sklearn.model_selection import train_test_split\n",
    "\n",
    "# Select the features (independent variables) and the target variable\n",
    "X = data.drop('parking', axis=1)\n",
    "y = data['parking']\n",
    "\n",
    "# Split the dataset into training and testing sets (e.g., 70% training and 30% testing)\n",
    "X_train, X_test, y_train, y_test = train_test_split(X, y, test_size=0.3, random_state=42)"
   ]
  },
  {
   "cell_type": "code",
   "execution_count": 10,
   "id": "e1c6d954",
   "metadata": {},
   "outputs": [
    {
     "name": "stdout",
     "output_type": "stream",
     "text": [
      "Selected Features: ['area', 'bedrooms', 'bathrooms', 'stories']\n",
      "R-squared (R2) with Lasso: 0.5137585083333482\n"
     ]
    },
    {
     "data": {
      "image/png": "[encoded data removed]",
      "text/plain": [
       "<Figure size 800x600 with 1 Axes>"
      ]
     },
     "metadata": {},
     "output_type": "display_data"
    }
   ],
   "source": [
    "import pandas as pd\n",
    "from sklearn.model_selection import train_test_split\n",
    "from sklearn.linear_model import Lasso\n",
    "import numpy as np\n",
    "import matplotlib.pyplot as plt\n",
    "\n",
    "# Load the dataset using pandas\n",
    "data = pd.read_csv('Housing.csv')\n",
    "\n",
    "# Define the features (independent variables) and target (dependent variable)\n",
    "X = data[['area', 'bedrooms', 'bathrooms', 'stories']]\n",
    "y = data['price']\n",
    "\n",
    "# Split the dataset into a training set (80%) and a testing set (20%)\n",
    "X_train, X_test, y_train, y_test = train_test_split(X, y, test_size=0.2, random_state=42)\n",
    "\n",
    "# Implement Lasso regression\n",
    "lasso_model = Lasso(alpha=1.0)  # You can adjust the alpha parameter for different regularization strengths\n",
    "\n",
    "# Fit the model to the training data\n",
    "lasso_model.fit(X_train, y_train)\n",
    "\n",
    "# Get the coefficients and intercept\n",
    "coefficients = lasso_model.coef_\n",
    "intercept = lasso_model.intercept_\n",
    "\n",
    "# Make predictions on the test set\n",
    "y_pred = lasso_model.predict(X_test)\n",
    "\n",
    "# Calculate the R-squared value\n",
    "r2 = lasso_model.score(X_test, y_test)\n",
    "\n",
    "# Discuss the impact of L1 regularization\n",
    "# Let's analyze the coefficients and their impact on feature selection\n",
    "feature_names = X.columns\n",
    "selected_features = [feature for feature, coef in zip(feature_names, coefficients) if coef != 0]\n",
    "\n",
    "print(\"Selected Features:\", selected_features)\n",
    "print(\"R-squared (R2) with Lasso:\", r2)\n",
    "\n",
    "# Plot the coefficients\n",
    "plt.figure(figsize=(8, 6))\n",
    "plt.barh(feature_names, coefficients)\n",
    "plt.xlabel('Coefficient Value')\n",
    "plt.title('Lasso Coefficients')\n",
    "plt.show()"
   ]
  },
  {
   "cell_type": "code",
   "execution_count": 11,
   "id": "6fa84592",
   "metadata": {},
   "outputs": [
    {
     "name": "stdout",
     "output_type": "stream",
     "text": [
      "Mean Absolute Error (MAE): 1158970.4874243366\n",
      "Mean Squared Error (MSE): 2457741776323.832\n",
      "Root Mean Squared Error (RMSE): 1567718.653433655\n"
     ]
    }
   ],
   "source": [
    "import pandas as pd\n",
    "from sklearn.model_selection import train_test_split\n",
    "from sklearn.linear_model import Lasso\n",
    "from sklearn.metrics import mean_absolute_error, mean_squared_error\n",
    "import numpy as np\n",
    "\n",
    "# Load the dataset using pandas\n",
    "data = pd.read_csv('Housing.csv')\n",
    "\n",
    "# Define the features (independent variables) and target (dependent variable)\n",
    "X = data[['area', 'bedrooms', 'bathrooms', 'stories']]\n",
    "y = data['price']\n",
    "\n",
    "# Split the dataset into a training set (80%) and a testing set (20%)\n",
    "X_train, X_test, y_train, y_test = train_test_split(X, y, test_size=0.2, random_state=42)\n",
    "\n",
    "# Implement Lasso regression\n",
    "lasso_model = Lasso(alpha=1.0)  # You can adjust the alpha parameter for different regularization strengths\n",
    "\n",
    "# Fit the model to the training data\n",
    "lasso_model.fit(X_train, y_train)\n",
    "\n",
    "# Make predictions on the test set\n",
    "y_pred = lasso_model.predict(X_test)\n",
    "\n",
    "# Calculate evaluation metrics\n",
    "mae = mean_absolute_error(y_test, y_pred)\n",
    "mse = mean_squared_error(y_test, y_pred)\n",
    "rmse = np.sqrt(mse)\n",
    "\n",
    "print(\"Mean Absolute Error (MAE):\", mae)\n",
    "print(\"Mean Squared Error (MSE):\", mse)\n",
    "print(\"Root Mean Squared Error (RMSE):\", rmse)\n",
    "\n",
    "# Discuss how Lasso helps prevent overfitting and reduces the impact of irrelevant features\n",
    "# Lasso regularization introduces sparsity in the coefficients, effectively performing feature selection.\n",
    "# It encourages some coefficients to be exactly zero, removing irrelevant features and preventing overfitting."
   ]
  },
  {
   "cell_type": "code",
   "execution_count": 12,
   "id": "65e9c2ef",
   "metadata": {},
   "outputs": [
    {
     "name": "stdout",
     "output_type": "stream",
     "text": [
      "Mean Absolute Error (MAE): 1158471.4534767317\n",
      "Mean Squared Error (MSE): 2456765538413.524\n",
      "Root Mean Squared Error (RMSE): 1567407.2662883517\n",
      "R-squared (R2) Value: 0.5139516479797922\n"
     ]
    }
   ],
   "source": [
    "import pandas as pd\n",
    "from sklearn.model_selection import train_test_split\n",
    "from sklearn.linear_model import Ridge\n",
    "from sklearn.metrics import mean_absolute_error, mean_squared_error, r2_score\n",
    "import numpy as np\n",
    "\n",
    "# Load the dataset using pandas\n",
    "data = pd.read_csv('Housing.csv')\n",
    "\n",
    "# Define the features (independent variables) and target (dependent variable)\n",
    "X = data[['area', 'bedrooms', 'bathrooms', 'stories']]\n",
    "y = data['price']\n",
    "\n",
    "# Split the dataset into a training set (80%) and a testing set (20%)\n",
    "X_train, X_test, y_train, y_test = train_test_split(X, y, test_size=0.2, random_state=42)\n",
    "\n",
    "# Implement Ridge regression\n",
    "ridge_model = Ridge(alpha=1.0)  # You can adjust the alpha parameter for different regularization strengths\n",
    "\n",
    "# Fit the model to the training data\n",
    "ridge_model.fit(X_train, y_train)\n",
    "\n",
    "# Make predictions on the test set\n",
    "y_pred = ridge_model.predict(X_test)\n",
    "\n",
    "# Calculate evaluation metrics\n",
    "mae = mean_absolute_error(y_test, y_pred)\n",
    "mse = mean_squared_error(y_test, y_pred)\n",
    "rmse = np.sqrt(mse)\n",
    "r2 = r2_score(y_test, y_pred)\n",
    "\n",
    "print(\"Mean Absolute Error (MAE):\", mae)\n",
    "print(\"Mean Squared Error (MSE):\", mse)\n",
    "print(\"Root Mean Squared Error (RMSE):\", rmse)\n",
    "print(\"R-squared (R2) Value:\", r2)\n",
    "\n",
    "# Explain L2 regularization in Ridge regression vs. L1 regularization in Lasso\n",
    "# L2 regularization in Ridge regression adds a penalty term that discourages the magnitude of coefficients from becoming too large.\n",
    "# It minimizes the sum of squared coefficients. It doesn't result in exact zero coefficients but shrinks them.\n",
    "# L1 regularization in Lasso, on the other hand, adds a penalty term that can result in exact zero coefficients, effective"
   ]
  },
  {
   "cell_type": "code",
   "execution_count": 13,
   "id": "7181c8bc",
   "metadata": {},
   "outputs": [
    {
     "name": "stdout",
     "output_type": "stream",
     "text": [
      "Mean Absolute Error (MAE): 1158471.4534767317\n",
      "Mean Squared Error (MSE): 2456765538413.524\n",
      "Root Mean Squared Error (RMSE): 1567407.2662883517\n"
     ]
    }
   ],
   "source": [
    "import pandas as pd\n",
    "from sklearn.model_selection import train_test_split\n",
    "from sklearn.linear_model import Ridge\n",
    "from sklearn.metrics import mean_absolute_error, mean_squared_error\n",
    "import numpy as np\n",
    "\n",
    "# Load the dataset using pandas\n",
    "data = pd.read_csv('Housing.csv')\n",
    "\n",
    "# Define the features (independent variables) and target (dependent variable)\n",
    "X = data[['area', 'bedrooms', 'bathrooms', 'stories']]\n",
    "y = data['price']\n",
    "\n",
    "# Split the dataset into a training set (80%) and a testing set (20%)\n",
    "X_train, X_test, y_train, y_test = train_test_split(X, y, test_size=0.2, random_state=42)\n",
    "\n",
    "# Implement Ridge regression\n",
    "ridge_model = Ridge(alpha=1.0)  # You can adjust the alpha parameter for different regularization strengths\n",
    "\n",
    "# Fit the model to the training data\n",
    "ridge_model.fit(X_train, y_train)\n",
    "\n",
    "# Make predictions on the test set\n",
    "y_pred = ridge_model.predict(X_test)\n",
    "\n",
    "# Calculate evaluation metrics\n",
    "mae = mean_absolute_error(y_test, y_pred)\n",
    "mse = mean_squared_error(y_test, y_pred)\n",
    "rmse = np.sqrt(mse)\n",
    "\n",
    "print(\"Mean Absolute Error (MAE):\", mae)\n",
    "print(\"Mean Squared Error (MSE):\", mse)\n",
    "print(\"Root Mean Squared Error (RMSE):\", rmse)\n",
    "\n",
    "# Discuss the benefits of Ridge regression in handling multicollinearity\n",
    "# Ridge regression adds a penalty to the magnitude of coefficients, which helps handle multicollinearity among features.\n",
    "# Multicollinearity is when independent variables are highly correlated, making it difficult to distinguish their individual effects.\n",
    "# Ridge regression redistributes the contribution of correlated features and prevents overemphasis on any single feature, im"
   ]
  },
  {
   "cell_type": "code",
   "execution_count": 14,
   "id": "b788041b",
   "metadata": {},
   "outputs": [
    {
     "name": "stdout",
     "output_type": "stream",
     "text": [
      "Lasso Regression Metrics:\n",
      "Mean Absolute Error (MAE): 1158970.4874243366\n",
      "Mean Squared Error (MSE): 2457741776323.832\n",
      "Root Mean Squared Error (RMSE): 1567718.653433655\n",
      "R-squared (R2) Value: 0.5137585083333482\n",
      "\n",
      "Ridge Regression Metrics:\n",
      "Mean Absolute Error (MAE): 1158471.4534767317\n",
      "Mean Squared Error (MSE): 2456765538413.524\n",
      "Root Mean Squared Error (RMSE): 1567407.2662883517\n",
      "R-squared (R2) Value: 0.5139516479797922\n"
     ]
    }
   ],
   "source": [
    "import pandas as pd\n",
    "from sklearn.model_selection import train_test_split\n",
    "from sklearn.linear_model import Lasso, Ridge\n",
    "from sklearn.metrics import mean_absolute_error, mean_squared_error, r2_score\n",
    "import numpy as np\n",
    "\n",
    "# Load the dataset using pandas\n",
    "data = pd.read_csv('Housing.csv')\n",
    "\n",
    "# Define the features (independent variables) and target (dependent variable)\n",
    "X = data[['area', 'bedrooms', 'bathrooms', 'stories']]\n",
    "y = data['price']\n",
    "\n",
    "# Split the dataset into a training set (80%) and a testing set (20%)\n",
    "X_train, X_test, y_train, y_test = train_test_split(X, y, test_size=0.2, random_state=42)\n",
    "\n",
    "# Implement Lasso regression\n",
    "lasso_model = Lasso(alpha=1.0)  # You can adjust the alpha parameter for different regularization strengths\n",
    "lasso_model.fit(X_train, y_train)\n",
    "y_pred_lasso = lasso_model.predict(X_test)\n",
    "\n",
    "# Implement Ridge regression\n",
    "ridge_model = Ridge(alpha=1.0)  # You can adjust the alpha parameter for different regularization strengths\n",
    "ridge_model.fit(X_train, y_train)\n",
    "y_pred_ridge = ridge_model.predict(X_test)\n",
    "\n",
    "# Calculate evaluation metrics for Lasso\n",
    "mae_lasso = mean_absolute_error(y_test, y_pred_lasso)\n",
    "mse_lasso = mean_squared_error(y_test, y_pred_lasso)\n",
    "rmse_lasso = np.sqrt(mse_lasso)\n",
    "r2_lasso = r2_score(y_test, y_pred_lasso)\n",
    "\n",
    "# Calculate evaluation metrics for Ridge\n",
    "mae_ridge = mean_absolute_error(y_test, y_pred_ridge)\n",
    "mse_ridge = mean_squared_error(y_test, y_pred_ridge)\n",
    "rmse_ridge = np.sqrt(mse_ridge)\n",
    "r2_ridge = r2_score(y_test, y_pred_ridge)\n",
    "print(\"Lasso Regression Metrics:\")\n",
    "print(\"Mean Absolute Error (MAE):\", mae_lasso)\n",
    "print(\"Mean Squared Error (MSE):\", mse_lasso)\n",
    "print(\"Root Mean Squared Error (RMSE):\", rmse_lasso)\n",
    "print(\"R-squared (R2) Value:\", r2_lasso)\n",
    "\n",
    "print(\"\\nRidge Regression Metrics:\")\n",
    "print(\"Mean Absolute Error (MAE):\", mae_ridge)\n",
    "print(\"Mean Squared Error (MSE):\", mse_ridge)\n",
    "print(\"Root Mean Squared Error (RMSE):\", rmse_ridge)\n",
    "print(\"R-squared (R2) Value:\", r2_ridge)\n",
    "\n",
    "# Discuss when to use Lasso, Ridge, or plain linear regression\n",
    "# - Use plain linear regression when you assume that all features are relevant and multicollinearity is not a concern.\n",
    "# - Use Ridge regression when multicollinearity is present and you want to prevent overfitting while retaining all features.\n",
    "# - Use Lasso regression when you want to perform feature selection and eliminate irrelevant features due to L1 regularization"
   ]
  },
  {
   "cell_type": "code",
   "execution_count": 34,
   "id": "468bbde6",
   "metadata": {},
   "outputs": [
    {
     "ename": "SyntaxError",
     "evalue": "invalid non-printable character U+00A0 (3508892885.py, line 46)",
     "output_type": "error",
     "traceback": [
      "\u001b[1;36m  Cell \u001b[1;32mIn[34], line 46\u001b[1;36m\u001b[0m\n\u001b[1;33m    print()\u001b[0m\n\u001b[1;37m    ^\u001b[0m\n\u001b[1;31mSyntaxError\u001b[0m\u001b[1;31m:\u001b[0m invalid non-printable character U+00A0\n"
     ]
    }
   ],
   "source": [
    "import pandas as pd\n",
    "from sklearn.model_selection import train_test_split\n",
    "from sklearn.linear_model import Lasso, Ridge\n",
    "from sklearn.metrics import mean_squared_error, r2_score\n",
    "import numpy as np\n",
    "\n",
    "# Load the dataset using pandas\n",
    "data = pd.read_csv('Housing.csv')\n",
    "\n",
    "# Define the features (independent variables) and target (dependent variable)\n",
    "X = data[['area', 'bedrooms', 'bathrooms', 'stories']]\n",
    "y = data['price']\n",
    "\n",
    "# Split the dataset into a training set (80%) and a testing set (20%)\n",
    "X_train, X_test, y_train, y_test = train_test_split(X, y, test_size=0.2, random_state=42)\n",
    "\n",
    "# Hyperparameter tuning for Lasso\n",
    "alphas_lasso = [0.1, 0.5, 1.0, 2.0, 5.0]  # Different alpha values to try\n",
    "\n",
    "for alpha in alphas_lasso:\n",
    "    lasso_model = Lasso(alpha=alpha)\n",
    "    lasso_model.fit(X_train, y_train)\n",
    "    y_pred = lasso_model.predict(X_test)\n",
    "\n",
    "    mse = mean_squared_error(y_test, y_pred)\n",
    "    r2 = r2_score(y_test, y_pred)\n",
    "\n",
    "    print(f\"Lasso with alpha={alpha}:\")\n",
    "    print(\"Mean Squared Error (MSE):\", mse)\n",
    "    print(\"R-squared (R2) Value:\", r2)\n",
    "    print()\n",
    "# Hyperparameter tuning for Ridge\n",
    "alphas_ridge = [0.1, 0.5, 1.0, 2.0, 5.0]  # Different alpha values to try\n",
    "\n",
    "for alpha in alphas_ridge:\n",
    "    ridge_model = Ridge(alpha=alpha)\n",
    "    ridge_model.fit(X_train, y_train)\n",
    "    y_pred = ridge_model.predict(X_test)\n",
    "\n",
    "    mse = mean_squared_error(y_test, y_pred)\n",
    "    r2 = r2_score(y_test, y_pred)\n",
    "\n",
    "    print(f\"Ridge with alpha={alpha}:\")\n",
    "    print(\"Mean Squared Error (MSE):\",mse)\n",
    "    print(\"R-squared(R2)Value:\",r2)\n",
    "    print()"
   ]
  },
  {
   "cell_type": "code",
   "execution_count": 15,
   "id": "e1e953f3",
   "metadata": {},
   "outputs": [
    {
     "name": "stdout",
     "output_type": "stream",
     "text": [
      "Lasso Regression Metrics:\n",
      "Mean Squared Error (MSE): 1739555200404.3672\n",
      "R-squared (R2) Value: 0.6558450836335328\n",
      "\n",
      "Ridge Regression Metrics:\n",
      "Mean Squared Error (MSE): 1740213132762.3284\n",
      "R-squared (R2) Value: 0.6557149177982802\n"
     ]
    }
   ],
   "source": [
    "import pandas as pd\n",
    "from sklearn.model_selection import train_test_split\n",
    "from sklearn.linear_model import Lasso, Ridge\n",
    "from sklearn.preprocessing import StandardScaler, PolynomialFeatures\n",
    "from sklearn.metrics import mean_squared_error, r2_score\n",
    "import numpy as np\n",
    "\n",
    "# Load the dataset using pandas\n",
    "data = pd.read_csv('Housing.csv')\n",
    "\n",
    "# Define the features (independent variables) and target (dependent variable)\n",
    "X = data[['area', 'bedrooms', 'bathrooms', 'stories', 'mainroad', 'guestroom', 'basement', 'hotwaterheating', 'airconditioning', 'parking', 'prefarea', 'furnishingstatus']]\n",
    "y = data['price']\n",
    "\n",
    "# Perform one-hot encoding for categorical variables (e.g., 'mainroad', 'guestroom', 'basement', 'hotwaterheating', 'airconditioning', 'parking', 'prefarea', 'furnishing')\n",
    "X = pd.get_dummies(X, columns=['mainroad', 'guestroom', 'basement', 'hotwaterheating', 'airconditioning', 'parking', 'prefarea', 'furnishingstatus'], drop_first=True)\n",
    "\n",
    "# Split the dataset into a training set (80%) and a testing set (20%)\n",
    "X_train, X_test, y_train, y_test = train_test_split(X, y, test_size=0.2, random_state=42)\n",
    "\n",
    "# Perform feature scaling using StandardScaler\n",
    "scaler = StandardScaler()\n",
    "X_train = scaler.fit_transform(X_train)\n",
    "X_test = scaler.transform(X_test)\n",
    "\n",
    "# Hyperparameter tuning for Lasso\n",
    "alpha_lasso = 1.0  # Adjust the alpha value for Lasso regularization\n",
    "lasso_model = Lasso(alpha=alpha_lasso)\n",
    "lasso_model.fit(X_train, y_train)\n",
    "y_pred_lasso = lasso_model.predict(X_test)\n",
    "# Hyperparameter tuning for Ridge\n",
    "alpha_ridge = 1.0  # Adjust the alpha value for Ridge regularization\n",
    "ridge_model = Ridge(alpha=alpha_ridge)\n",
    "ridge_model.fit(X_train, y_train)\n",
    "y_pred_ridge = ridge_model.predict(X_test)\n",
    "\n",
    "# Calculate evaluation metrics for Lasso\n",
    "mse_lasso = mean_squared_error(y_test, y_pred_lasso)\n",
    "r2_lasso = r2_score(y_test, y_pred_lasso)\n",
    "\n",
    "# Calculate evaluation metrics for Ridge\n",
    "mse_ridge = mean_squared_error(y_test, y_pred_ridge)\n",
    "r2_ridge = r2_score(y_test, y_pred_ridge)\n",
    "\n",
    "print(\"Lasso Regression Metrics:\")\n",
    "print(\"Mean Squared Error (MSE):\", mse_lasso)\n",
    "print(\"R-squared (R2) Value:\", r2_lasso)\n",
    "print()\n",
    "\n",
    "print(\"Ridge Regression Metrics:\")\n",
    "print(\"Mean Squared Error (MSE):\", mse_ridge)\n",
    "print(\"R-squared (R2) Value:\", r2_ridge)"
   ]
  },
  {
   "cell_type": "markdown",
   "id": "ce2242fd",
   "metadata": {},
   "source": [
    "#2"
   ]
  },
  {
   "cell_type": "code",
   "execution_count": 20,
   "id": "e3b67f96",
   "metadata": {},
   "outputs": [
    {
     "name": "stdout",
     "output_type": "stream",
     "text": [
      "                            OLS Regression Results                            \n",
      "==============================================================================\n",
      "Dep. Variable:            PaymentTier   R-squared:                       0.000\n",
      "Model:                            OLS   Adj. R-squared:                  0.000\n",
      "Method:                 Least Squares   F-statistic:                     1.561\n",
      "Date:                Mon, 30 Oct 2023   Prob (F-statistic):              0.212\n",
      "Time:                        10:19:51   Log-Likelihood:                -3915.1\n",
      "No. Observations:                4653   AIC:                             7834.\n",
      "Df Residuals:                    4651   BIC:                             7847.\n",
      "Df Model:                           1                                         \n",
      "Covariance Type:            nonrobust                                         \n",
      "=============================================================================================\n",
      "                                coef    std err          t      P>|t|      [0.025      0.975]\n",
      "---------------------------------------------------------------------------------------------\n",
      "const                         2.6791      0.017    153.831      0.000       2.645       2.713\n",
      "ExperienceInCurrentDomain     0.0066      0.005      1.249      0.212      -0.004       0.017\n",
      "==============================================================================\n",
      "Omnibus:                     1350.588   Durbin-Watson:                   1.969\n",
      "Prob(Omnibus):                  0.000   Jarque-Bera (JB):             2963.909\n",
      "Skew:                          -1.707   Prob(JB):                         0.00\n",
      "Kurtosis:                       4.904   Cond. No.                         7.49\n",
      "==============================================================================\n",
      "\n",
      "Notes:\n",
      "[1] Standard Errors assume that the covariance matrix of the errors is correctly specified.\n"
     ]
    }
   ],
   "source": [
    "import pandas as pd\n",
    "import statsmodels.api as sm\n",
    "\n",
    "# Load the dataset\n",
    "data = pd.read_csv('Employee.csv')\n",
    "\n",
    "# Select the independent variable (experience) and the dependent variable (performance)\n",
    "X = data['ExperienceInCurrentDomain']\n",
    "y = data['PaymentTier']\n",
    "\n",
    "# Add a constant term to the predictor variable\n",
    "X = sm.add_constant(X)\n",
    "\n",
    "# Fit the linear regression model\n",
    "model = sm.OLS(y, X).fit()\n",
    "\n",
    "# Print the model summary\n",
    "print(model.summary())"
   ]
  },
  {
   "cell_type": "code",
   "execution_count": 21,
   "id": "e1b3a39a",
   "metadata": {},
   "outputs": [
    {
     "data": {
      "image/png": "[encoded data removed]",
      "text/plain": [
       "<Figure size 640x480 with 1 Axes>"
      ]
     },
     "metadata": {},
     "output_type": "display_data"
    },
    {
     "data": {
      "image/png": "[encoded data removed]",
      "text/plain": [
       "<Figure size 1200x400 with 3 Axes>"
      ]
     },
     "metadata": {},
     "output_type": "display_data"
    }
   ],
   "source": [
    "import numpy as np\n",
    "import pandas as pd\n",
    "import statsmodels.api as sm\n",
    "import matplotlib.pyplot as plt\n",
    "\n",
    "# Load the dataset\n",
    "data = pd.read_csv('Employee.csv')\n",
    "\n",
    "# Select the independent variables (experience, education level, number of projects)\n",
    "X = data[['ExperienceInCurrentDomain', 'PaymentTier', 'LeaveOrNot']]\n",
    "y = data['Age']\n",
    "\n",
    "# Add a constant term to the predictor variables\n",
    "X = sm.add_constant(X)\n",
    "\n",
    "# Fit the linear regression model\n",
    "model = sm.OLS(y, X).fit()\n",
    "\n",
    "# Obtain the residuals\n",
    "residuals = model.resid\n",
    "\n",
    "# Plot the residuals against the predicted values\n",
    "plt.scatter(model.predict(X), residuals)\n",
    "plt.xlabel('Predicted Values')\n",
    "plt.ylabel('Residuals')\n",
    "plt.title('Residuals vs Predicted Values')\n",
    "plt.show()\n",
    "\n",
    "# Plot the residuals against each independent variable\n",
    "fig, axes = plt.subplots(1, 3, figsize=(12, 4))\n",
    "for i, var in enumerate(X.columns[1:]):\n",
    "    axes[i].scatter(X[var], residuals)\n",
    "    axes[i].set_xlabel(var)\n",
    "    axes[i].set_ylabel('Residuals')\n",
    "plt.tight_layout()\n",
    "plt.show()"
   ]
  },
  {
   "cell_type": "code",
   "execution_count": 22,
   "id": "572d0cd9",
   "metadata": {},
   "outputs": [
    {
     "name": "stdout",
     "output_type": "stream",
     "text": [
      "                            WLS Regression Results                            \n",
      "==============================================================================\n",
      "Dep. Variable:                    Age   R-squared:                       0.029\n",
      "Model:                            WLS   Adj. R-squared:                  0.028\n",
      "Method:                 Least Squares   F-statistic:                     46.47\n",
      "Date:                Mon, 30 Oct 2023   Prob (F-statistic):           1.39e-29\n",
      "Time:                        10:20:38   Log-Likelihood:                 2268.5\n",
      "No. Observations:                4653   AIC:                            -4529.\n",
      "Df Residuals:                    4649   BIC:                            -4503.\n",
      "Df Model:                           3                                         \n",
      "Covariance Type:            nonrobust                                         \n",
      "=============================================================================================\n",
      "                                coef    std err          t      P>|t|      [0.025      0.975]\n",
      "---------------------------------------------------------------------------------------------\n",
      "const                         3.4716      0.017    202.371      0.000       3.438       3.505\n",
      "ExperienceInCurrentDomain    -0.0489      0.004    -11.230      0.000      -0.057      -0.040\n",
      "PaymentTier                  -0.0012      0.012     -0.097      0.923      -0.025       0.023\n",
      "LeaveOrNot                   -0.0258      0.007     -3.836      0.000      -0.039      -0.013\n",
      "==============================================================================\n",
      "Omnibus:                      294.939   Durbin-Watson:                   0.837\n",
      "Prob(Omnibus):                  0.000   Jarque-Bera (JB):              335.078\n",
      "Skew:                           0.638   Prob(JB):                     1.73e-73\n",
      "Kurtosis:                       2.683   Cond. No.                         20.1\n",
      "==============================================================================\n",
      "\n",
      "Notes:\n",
      "[1] Standard Errors assume that the covariance matrix of the errors is correctly specified.\n"
     ]
    }
   ],
   "source": [
    "import numpy as np\n",
    "import pandas as pd\n",
    "import statsmodels.api as sm\n",
    "\n",
    "# Load the dataset\n",
    "data = pd.read_csv('Employee.csv')\n",
    "\n",
    "# Select the independent variables (experience, education level, number of projects)\n",
    "X = data[['ExperienceInCurrentDomain', 'PaymentTier', 'LeaveOrNot']]\n",
    "y = data['Age']\n",
    "\n",
    "# Log transform the variables\n",
    "X_transformed = np.log(X + 1)\n",
    "y_transformed = np.log(y + 1)\n",
    "\n",
    "# Add a constant term to the predictor variables\n",
    "X_transformed = sm.add_constant(X_transformed)\n",
    "\n",
    "# Fit the WLS regression model\n",
    "weights = 1 / np.var(y_transformed)\n",
    "model_wls = sm.WLS(y_transformed, X_transformed, weights=weights).fit()\n",
    "\n",
    "# Print the model summary\n",
    "print(model_wls.summary())"
   ]
  },
  {
   "cell_type": "code",
   "execution_count": 23,
   "id": "da421274",
   "metadata": {},
   "outputs": [
    {
     "name": "stdout",
     "output_type": "stream",
     "text": [
      "                           ExperienceInCurrentDomain  PaymentTier  LeaveOrNot\n",
      "ExperienceInCurrentDomain                   1.000000     0.018314   -0.030504\n",
      "PaymentTier                                 0.018314     1.000000   -0.197638\n",
      "LeaveOrNot                                 -0.030504    -0.197638    1.000000\n"
     ]
    }
   ],
   "source": [
    "import numpy as np\n",
    "import pandas as pd\n",
    "\n",
    "# Load the dataset\n",
    "data = pd.read_csv('Employee.csv')\n",
    "\n",
    "# Select the independent variables (experience, education level, number of projects)\n",
    "X = data[['ExperienceInCurrentDomain', 'PaymentTier', 'LeaveOrNot']]\n",
    "\n",
    "# Calculate the correlation matrix\n",
    "correlation_matrix = X.corr()\n",
    "\n",
    "# Print the correlation matrix\n",
    "print(correlation_matrix)"
   ]
  },
  {
   "cell_type": "code",
   "execution_count": 24,
   "id": "a9791629",
   "metadata": {},
   "outputs": [
    {
     "name": "stdout",
     "output_type": "stream",
     "text": [
      "                    Variable       VIF\n",
      "0  ExperienceInCurrentDomain  3.990924\n",
      "1                PaymentTier  4.205945\n",
      "2                 LeaveOrNot  1.425770\n"
     ]
    }
   ],
   "source": [
    "from statsmodels.stats.outliers_influence import variance_inflation_factor\n",
    "\n",
    "# Calculate the VIFs\n",
    "vifs = pd.DataFrame()\n",
    "vifs[\"Variable\"] = X.columns\n",
    "vifs[\"VIF\"] = [variance_inflation_factor(X.values, i) for i in range(X.shape[1])]\n",
    "\n",
    "# Print the VIFs\n",
    "print(vifs)"
   ]
  },
  {
   "cell_type": "code",
   "execution_count": 25,
   "id": "ea76f1c1",
   "metadata": {},
   "outputs": [
    {
     "name": "stdout",
     "output_type": "stream",
     "text": [
      "                            OLS Regression Results                            \n",
      "==============================================================================\n",
      "Dep. Variable:                    Age   R-squared:                       0.021\n",
      "Model:                            OLS   Adj. R-squared:                  0.021\n",
      "Method:                 Least Squares   F-statistic:                     33.54\n",
      "Date:                Mon, 30 Oct 2023   Prob (F-statistic):           1.94e-21\n",
      "Time:                        10:21:32   Log-Likelihood:                -13876.\n",
      "No. Observations:                4653   AIC:                         2.776e+04\n",
      "Df Residuals:                    4649   BIC:                         2.779e+04\n",
      "Df Model:                           3                                         \n",
      "Covariance Type:            nonrobust                                         \n",
      "=============================================================================================\n",
      "                                coef    std err          t      P>|t|      [0.025      0.975]\n",
      "---------------------------------------------------------------------------------------------\n",
      "const                        30.8330      0.386     79.934      0.000      30.077      31.589\n",
      "ExperienceInCurrentDomain    -0.4222      0.045     -9.390      0.000      -0.510      -0.334\n",
      "PaymentTier                  -0.0071      0.127     -0.056      0.955      -0.257       0.242\n",
      "LeaveOrNot                   -0.5633      0.150     -3.745      0.000      -0.858      -0.268\n",
      "==============================================================================\n",
      "Omnibus:                      446.732   Durbin-Watson:                   0.793\n",
      "Prob(Omnibus):                  0.000   Jarque-Bera (JB):              584.140\n",
      "Skew:                           0.865   Prob(JB):                    1.43e-127\n",
      "Kurtosis:                       2.849   Cond. No.                         24.8\n",
      "==============================================================================\n",
      "\n",
      "Notes:\n",
      "[1] Standard Errors assume that the covariance matrix of the errors is correctly specified.\n"
     ]
    }
   ],
   "source": [
    "import pandas as pd\n",
    "import statsmodels.api as sm\n",
    "\n",
    "# Load the dataset\n",
    "data = pd.read_csv('Employee.csv')\n",
    "\n",
    "# Select the independent variables (experience, education level, number of projects)\n",
    "X = data[['ExperienceInCurrentDomain', 'PaymentTier', 'LeaveOrNot']]\n",
    "y = data['Age']\n",
    "\n",
    "# Add a constant term to the predictor variables\n",
    "X = sm.add_constant(X)\n",
    "\n",
    "# Fit the ordinary least squares (OLS) regression model\n",
    "model = sm.OLS(y, X).fit()\n",
    "\n",
    "# Print the model summary\n",
    "print(model.summary())"
   ]
  },
  {
   "cell_type": "code",
   "execution_count": 27,
   "id": "adcbbddf",
   "metadata": {},
   "outputs": [
    {
     "name": "stdout",
     "output_type": "stream",
     "text": [
      "R-squared: 0.02118289248434746\n",
      "MAE: 3.839933692810192\n",
      "MSE: 22.792843038078207\n",
      "RMSE: 4.774185065336094\n"
     ]
    }
   ],
   "source": [
    "import pandas as pd\n",
    "import statsmodels.api as sm\n",
    "from sklearn.metrics import mean_absolute_error, mean_squared_error, r2_score\n",
    "\n",
    "# Load the dataset\n",
    "data = pd.read_csv('Employee.csv')\n",
    "\n",
    "# Select the independent variables (experience, education level, number of projects)\n",
    "X = data[['ExperienceInCurrentDomain', 'PaymentTier', 'LeaveOrNot']]\n",
    "y = data['Age']\n",
    "\n",
    "# Add a constant term to the predictor variables\n",
    "X = sm.add_constant(X)\n",
    "\n",
    "# Fit the ordinary least squares (OLS) regression model\n",
    "model = sm.OLS(y, X).fit()\n",
    "\n",
    "# Get predicted values\n",
    "y_pred = model.predict(X)\n",
    "\n",
    "# Calculate R-squared\n",
    "r2 = r2_score(y, y_pred)\n",
    "\n",
    "# Calculate Mean Absolute Error (MAE)\n",
    "mae = mean_absolute_error(y, y_pred)\n",
    "\n",
    "# Calculate Mean Squared Error (MSE)\n",
    "mse = mean_squared_error(y, y_pred)\n",
    "\n",
    "# Calculate Root Mean Squared Error (RMSE)\n",
    "rmse = mean_squared_error(y, y_pred, squared=False)\n",
    "\n",
    "# Print the evaluation metrics\n",
    "print(\"R-squared:\", r2)\n",
    "print(\"MAE:\", mae)\n",
    "print(\"MSE:\", mse)\n",
    "print(\"RMSE:\",rmse)"
   ]
  },
  {
   "cell_type": "code",
   "execution_count": null,
   "id": "b2f83867",
   "metadata": {},
   "outputs": [],
   "source": []
  }
 ],
 "metadata": {
  "kernelspec": {
   "display_name": "Python 3 (ipykernel)",
   "language": "python",
   "name": "python3"
  },
  "language_info": {
   "codemirror_mode": {
    "name": "ipython",
    "version": 3
   },
   "file_extension": ".py",
   "mimetype": "text/x-python",
   "name": "python",
   "nbconvert_exporter": "python",
   "pygments_lexer": "ipython3",
   "version": "3.11.5"
  }
 },
 "nbformat": 4,
 "nbformat_minor": 5
}
