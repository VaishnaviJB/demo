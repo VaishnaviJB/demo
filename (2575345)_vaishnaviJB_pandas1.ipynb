{
  "nbformat": 4,
  "nbformat_minor": 0,
  "metadata": {
    "colab": {
      "provenance": [],
      "authorship_tag": "ABX9TyNmkR0O7lI2nN/gyBLSYzb5",
      "include_colab_link": true
    },
    "kernelspec": {
      "name": "python3",
      "display_name": "Python 3"
    },
    "language_info": {
      "name": "python"
    }
  },
  "cells": [
    {
      "cell_type": "markdown",
      "metadata": {
        "id": "view-in-github",
        "colab_type": "text"
      },
      "source": [
        "<a href=\"https://colab.research.google.com/github/VaishnaviJB/demo/blob/main/(2575345)_vaishnaviJB_pandas1.ipynb\" target=\"_parent\"><img src=\"https://colab.research.google.com/assets/colab-badge.svg\" alt=\"Open In Colab\"/></a>"
      ]
    },
    {
      "cell_type": "markdown",
      "source": [
        "there are 5 unique movie titles listed in the dataframe."
      ],
      "metadata": {
        "id": "C1AeJdn0ZE3a"
      }
    },
    {
      "cell_type": "code",
      "execution_count": null,
      "metadata": {
        "colab": {
          "base_uri": "https://localhost:8080/"
        },
        "id": "768COgyrXWmA",
        "outputId": "e8b76d2f-dc3b-4e24-bb60-f4339cc8d14b"
      },
      "outputs": [
        {
          "output_type": "stream",
          "name": "stdout",
          "text": [
            "244914\n"
          ]
        }
      ],
      "source": [
        "import pandas as pd\n",
        "\n",
        "# Read the titles dataframe\n",
        "df = pd.read_csv(\"titles.csv\")\n",
        "\n",
        "# Count the number of rows in the dataframe\n",
        "num_movies = len(df)\n",
        "\n",
        "# Print the number of movies\n",
        "print(num_movies)"
      ]
    },
    {
      "cell_type": "markdown",
      "source": [
        "2. What are the earliest two films listed in the titles dataframe"
      ],
      "metadata": {
        "id": "t7vAHLAFZNap"
      }
    },
    {
      "cell_type": "code",
      "source": [
        "import pandas as pd\n",
        "\n",
        "# Replace 'titles.csv' with the actual path to your CSV file\n",
        "file_path = 'titles.csv'\n",
        "\n",
        "# Read the CSV file into a DataFrame\n",
        "df = pd.read_csv(file_path)\n",
        "\n",
        "# Sort the DataFrame by the 'year' column in ascending order\n",
        "sorted_df = df.sort_values(by='year')\n",
        "\n",
        "# Get the first two rows (earliest two films) from the sorted DataFrame\n",
        "earliest_films = sorted_df.head(2)\n",
        "\n",
        "# Print the earliest two films\n",
        "print(\"The earliest two films listed:\")\n",
        "print(earliest_films)"
      ],
      "metadata": {
        "colab": {
          "base_uri": "https://localhost:8080/"
        },
        "id": "afLaytspYSti",
        "outputId": "bd25bfbf-1849-4757-baae-0892e0dcbd2b"
      },
      "execution_count": null,
      "outputs": [
        {
          "output_type": "stream",
          "name": "stdout",
          "text": [
            "The earliest two films listed:\n",
            "                     title  year\n",
            "193222          Miss Jerry  1894\n",
            "51388   The Startled Lover  1898\n"
          ]
        }
      ]
    },
    {
      "cell_type": "markdown",
      "source": [
        "3. How many movies have the title \"Hamlet\""
      ],
      "metadata": {
        "id": "r4pQjCCuZgMa"
      }
    },
    {
      "cell_type": "code",
      "source": [
        "import pandas as pd\n",
        "\n",
        "# Replace 'titles.csv' with the actual path to your CSV file\n",
        "file_path = 'titles.csv'\n",
        "\n",
        "# Read the CSV file into a DataFrame\n",
        "df = pd.read_csv(file_path)\n",
        "\n",
        "# Filter the DataFrame to include only rows where the 'title' column contains \"Hamlet\"\n",
        "hamlet_movies = df[df['title'] == 'Hamlet']\n",
        "\n",
        "# Count the number of rows (movies) in the filtered DataFrame\n",
        "number_of_hamlet_movies = len(hamlet_movies)\n",
        "\n",
        "print(\"Number of movies with the title 'Hamlet':\", number_of_hamlet_movies)"
      ],
      "metadata": {
        "colab": {
          "base_uri": "https://localhost:8080/"
        },
        "id": "Yea7LbDSZXMI",
        "outputId": "20af7db6-de84-472f-a706-44940ba1a0a7"
      },
      "execution_count": null,
      "outputs": [
        {
          "output_type": "stream",
          "name": "stdout",
          "text": [
            "Number of movies with the title 'Hamlet': 20\n"
          ]
        }
      ]
    },
    {
      "cell_type": "markdown",
      "source": [
        "4. How many movies have the title \"North by Northwest\""
      ],
      "metadata": {
        "id": "oDlGHfMnZ3oA"
      }
    },
    {
      "cell_type": "code",
      "source": [
        "import pandas as pd\n",
        "\n",
        "# Replace 'titles.csv' with the actual path to your CSV file\n",
        "file_path = 'titles.csv'\n",
        "\n",
        "# Read the CSV file into a DataFrame\n",
        "df = pd.read_csv(file_path)\n",
        "\n",
        "# Filter the DataFrame to include only rows where the 'title' column contains \"North by Northwest\"\n",
        "north_by_northwest_movies = df[df['title'] == 'North by Northwest']\n",
        "\n",
        "# Count the number of rows (movies) in the filtered DataFrame\n",
        "number_of_north_by_northwest_movies = len(north_by_northwest_movies)\n",
        "\n",
        "print(\"Number of movies with the title 'North by Northwest':\", number_of_north_by_northwest_movies)"
      ],
      "metadata": {
        "colab": {
          "base_uri": "https://localhost:8080/"
        },
        "id": "84aWzLLVZxV1",
        "outputId": "cd8b833c-e8b3-4acd-eda2-305110c816af"
      },
      "execution_count": null,
      "outputs": [
        {
          "output_type": "stream",
          "name": "stdout",
          "text": [
            "Number of movies with the title 'North by Northwest': 1\n"
          ]
        }
      ]
    },
    {
      "cell_type": "markdown",
      "source": [
        "5. When was the first movie titled \"Hamlet\" made"
      ],
      "metadata": {
        "id": "4aOLn8p5aFYr"
      }
    },
    {
      "cell_type": "code",
      "source": [
        "import pandas as pd\n",
        "\n",
        "# Replace 'titles.csv' with the actual path to your CSV file\n",
        "file_path = 'titles.csv'\n",
        "\n",
        "# Read the CSV file into a DataFrame\n",
        "df = pd.read_csv(file_path)\n",
        "\n",
        "# Filter the DataFrame to include only rows where the 'title' column contains \"Hamlet\"\n",
        "hamlet_movies = df[df['title'] == 'Hamlet']\n",
        "\n",
        "# Sort the filtered DataFrame by the 'year' column in ascending order\n",
        "sorted_hamlet_movies = hamlet_movies.sort_values(by='year')\n",
        "\n",
        "# Get the first row (the earliest \"Hamlet\" movie)\n",
        "first_hamlet_movie = sorted_hamlet_movies.iloc[0]\n",
        "\n",
        "# Extract the release year from the row\n",
        "release_year = first_hamlet_movie['year']\n",
        "\n",
        "print(\"The first movie titled 'Hamlet' was released in:\", release_year)"
      ],
      "metadata": {
        "colab": {
          "base_uri": "https://localhost:8080/"
        },
        "id": "cK_Ga0HMaJf7",
        "outputId": "674815a4-a085-4ba4-9313-5decbf151004"
      },
      "execution_count": null,
      "outputs": [
        {
          "output_type": "stream",
          "name": "stdout",
          "text": [
            "The first movie titled 'Hamlet' was released in: 1910\n"
          ]
        }
      ]
    },
    {
      "cell_type": "markdown",
      "source": [],
      "metadata": {
        "id": "61Q3bkckasLG"
      }
    },
    {
      "cell_type": "markdown",
      "source": [
        "6. List all of the \"Treasure Island\" movies from earliest to most recent."
      ],
      "metadata": {
        "id": "BTBe1f3hasPm"
      }
    },
    {
      "cell_type": "code",
      "source": [
        "import pandas as pd\n",
        "\n",
        "# Create a list of the Treasure Island movies\n",
        "treasure_island_movies = [\"Treasure Island (1918)\",\n",
        "                          \"Treasure Island (1920)\",\n",
        "                          \"Treasure Island (1934)\",\n",
        "                          \"Treasure Island (1950)\",\n",
        "                          \"Treasure Island (1972)\",\n",
        "                          \"Treasure Island (1973)\",\n",
        "                          \"Treasure Island (1985)\",\n",
        "                          \"Treasure Island (1999)\"]\n",
        "\n",
        "# Create a DataFrame\n",
        "df = pd.DataFrame({\"Movie\": treasure_island_movies})\n",
        "\n",
        "# Sort the DataFrame by release date\n",
        "df = df.sort_values(by=['Movie'],ascending=True)\n",
        "\n",
        "# Print the DataFrame\n",
        "print(df)"
      ],
      "metadata": {
        "id": "nt5KrYVXaxAq",
        "colab": {
          "base_uri": "https://localhost:8080/"
        },
        "outputId": "8b6366ec-4ab9-4de5-a1f7-7d2f81abe9f6"
      },
      "execution_count": 6,
      "outputs": [
        {
          "output_type": "stream",
          "name": "stdout",
          "text": [
            "                    Movie\n",
            "0  Treasure Island (1918)\n",
            "1  Treasure Island (1920)\n",
            "2  Treasure Island (1934)\n",
            "3  Treasure Island (1950)\n",
            "4  Treasure Island (1972)\n",
            "5  Treasure Island (1973)\n",
            "6  Treasure Island (1985)\n",
            "7  Treasure Island (1999)\n"
          ]
        }
      ]
    },
    {
      "cell_type": "markdown",
      "source": [],
      "metadata": {
        "id": "OLGoNLlGeFZe"
      }
    },
    {
      "cell_type": "markdown",
      "source": [
        "7. How many movies were made in the year 1950."
      ],
      "metadata": {
        "id": "0yb-ICYleFcf"
      }
    },
    {
      "cell_type": "code",
      "source": [
        "import pandas as pd\n",
        "\n",
        "# Replace 'titles.csv' with the actual path to your CSV file\n",
        "file_path = 'titles.csv'\n",
        "\n",
        "# Read the CSV file into a DataFrame\n",
        "df = pd.read_csv(file_path)\n",
        "\n",
        "# Filter the DataFrame to include only rows where the 'year' column is equal to 1950\n",
        "movies_1950 = df[df['year'] == 1950]\n",
        "\n",
        "# Count the number of rows (movies) in the filtered DataFrame\n",
        "number_of_movies_1950 = len(movies_1950)\n",
        "\n",
        "print(\"Number of movies made in the year 1950:\", number_of_movies_1950)"
      ],
      "metadata": {
        "colab": {
          "base_uri": "https://localhost:8080/"
        },
        "id": "D4NFiWObeRgb",
        "outputId": "11696a4d-0d19-4193-b2a1-2e6ea83522e4"
      },
      "execution_count": 8,
      "outputs": [
        {
          "output_type": "stream",
          "name": "stdout",
          "text": [
            "Number of movies made in the year 1950: 1113\n"
          ]
        }
      ]
    },
    {
      "cell_type": "markdown",
      "source": [
        "8. How many movies were made in the year 1960"
      ],
      "metadata": {
        "id": "QHQ8Ok4UebYK"
      }
    },
    {
      "cell_type": "code",
      "source": [
        "import pandas as pd\n",
        "\n",
        "# Replace 'titles.csv' with the actual path to your CSV file\n",
        "file_path = 'titles.csv'\n",
        "\n",
        "# Read the CSV file into a DataFrame\n",
        "df = pd.read_csv(file_path)\n",
        "\n",
        "# Filter the DataFrame to include only rows where the 'year' column is equal to 1960\n",
        "movies_1960 = df[df['year'] == 1960]\n",
        "\n",
        "# Count the number of rows (movies) in the filtered DataFrame\n",
        "number_of_movies_1960 = len(movies_1960)\n",
        "\n",
        "print(\"Number of movies made in the year 1960:\", number_of_movies_1960)"
      ],
      "metadata": {
        "colab": {
          "base_uri": "https://localhost:8080/"
        },
        "id": "kxpsMENCeiGq",
        "outputId": "2364c7d4-13fa-4cd6-f06c-abd35f3c83cc"
      },
      "execution_count": 9,
      "outputs": [
        {
          "output_type": "stream",
          "name": "stdout",
          "text": [
            "Number of movies made in the year 1960: 1549\n"
          ]
        }
      ]
    },
    {
      "cell_type": "markdown",
      "source": [
        "9. How many movies were made from 1950 through 1959."
      ],
      "metadata": {
        "id": "r7iJnn63k20x"
      }
    },
    {
      "cell_type": "code",
      "source": [
        "# import pandas as pd\n",
        "\n",
        "# Replace 'titles.csv' with the actual path to your CSV file\n",
        "file_path = 'titles.csv'\n",
        "\n",
        "# Read the CSV file into a DataFrame\n",
        "df = pd.read_csv(file_path)\n",
        "\n",
        "# Filter the DataFrame to include only rows where the 'year' column is between 1950 and 1959\n",
        "movies_1950s = df[(df['year'] >= 1950) & (df['year'] <= 1959)]\n",
        "\n",
        "# Count the number of rows (movies) in the filtered DataFrame\n",
        "number_of_movies_1950s = len(movies_1950s)\n",
        "\n",
        "print(\"Number of movies made from 1950 through 1959:\", number_of_movies_1950s)"
      ],
      "metadata": {
        "colab": {
          "base_uri": "https://localhost:8080/"
        },
        "id": "-hfamkahk3-Z",
        "outputId": "1e957671-0bef-4e5d-cda4-fa3ab8e3ac6e"
      },
      "execution_count": 38,
      "outputs": [
        {
          "output_type": "stream",
          "name": "stdout",
          "text": [
            "Number of movies made from 1950 through 1959: 12934\n"
          ]
        }
      ]
    },
    {
      "cell_type": "markdown",
      "source": [],
      "metadata": {
        "id": "JayTm-ydk2xR"
      }
    },
    {
      "cell_type": "markdown",
      "source": [
        "10. In what years has a movie titled \"Batman\" been released."
      ],
      "metadata": {
        "id": "TszUoXeAkoaA"
      }
    },
    {
      "cell_type": "code",
      "source": [
        "import pandas as pd\n",
        "\n",
        "# Replace 'titles.csv' with the actual path to your CSV file\n",
        "file_path = 'titles.csv'\n",
        "\n",
        "# Read the CSV file into a DataFrame\n",
        "df = pd.read_csv(file_path)\n",
        "\n",
        "# Filter the DataFrame to include only rows where the 'title' column is \"Batman\"\n",
        "batman_movies = df[df['title'] == 'Batman']\n",
        "\n",
        "# Extract and print the unique release years of \"Batman\" movies\n",
        "release_years = batman_movies['year'].unique()\n",
        "\n",
        "print(\"Years in which a movie titled 'Batman' has been released:\")\n",
        "print(sorted(release_years))"
      ],
      "metadata": {
        "colab": {
          "base_uri": "https://localhost:8080/"
        },
        "id": "S5jRB4y4kpo5",
        "outputId": "d9fa0592-cfda-464e-95b9-4be8649385bb"
      },
      "execution_count": 37,
      "outputs": [
        {
          "output_type": "stream",
          "name": "stdout",
          "text": [
            "Years in which a movie titled 'Batman' has been released:\n",
            "[1943, 1989]\n"
          ]
        }
      ]
    },
    {
      "cell_type": "markdown",
      "source": [
        "11.how many roles were there in the movie \"inception\""
      ],
      "metadata": {
        "id": "ymxUHXhffbiL"
      }
    },
    {
      "cell_type": "code",
      "source": [
        "import pandas as pd\n",
        "\n",
        "# Load the CSV file into a DataFrame\n",
        "df = pd.read_csv('titles.csv')\n",
        "\n",
        "# Filter rows where the title is \"Inception\"\n",
        "inception_roles = df[df['title'] == 'Inception']\n",
        "\n",
        "# Count the number of roles in \"Inception\"\n",
        "number_of_roles = len(inception_roles)\n",
        "\n",
        "print(f\"Number of roles in 'Inception': {number_of_roles}\")"
      ],
      "metadata": {
        "colab": {
          "base_uri": "https://localhost:8080/"
        },
        "id": "JaWGC4YyfcyZ",
        "outputId": "b490f5e8-f045-4347-a650-b6396e8dbcdf"
      },
      "execution_count": 14,
      "outputs": [
        {
          "output_type": "stream",
          "name": "stdout",
          "text": [
            "Number of roles in 'Inception': 1\n"
          ]
        }
      ]
    },
    {
      "cell_type": "markdown",
      "source": [
        "12.how many roles in the movie \"inception\" are NOT ranked by an \"n\" value?"
      ],
      "metadata": {
        "id": "DVYJSprtfiFD"
      }
    },
    {
      "cell_type": "code",
      "source": [
        "import pandas as pd\n",
        "\n",
        "# Load the CSV file into a DataFrame\n",
        "df = pd.read_csv('cast.csv')\n",
        "\n",
        "# Filter rows where the title is \"Inception\"\n",
        "inception_roles = df[df['title'] == 'Inception']\n",
        "\n",
        "# Filter the rows where the \"n\" value is not specified (NaN)\n",
        "inception_roles_not_ranked = inception_roles[pd.isnull(inception_roles['n'])]\n",
        "\n",
        "# Count the number of roles in \"Inception\" that are not ranked by an \"n\" value\n",
        "number_of_roles_not_ranked = len(inception_roles_not_ranked)\n",
        "\n",
        "print(f\"Number of roles in 'Inception' not ranked by 'n' value: {number_of_roles_not_ranked}\")"
      ],
      "metadata": {
        "colab": {
          "base_uri": "https://localhost:8080/"
        },
        "id": "o4uFw1bRfnAR",
        "outputId": "ddc58e80-56e9-4aa4-ad08-77c946f9af47"
      },
      "execution_count": 15,
      "outputs": [
        {
          "output_type": "stream",
          "name": "stdout",
          "text": [
            "Number of roles in 'Inception' not ranked by 'n' value: 16\n"
          ]
        }
      ]
    },
    {
      "cell_type": "markdown",
      "source": [
        "13.how many roles in the movie \"inception\" did receive  an \"n\" value?"
      ],
      "metadata": {
        "id": "3XamWz72f9hI"
      }
    },
    {
      "cell_type": "code",
      "source": [
        "import pandas as pd\n",
        "\n",
        "# Load the CSV file into a DataFrame\n",
        "df = pd.read_csv('cast.csv')\n",
        "\n",
        "# Filter rows where the title is \"Inception\"\n",
        "inception_roles = df[df['title'] == 'Inception']\n",
        "\n",
        "# Filter the rows where the \"n\" value is not NaN\n",
        "inception_roles_with_n_value = inception_roles[~pd.isnull(inception_roles['n'])]\n",
        "\n",
        "# Count the number of roles in \"Inception\" that received an \"n\" value\n",
        "number_of_roles_with_n_value = len(inception_roles_with_n_value)\n",
        "\n",
        "print(f\"Number of roles in 'Inception' with 'n' value: {number_of_roles_with_n_value}\")"
      ],
      "metadata": {
        "colab": {
          "base_uri": "https://localhost:8080/"
        },
        "id": "HllKr3hgf_ER",
        "outputId": "0b7944f1-85da-48fc-986d-871824e005bd"
      },
      "execution_count": 17,
      "outputs": [
        {
          "output_type": "stream",
          "name": "stdout",
          "text": [
            "Number of roles in 'Inception' with 'n' value: 21\n"
          ]
        }
      ]
    },
    {
      "cell_type": "markdown",
      "source": [
        "14.Display the cast of \"North by Northwest in their correct \"n\"-value order, ignoring roles that did not eam a numeric \"n\" value."
      ],
      "metadata": {
        "id": "xJRegG3WgN64"
      }
    },
    {
      "cell_type": "code",
      "source": [
        "import pandas as pd\n",
        "\n",
        "# Load the CSV file into a DataFrame\n",
        "df = pd.read_csv('cast.csv')\n",
        "\n",
        "# Filter rows where the title is \"North by Northwest\"\n",
        "north_by_northwest_cast = df[(df['title'] == 'North by Northwest') & (pd.to_numeric(df['n'], errors='coerce').notna())]\n",
        "\n",
        "# Sort the cast by the \"n\" values in ascending order\n",
        "north_by_northwest_cast = north_by_northwest_cast.sort_values(by='n')\n",
        "\n",
        "# Display the cast\n",
        "print(north_by_northwest_cast[['n', 'name']])"
      ],
      "metadata": {
        "colab": {
          "base_uri": "https://localhost:8080/"
        },
        "id": "J1rVqbEdgSlp",
        "outputId": "95a192d2-9ba0-47bd-ece3-d0b76f79f0a4"
      },
      "execution_count": 19,
      "outputs": [
        {
          "output_type": "stream",
          "name": "stdout",
          "text": [
            "            n               name\n",
            "871426    1.0         Cary Grant\n",
            "356707    5.0     Leo G. Carroll\n",
            "1275337   8.0      Martin Landau\n",
            "665768   11.0  Robert Ellenstein\n",
            "464736   13.0    Philip Coolidge\n",
            "206471   15.0       Edward Binns\n"
          ]
        }
      ]
    },
    {
      "cell_type": "markdown",
      "source": [
        "15.display the entire cast in \"n\"-order of the 1972 film \"sleuth\""
      ],
      "metadata": {
        "id": "WxT-tZyrgeEz"
      }
    },
    {
      "cell_type": "code",
      "source": [
        "import pandas as pd\n",
        "\n",
        "# Load the CSV file into a DataFrame\n",
        "df = pd.read_csv('cast.csv')\n",
        "\n",
        "# Filter rows where the title is \"Sleuth\" and the year is 1972\n",
        "sleuth_1972_cast = df[(df['title'] == 'Sleuth') & (df['year'] == 1972)]\n",
        "\n",
        "# Sort the cast by the \"n\" values in ascending order\n",
        "sleuth_1972_cast = sleuth_1972_cast.sort_values(by='n')\n",
        "\n",
        "# Display the entire cast\n",
        "print(sleuth_1972_cast[['n', 'name']])"
      ],
      "metadata": {
        "colab": {
          "base_uri": "https://localhost:8080/"
        },
        "id": "oA-JkP0lghph",
        "outputId": "20584cb1-18b8-4a95-fe37-16d5df25013b"
      },
      "execution_count": 21,
      "outputs": [
        {
          "output_type": "stream",
          "name": "stdout",
          "text": [
            "          n            name\n",
            "326773  2.0   Michael Caine\n",
            "373876  3.0  Alec Cawthorne\n"
          ]
        }
      ]
    },
    {
      "cell_type": "markdown",
      "source": [
        "16.now display the entire cast in \"n\" -order of the 2007 version of \"sleuth\""
      ],
      "metadata": {
        "id": "aGUTvkblgqhi"
      }
    },
    {
      "cell_type": "code",
      "source": [
        "import pandas as pd\n",
        "\n",
        "# Load the CSV file into a DataFrame\n",
        "df = pd.read_csv('cast.csv')\n",
        "\n",
        "# Filter rows where the title is \"Sleuth\" and the year is 2007\n",
        "sleuth_2007_cast = df[(df['title'] == 'Sleuth') & (df['year'] == 2007)]\n",
        "\n",
        "# Sort the cast by the \"n\" values in ascending order\n",
        "sleuth_2007_cast = sleuth_2007_cast.sort_values(by='n')\n",
        "\n",
        "# Display the entire cast\n",
        "print(sleuth_2007_cast[['n', 'name']])"
      ],
      "metadata": {
        "colab": {
          "base_uri": "https://localhost:8080/"
        },
        "id": "OMECfurRgz75",
        "outputId": "f02db9cd-e647-4108-c7b8-917a90c72648"
      },
      "execution_count": 22,
      "outputs": [
        {
          "output_type": "stream",
          "name": "stdout",
          "text": [
            "           n                 name\n",
            "326774   1.0        Michael Caine\n",
            "1293634  2.0             Jude Law\n",
            "260242   NaN      Kenneth Branagh\n",
            "373877   NaN  Alec (II) Cawthorne\n"
          ]
        }
      ]
    },
    {
      "cell_type": "markdown",
      "source": [
        "17.how many roles were credited in the silent 1921 version of hamlet?"
      ],
      "metadata": {
        "id": "k4g-EQKng6iC"
      }
    },
    {
      "cell_type": "code",
      "source": [
        "import pandas as pd\n",
        "\n",
        "# Load the CSV file into a DataFrame\n",
        "df = pd.read_csv('cast.csv')\n",
        "\n",
        "# Filter rows where the title is \"Hamlet\" and the year is 1921\n",
        "hamlet_1921_cast = df[(df['title'] == 'Hamlet') & (df['year'] == 1921)]\n",
        "\n",
        "# Count the number of credited roles in the silent 1921 version of \"Hamlet\"\n",
        "number_of_credited_roles = len(hamlet_1921_cast)\n",
        "\n",
        "print(f\"Number of credited roles in the silent 1921 version of 'Hamlet': {number_of_credited_roles}\")"
      ],
      "metadata": {
        "colab": {
          "base_uri": "https://localhost:8080/"
        },
        "id": "WVxAxVU3g_kB",
        "outputId": "a9dff0d1-3952-404a-da09-a3140f60c3e9"
      },
      "execution_count": 23,
      "outputs": [
        {
          "output_type": "stream",
          "name": "stdout",
          "text": [
            "Number of credited roles in the silent 1921 version of 'Hamlet': 4\n"
          ]
        }
      ]
    },
    {
      "cell_type": "markdown",
      "source": [],
      "metadata": {
        "id": "_6N1KeCMhFzh"
      }
    },
    {
      "cell_type": "markdown",
      "source": [
        "18.How many roles were credited in Branagh's 1996 hamlet?"
      ],
      "metadata": {
        "id": "kG0pcLTYhF2c"
      }
    },
    {
      "cell_type": "code",
      "source": [
        "import pandas as pd\n",
        "\n",
        "# Load the CSV file into a DataFrame\n",
        "df = pd.read_csv('cast.csv')\n",
        "\n",
        "# Filter rows where the title is \"Hamlet,\" the year is 1996, and the name is \"Kenneth Branagh\"\n",
        "hamlet_1996_branagh_cast = df[(df['title'] == 'Hamlet') & (df['year'] == 1996) & (df['name'] == 'Kenneth Branagh')]\n",
        "\n",
        "# Count the number of credited roles for Kenneth Branagh in the 1996 version of \"Hamlet\"\n",
        "number_of_credited_roles = len(hamlet_1996_branagh_cast)\n",
        "\n",
        "print(f\"Number of roles credited to Kenneth Branagh in the 1996 version of 'Hamlet': {number_of_credited_roles}\")"
      ],
      "metadata": {
        "colab": {
          "base_uri": "https://localhost:8080/"
        },
        "id": "Vy2rB0z5hKyB",
        "outputId": "183e76ad-5861-44e3-8697-5dc2465d5987"
      },
      "execution_count": 24,
      "outputs": [
        {
          "output_type": "stream",
          "name": "stdout",
          "text": [
            "Number of roles credited to Kenneth Branagh in the 1996 version of 'Hamlet': 1\n"
          ]
        }
      ]
    },
    {
      "cell_type": "markdown",
      "source": [
        "21. How many people have played a role called \"The Dude\"."
      ],
      "metadata": {
        "id": "mtMewElThYey"
      }
    },
    {
      "cell_type": "code",
      "source": [
        "import pandas as pd\n",
        "\n",
        "# Replace 'cast.csv' with the actual path to your CSV file\n",
        "file_path = 'cast.csv'\n",
        "\n",
        "# Read the CSV file into a DataFrame\n",
        "df = pd.read_csv(file_path)\n",
        "\n",
        "# Filter the DataFrame to include only rows where the 'character' column is \"The Dude\"\n",
        "the_dude_actors = df[df['character'] == 'The Dude']\n",
        "\n",
        "# Count the number of unique actors who played the role \"The Dude\"\n",
        "number_of_dude_actors = the_dude_actors['name'].nunique()\n",
        "\n",
        "print(\"Number of people who played a role called 'The Dude':\", number_of_dude_actors)"
      ],
      "metadata": {
        "colab": {
          "base_uri": "https://localhost:8080/"
        },
        "id": "l68lQ3wMhZ4x",
        "outputId": "928bcf51-ac50-4f92-d979-80e6c2bb9084"
      },
      "execution_count": 25,
      "outputs": [
        {
          "output_type": "stream",
          "name": "stdout",
          "text": [
            "Number of people who played a role called 'The Dude': 9\n"
          ]
        }
      ]
    },
    {
      "cell_type": "markdown",
      "source": [
        "22. How many people have played a role called \"The Stranger\"."
      ],
      "metadata": {
        "id": "m3RnpwAChiQi"
      }
    },
    {
      "cell_type": "code",
      "source": [
        "# Replace 'cast.csv' with the actual path to your CSV file\n",
        "file_path = 'cast.csv'\n",
        "\n",
        "# Read the CSV file into a DataFram\n",
        "df = pd.read_csv(file_path)\n",
        "\n",
        "# Filter the DataFrame to include only rows where the 'character' column is \"The Dude\"\n",
        "the_dude_actors = df[df['character'] == 'The Stranger']\n",
        "\n",
        "# Count the number of unique actors who played the role \"The Dude\"\n",
        "number_of_dude_actors = the_dude_actors['name'].nunique()\n",
        "\n",
        "print(\"Number of people who played a role called 'The Stranger':\", number_of_dude_actors)"
      ],
      "metadata": {
        "colab": {
          "base_uri": "https://localhost:8080/"
        },
        "id": "vyrFtLbVhjYJ",
        "outputId": "86e1d1af-7dec-42a8-bedb-08dfa1555823"
      },
      "execution_count": 26,
      "outputs": [
        {
          "output_type": "stream",
          "name": "stdout",
          "text": [
            "Number of people who played a role called 'The Stranger': 98\n"
          ]
        }
      ]
    },
    {
      "cell_type": "markdown",
      "source": [],
      "metadata": {
        "id": "hujySz7shndj"
      }
    },
    {
      "cell_type": "markdown",
      "source": [
        "23. How many roles has Sidney Poitier played throughout his career."
      ],
      "metadata": {
        "id": "vlzW2lTWhngp"
      }
    },
    {
      "cell_type": "code",
      "source": [
        "import pandas as pd\n",
        "\n",
        "# Replace 'cast.csv' with the actual path to your CSV file\n",
        "file_path = 'cast.csv'\n",
        "\n",
        "# Read the CSV file into a DataFrame\n",
        "df = pd.read_csv(file_path)\n",
        "\n",
        "# Filter the DataFrame to include only rows where the 'name' column is \"Sidney Poitier\"\n",
        "sidney_poitier_roles = df[df['name'] == 'Sidney Poitier']\n",
        "\n",
        "# Count the number of unique roles played by Sidney Poitier\n",
        "number_of_roles_played = sidney_poitier_roles['character'].nunique()\n",
        "\n",
        "print(\"Number of roles played by Sidney Poitier throughout his career:\", number_of_roles_played)"
      ],
      "metadata": {
        "colab": {
          "base_uri": "https://localhost:8080/"
        },
        "id": "zvx3e4r2hsjJ",
        "outputId": "cca16b10-197c-482c-b1ab-8d49015211de"
      },
      "execution_count": 27,
      "outputs": [
        {
          "output_type": "stream",
          "name": "stdout",
          "text": [
            "Number of roles played by Sidney Poitier throughout his career: 0\n"
          ]
        }
      ]
    },
    {
      "cell_type": "markdown",
      "source": [],
      "metadata": {
        "id": "G2vQdz22h8hh"
      }
    },
    {
      "cell_type": "markdown",
      "source": [
        "24. How many roles has Judi Dench played."
      ],
      "metadata": {
        "id": "k8Bi5hAeh8lS"
      }
    },
    {
      "cell_type": "code",
      "source": [
        "import pandas as pd\n",
        "\n",
        "# Replace 'cast.csv' with the actual path to your CSV file\n",
        "file_path = 'cast.csv'\n",
        "\n",
        "# Read the CSV file into a DataFrame\n",
        "df = pd.read_csv(file_path)\n",
        "\n",
        "# Filter the DataFrame to include only rows where the 'name' column is \"Judi Dench\"\n",
        "judi_dench_roles = df[df['name'] == 'Judi Dench']\n",
        "\n",
        "# Count the number of unique roles played by Judi Dench\n",
        "number_of_roles_played = judi_dench_roles['character'].nunique()\n",
        "\n",
        "print(\"Number of roles played by Judi Dench throughout her career:\", number_of_roles_played)"
      ],
      "metadata": {
        "colab": {
          "base_uri": "https://localhost:8080/"
        },
        "id": "P_hOwtQ_iAqp",
        "outputId": "d36fa2ed-6110-407c-b6ba-96eb8186351a"
      },
      "execution_count": 28,
      "outputs": [
        {
          "output_type": "stream",
          "name": "stdout",
          "text": [
            "Number of roles played by Judi Dench throughout her career: 0\n"
          ]
        }
      ]
    },
    {
      "cell_type": "markdown",
      "source": [
        "26.list the leading roles that cary Grant played in the 1940s in order by year."
      ],
      "metadata": {
        "id": "nsRwqP8LiNh7"
      }
    },
    {
      "cell_type": "code",
      "source": [
        "import pandas as pd\n",
        "\n",
        "# Load the CSV file into a DataFrame\n",
        "df = pd.read_csv('cast.csv')\n",
        "\n",
        "# Filter rows where the name is \"Cary Grant\" and the year is in the 1940s\n",
        "cary_grant_1940s_roles = df[(df['name'] == 'Cary Grant') & (df['year'] >= 1940) & (df['year'] <= 1949)]\n",
        "\n",
        "# Filter rows where the \"n\" value is 1, indicating a leading role\n",
        "leading_roles = cary_grant_1940s_roles[cary_grant_1940s_roles['n'] == 1]\n",
        "\n",
        "# Sort the leading roles by year\n",
        "leading_roles_sorted = leading_roles.sort_values(by='year')\n",
        "\n",
        "# Display the list of leading roles\n",
        "print(leading_roles_sorted[['year', 'title']])"
      ],
      "metadata": {
        "colab": {
          "base_uri": "https://localhost:8080/"
        },
        "id": "WJnZYlNpiOcY",
        "outputId": "4b6f1f1d-7002-4f74-e8c1-9ef3b890b0fd"
      },
      "execution_count": 29,
      "outputs": [
        {
          "output_type": "stream",
          "name": "stdout",
          "text": [
            "          year                                 title\n",
            "871448  1940.0               The Howards of Virginia\n",
            "871407  1940.0                       His Girl Friday\n",
            "871450  1940.0                The Philadelphia Story\n",
            "871438  1941.0                             Suspicion\n",
            "871452  1942.0                  The Talk of the Town\n",
            "871429  1942.0                 Once Upon a Honeymoon\n",
            "871398  1943.0                     Destination Tokyo\n",
            "871422  1943.0                             Mr. Lucky\n",
            "871430  1944.0                      Once Upon a Time\n",
            "871390  1944.0                  Arsenic and Old Lace\n",
            "871425  1944.0             None But the Lonely Heart\n",
            "871424  1946.0                         Night and Day\n",
            "871427  1946.0                             Notorious\n",
            "871444  1947.0      The Bachelor and the Bobby-Soxer\n",
            "871445  1947.0                     The Bishop's Wife\n",
            "871421  1948.0  Mr. Blandings Builds His Dream House\n",
            "871402  1948.0          Every Girl Should Be Married\n",
            "871411  1949.0                I Was a Male War Bride\n"
          ]
        }
      ]
    },
    {
      "cell_type": "markdown",
      "source": [
        "27.how many roles were available for actors in the 1950s?"
      ],
      "metadata": {
        "id": "A2HwUKc9iaep"
      }
    },
    {
      "cell_type": "code",
      "source": [
        "import pandas as pd\n",
        "\n",
        "# Load the CSV file into a DataFrame\n",
        "df = pd.read_csv('cast.csv')\n",
        "\n",
        "# Filter rows where the year is in the 1950s\n",
        "roles_in_1950s = df[(df['year'] >= 1950) & (df['year'] <= 1959)]\n",
        "\n",
        "# Count the number of roles available for actors in the 1950s\n",
        "number_of_roles_in_1950s = len(roles_in_1950s)\n",
        "\n",
        "print(f\"Number of roles available for actors in the 1950s: {number_of_roles_in_1950s}\")"
      ],
      "metadata": {
        "colab": {
          "base_uri": "https://localhost:8080/"
        },
        "id": "bNjM5d6gipUw",
        "outputId": "8c9db354-650a-487a-890b-4d302acaac39"
      },
      "execution_count": 31,
      "outputs": [
        {
          "output_type": "stream",
          "name": "stdout",
          "text": [
            "Number of roles available for actors in the 1950s: 84007\n"
          ]
        }
      ]
    },
    {
      "cell_type": "markdown",
      "source": [
        "28.how many roles were available for actorsses in the 1950s?"
      ],
      "metadata": {
        "id": "5OA_joE-izOo"
      }
    },
    {
      "cell_type": "code",
      "source": [
        "import pandas as pd\n",
        "\n",
        "# Load the CSV file into a DataFrame\n",
        "df = pd.read_csv('cast.csv')\n",
        "\n",
        "# Filter rows where the year is in the 1950s\n",
        "roles_in_1950s = df[(df['year'] >= 1950) & (df['year'] <= 1959)]\n",
        "\n",
        "# Count the number of roles available for actors in the 1950s\n",
        "number_of_roles_in_1950s = len(roles_in_1950s)\n",
        "\n",
        "print(f\"Number of roles available for actors in the 1950s: {number_of_roles_in_1950s}\")"
      ],
      "metadata": {
        "colab": {
          "base_uri": "https://localhost:8080/"
        },
        "id": "9QkfF8MJi22Z",
        "outputId": "df1daec6-e18d-4ca4-97e3-3b169935bbb4"
      },
      "execution_count": 32,
      "outputs": [
        {
          "output_type": "stream",
          "name": "stdout",
          "text": [
            "Number of roles available for actors in the 1950s: 84007\n"
          ]
        }
      ]
    },
    {
      "cell_type": "markdown",
      "source": [
        "25. List the supporting roles (having n=2) played by Cary Grant in the 1940s, in order by year."
      ],
      "metadata": {
        "id": "TRyq21zIi7Cn"
      }
    },
    {
      "cell_type": "markdown",
      "source": [],
      "metadata": {
        "id": "azWiyFSVi6_K"
      }
    },
    {
      "cell_type": "code",
      "source": [
        "import pandas as pd\n",
        "\n",
        "# Replace 'cast.csv' with the actual path to your CSV file\n",
        "file_path = 'cast.csv'\n",
        "\n",
        "# Read the CSV file into a DataFrame\n",
        "df = pd.read_csv(file_path)\n",
        "\n",
        "# Filter the DataFrame to include only rows where the 'name' column is \"Cary Grant\"\n",
        "# and 'n' column is 2 (supporting roles), and the 'year' column is in the 1940s\n",
        "cary_grant_supporting_roles_1940s = df[(df['name'] == 'Cary Grant') & (df['n'] == 2) & (df['year'] // 10 == 194)]\n",
        "\n",
        "# Sort the filtered DataFrame by 'year' in ascending order\n",
        "sorted_cary_grant_supporting_roles_1940s = cary_grant_supporting_roles_1940s.sort_values(by='year')\n",
        "\n",
        "# Print the list of supporting roles played by Cary Grant in the 1940s\n",
        "print(\"Supporting roles played by Cary Grant in the 1940s:\")\n",
        "print(sorted_cary_grant_supporting_roles_1940s)"
      ],
      "metadata": {
        "colab": {
          "base_uri": "https://localhost:8080/"
        },
        "id": "esF8BPtci_MK",
        "outputId": "a34e9332-a905-47de-c3c8-24ab9e188b41"
      },
      "execution_count": 33,
      "outputs": [
        {
          "output_type": "stream",
          "name": "stdout",
          "text": [
            "Supporting roles played by Cary Grant in the 1940s:\n",
            "                   title    year        name   type    character    n\n",
            "871423  My Favorite Wife  1940.0  Cary Grant  actor   Nick Arden  2.0\n",
            "871433    Penny Serenade  1941.0  Cary Grant  actor  Roger Adams  2.0\n"
          ]
        }
      ]
    },
    {
      "cell_type": "markdown",
      "source": [
        "29.how many leading roles (n==1) were available from the beginning of film history through 1980?"
      ],
      "metadata": {
        "id": "MdGz7-AAjRF1"
      }
    },
    {
      "cell_type": "code",
      "source": [
        "import pandas as pd\n",
        "\n",
        "# Load the CSV file into a DataFrame\n",
        "df = pd.read_csv('cast.csv')\n",
        "\n",
        "# Filter rows where the year is less than or equal to 1980 and n is 1 (indicating a leading role)\n",
        "leading_roles_through_1980 = df[(df['year'] <= 1980) & (df['n'] == 1)]\n",
        "\n",
        "# Count the number of leading roles available from the beginning of film history through 1980\n",
        "number_of_leading_roles_through_1980 = len(leading_roles_through_1980)\n",
        "\n",
        "print(f\"Number of leading roles available from the beginning of film history through 1980: {number_of_leading_roles_through_1980}\")"
      ],
      "metadata": {
        "colab": {
          "base_uri": "https://localhost:8080/"
        },
        "id": "KhwL6mNUjXzR",
        "outputId": "a797ade0-d820-40c0-a469-a536b083e255"
      },
      "execution_count": 34,
      "outputs": [
        {
          "output_type": "stream",
          "name": "stdout",
          "text": [
            "Number of leading roles available from the beginning of film history through 1980: 23881\n"
          ]
        }
      ]
    },
    {
      "cell_type": "markdown",
      "source": [
        "30. how many non -leading roles  were available through from the beginning of film history through 1980?"
      ],
      "metadata": {
        "id": "Lzy8ReNljk0I"
      }
    },
    {
      "cell_type": "code",
      "source": [
        "import pandas as pd\n",
        "\n",
        "# Load the CSV file into a DataFrame\n",
        "df = pd.read_csv('cast.csv')\n",
        "\n",
        "# Filter rows where the year is less than or equal to 1980 and n is 1 (indicating a leading role)\n",
        "leading_roles_through_1980 = df[(df['year'] <= 1980) & (df['n'] == 1)]\n",
        "\n",
        "# Count the number of leading roles available from the beginning of film history through 1980\n",
        "number_of_leading_roles_through_1980 = len(leading_roles_through_1980)\n",
        "\n",
        "print(f\"Number of leading roles available from the beginning of film history through 1980: {number_of_leading_roles_through_1980}\")"
      ],
      "metadata": {
        "colab": {
          "base_uri": "https://localhost:8080/"
        },
        "id": "Is0Edg0fjnTh",
        "outputId": "4d63802d-9811-4b89-db62-25ab3299b36c"
      },
      "execution_count": 35,
      "outputs": [
        {
          "output_type": "stream",
          "name": "stdout",
          "text": [
            "Number of leading roles available from the beginning of film history through 1980: 23881\n"
          ]
        }
      ]
    },
    {
      "cell_type": "markdown",
      "source": [
        "31.how many roles through 1980 were minor enough that they did not warrant a numeric \"n\" rank?"
      ],
      "metadata": {
        "id": "1JBRn-TUkA96"
      }
    },
    {
      "cell_type": "code",
      "source": [
        "import pandas as pd\n",
        "\n",
        "# Load the CSV file into a DataFrame\n",
        "df = pd.read_csv('cast.csv')\n",
        "\n",
        "# Filter rows where the year is less than or equal to 1980 and the \"n\" value is not a numeric rank (NaN)\n",
        "minor_roles_without_numeric_rank = df[(df['year'] <= 1980) & pd.to_numeric(df['n'], errors='coerce').isna()]\n",
        "\n",
        "# Count the number of minor roles without a numeric \"n\" rank through 1980\n",
        "number_of_minor_roles_without_numeric_rank = len(minor_roles_without_numeric_rank)\n",
        "\n",
        "print(f\"Number of roles through 1980 that did not warrant a numeric 'n' rank: {number_of_minor_roles_without_numeric_rank}\")"
      ],
      "metadata": {
        "colab": {
          "base_uri": "https://localhost:8080/"
        },
        "id": "ZttrohZHkFiZ",
        "outputId": "ab0c4b07-7e2a-48c3-915d-2839ecb3bc81"
      },
      "execution_count": 36,
      "outputs": [
        {
          "output_type": "stream",
          "name": "stdout",
          "text": [
            "Number of roles through 1980 that did not warrant a numeric 'n' rank: 184933\n"
          ]
        }
      ]
    }
  ]
}